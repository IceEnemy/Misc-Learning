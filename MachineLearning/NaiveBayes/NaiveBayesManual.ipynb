{
 "cells": [
  {
   "cell_type": "code",
   "execution_count": 1,
   "metadata": {},
   "outputs": [],
   "source": [
    "import numpy as np\n",
    "import matplotlib.pyplot as plt\n",
    "import pandas as pd\n",
    "import sklearn as sk\n",
    "import seaborn as sns"
   ]
  },
  {
   "cell_type": "code",
   "execution_count": 2,
   "metadata": {},
   "outputs": [],
   "source": [
    "dataset = pd.read_csv('titanic.csv')\n",
    "\n",
    "from sklearn.model_selection import train_test_split\n",
    "\n",
    "dataset = dataset.drop(columns=['Age','Cabin','Embarked', 'Name', 'Sex', 'Ticket', 'PassengerId'])\n",
    "\n",
    "X = dataset.drop('Survived', axis=1)\n",
    "y = dataset['Survived']\n",
    "\n",
    "X_train, X_test, y_train, y_test = train_test_split(X, y, test_size=0.3, random_state=26)"
   ]
  },
  {
   "cell_type": "code",
   "execution_count": 3,
   "metadata": {},
   "outputs": [],
   "source": [
    "from scipy.optimize import curve_fit\n",
    "\n",
    "class NaiveBayes:\n",
    "    def __init__(self):\n",
    "        pVars = None\n",
    "        pVarGivenClass = None\n",
    "        pClass = None\n",
    "\n",
    "    def Gauss(x, A, B):\n",
    "        y = A * np.exp(-B * x**2)\n",
    "        return y\n",
    "    \n",
    "    def fit(self, X, y):\n",
    "        parameters, covariance = curve_fit(self.Gauss, X, y)\n",
    "\n",
    "        pVars = parameters[0]\n",
    "        pVarGivenClass = parameters[1]\n",
    "\n",
    "    def predict(self, X):\n",
    "        fit_y = self.Gauss(X, pVars, pVarGivenClass)\n",
    "        \n",
    "    \n",
    "    "
   ]
  }
 ],
 "metadata": {
  "kernelspec": {
   "display_name": "Python 3",
   "language": "python",
   "name": "python3"
  },
  "language_info": {
   "codemirror_mode": {
    "name": "ipython",
    "version": 3
   },
   "file_extension": ".py",
   "mimetype": "text/x-python",
   "name": "python",
   "nbconvert_exporter": "python",
   "pygments_lexer": "ipython3",
   "version": "3.10.11"
  }
 },
 "nbformat": 4,
 "nbformat_minor": 2
}
