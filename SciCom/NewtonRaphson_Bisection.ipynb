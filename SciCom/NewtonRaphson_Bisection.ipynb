{
 "cells": [
  {
   "cell_type": "code",
   "execution_count": 1,
   "metadata": {},
   "outputs": [],
   "source": [
    "import numpy as np"
   ]
  },
  {
   "cell_type": "code",
   "execution_count": 2,
   "metadata": {},
   "outputs": [],
   "source": [
    "def f(x):\n",
    "    return x**6+2*x**2-3\n",
    "def f_deriv(x):\n",
    "    return 6*x**5+4*x"
   ]
  },
  {
   "cell_type": "code",
   "execution_count": 3,
   "metadata": {},
   "outputs": [],
   "source": [
    "def newton_raphson(f0,f1,x0,epsilon = 0.01,max_iteration = 15):\n",
    "    for i in range(max_iteration):\n",
    "        x1 = x0 - (f0(x0)/f1(x0))\n",
    "        print(f\"Iteration of {i+1}. new root = {x1}\")\n",
    "        if np.abs(f0(x1)) < epsilon:\n",
    "            return x1\n",
    "        else:\n",
    "            x0 = x1\n",
    "    return None"
   ]
  },
  {
   "cell_type": "code",
   "execution_count": 4,
   "metadata": {},
   "outputs": [
    {
     "name": "stdout",
     "output_type": "stream",
     "text": [
      "Iteration of 1. new root = 3.330357142857143\n",
      "Iteration of 2. new root = 2.7705278067251076\n",
      "Iteration of 3. new root = 2.3014692834655897\n",
      "Iteration of 4. new root = 1.9076486911265778\n",
      "Iteration of 5. new root = 1.5780738506315775\n",
      "Iteration of 6. new root = 1.3101344278134677\n",
      "Iteration of 7. new root = 1.1168277838634215\n",
      "Iteration of 8. new root = 1.0204619280744585\n",
      "Iteration of 9. new root = 1.0006965918207418\n",
      "the root of equation is: 1.0006965918207418\n"
     ]
    }
   ],
   "source": [
    "ans = newton_raphson(f,f_deriv,4)\n",
    "if ans != None:\n",
    "    print(f\"the root of equation is: {ans}\")\n",
    "else:\n",
    "    print(\"The equation is divergent\")"
   ]
  },
  {
   "cell_type": "code",
   "execution_count": 5,
   "metadata": {},
   "outputs": [],
   "source": [
    "def g(x):\n",
    "    return 10*x**3+8*x**2+9"
   ]
  },
  {
   "cell_type": "code",
   "execution_count": 6,
   "metadata": {},
   "outputs": [],
   "source": [
    "coordinates = [\n",
    "    [3, 4],\n",
    "    [-10, 17],\n",
    "    [10, -15],\n",
    "    [-2, 4],\n",
    "    [12, -5],\n",
    "    [-8, -13],\n",
    "    [7, -21],\n",
    "]\n"
   ]
  },
  {
   "cell_type": "code",
   "execution_count": 7,
   "metadata": {},
   "outputs": [],
   "source": [
    "def bisection(f,left,right,epsilon = 0.001):\n",
    "    if np.sign(f(left)) == np.sign(f(right)):\n",
    "        return None\n",
    "    mid = (left+right)/2\n",
    "    if np.abs(f(mid)) < epsilon:\n",
    "        return mid\n",
    "    elif np.sign(f(left)) == np.sign(f(mid)):\n",
    "        return bisection(f,mid,right)\n",
    "    elif np.sign(f(right)) == np.sign(f(mid)):\n",
    "        return bisection(f,left,mid)"
   ]
  },
  {
   "cell_type": "code",
   "execution_count": 8,
   "metadata": {},
   "outputs": [
    {
     "name": "stdout",
     "output_type": "stream",
     "text": [
      "a = 3 and b = 4 not bound a root\n",
      "root of the function = -1.3180370330810547 with coordinates of x1 = -10 and x2 = 17\n",
      "root of the function = -1.318063735961914 with coordinates of x1 = 10 and x2 = -15\n",
      "root of the function = -1.318023681640625 with coordinates of x1 = -2 and x2 = 4\n",
      "root of the function = -1.318084716796875 with coordinates of x1 = 12 and x2 = -5\n",
      "a = -8 and b = -13 not bound a root\n",
      "root of the function = -1.31805419921875 with coordinates of x1 = 7 and x2 = -21\n"
     ]
    }
   ],
   "source": [
    "for left,right in coordinates:\n",
    "    ans = bisection(g,left,right)\n",
    "    if ans != None:\n",
    "        print(f\"root of the function = {ans} with coordinates of x1 = {left} and x2 = {right}\")\n",
    "    else:\n",
    "        print(f\"a = {left} and b = {right} not bound a root\")"
   ]
  }
 ],
 "metadata": {
  "kernelspec": {
   "display_name": "Python 3",
   "language": "python",
   "name": "python3"
  },
  "language_info": {
   "codemirror_mode": {
    "name": "ipython",
    "version": 3
   },
   "file_extension": ".py",
   "mimetype": "text/x-python",
   "name": "python",
   "nbconvert_exporter": "python",
   "pygments_lexer": "ipython3",
   "version": "3.10.11"
  },
  "orig_nbformat": 4
 },
 "nbformat": 4,
 "nbformat_minor": 2
}
