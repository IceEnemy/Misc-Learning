{
 "cells": [
  {
   "cell_type": "code",
   "execution_count": 1,
   "metadata": {},
   "outputs": [],
   "source": [
    "import numpy as np"
   ]
  },
  {
   "cell_type": "code",
   "execution_count": 2,
   "metadata": {},
   "outputs": [],
   "source": [
    "def f(x):\n",
    "    return x**6 + 2*x**2 - 3\n",
    "\n",
    "def f_deriv(x):\n",
    "    return 6*x**5 + 4*x"
   ]
  },
  {
   "cell_type": "code",
   "execution_count": 9,
   "metadata": {},
   "outputs": [],
   "source": [
    "def newton_raph(f0,f1,x0,epsilon = 0.01, max_iteration = 15):\n",
    "    for i in range(max_iteration):\n",
    "        x1 = x0 - (f0(x0)/f1(x0))\n",
    "        print(f\"Iteration {i+1}: {x1}\")\n",
    "        if np.abs(f0(x1)) < epsilon:\n",
    "            print(\"\")\n",
    "            return x1\n",
    "        else:\n",
    "            x0 = x1\n",
    "    return None"
   ]
  },
  {
   "cell_type": "code",
   "execution_count": 11,
   "metadata": {},
   "outputs": [
    {
     "name": "stdout",
     "output_type": "stream",
     "text": [
      "Iteration 1: 3.330357142857143\n",
      "Iteration 2: 2.7705278067251076\n",
      "Iteration 3: 2.3014692834655897\n",
      "Iteration 4: 1.9076486911265778\n",
      "Iteration 5: 1.5780738506315775\n",
      "Iteration 6: 1.3101344278134677\n",
      "Iteration 7: 1.1168277838634215\n",
      "Iteration 8: 1.0204619280744585\n",
      "Iteration 9: 1.0006965918207418\n",
      "\n",
      "The root is 1.0006965918207418\n"
     ]
    }
   ],
   "source": [
    "ans = newton_raph(f,f_deriv,4)\n",
    "\n",
    "if ans != None:\n",
    "    print(f\"The root is {ans}\")\n",
    "else:\n",
    "    print(\"Root is divergent\")"
   ]
  }
 ],
 "metadata": {
  "kernelspec": {
   "display_name": "Python 3",
   "language": "python",
   "name": "python3"
  },
  "language_info": {
   "codemirror_mode": {
    "name": "ipython",
    "version": 3
   },
   "file_extension": ".py",
   "mimetype": "text/x-python",
   "name": "python",
   "nbconvert_exporter": "python",
   "pygments_lexer": "ipython3",
   "version": "3.10.11"
  },
  "orig_nbformat": 4
 },
 "nbformat": 4,
 "nbformat_minor": 2
}
