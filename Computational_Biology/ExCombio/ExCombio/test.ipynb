{
 "cells": [
  {
   "cell_type": "code",
   "execution_count": 29,
   "metadata": {},
   "outputs": [],
   "source": [
    "import Bio\n",
    "from Bio.Seq import Seq\n",
    "from Bio import SeqIO\n",
    "import numpy\n",
    "import matplotlib.pyplot as plt"
   ]
  },
  {
   "cell_type": "code",
   "execution_count": 7,
   "metadata": {},
   "outputs": [
    {
     "name": "stdout",
     "output_type": "stream",
     "text": [
      "1883\n",
      "1050\n"
     ]
    }
   ],
   "source": [
    "seqx = SeqIO.read(\"x.fasta\",\"fasta\")\n",
    "seqy = SeqIO.read(\"y.fasta\",\"fasta\")\n",
    "\n",
    "print(len(seqx))\n",
    "print(len(seqy))"
   ]
  },
  {
   "cell_type": "code",
   "execution_count": 5,
   "metadata": {},
   "outputs": [
    {
     "name": "stdout",
     "output_type": "stream",
     "text": [
      "XM_006779407.2\n"
     ]
    }
   ],
   "source": [
    "print(seqx.id)"
   ]
  },
  {
   "cell_type": "code",
   "execution_count": 6,
   "metadata": {},
   "outputs": [
    {
     "name": "stdout",
     "output_type": "stream",
     "text": [
      "ID: XM_006779407.2\n",
      "Name: XM_006779407.2\n",
      "Description: XM_006779407.2 PREDICTED: Myotis davidii seryl-tRNA synthetase (SARS), mRNA\n",
      "Number of features: 0\n",
      "Seq('ATGGTGTTGGATCTGGACTTGTTTCGGACGGATAAAGGAGGAGACCCGGACCGC...TCA')\n"
     ]
    }
   ],
   "source": [
    "print(seqx)"
   ]
  },
  {
   "cell_type": "code",
   "execution_count": 11,
   "metadata": {},
   "outputs": [
    {
     "name": "stdout",
     "output_type": "stream",
     "text": [
      "51\n",
      "39\n"
     ]
    }
   ],
   "source": [
    "print(seqx.seq.find(\"CGC\"))\n",
    "print(seqy.seq.find(\"CGC\"))"
   ]
  },
  {
   "cell_type": "code",
   "execution_count": 20,
   "metadata": {},
   "outputs": [
    {
     "name": "stdout",
     "output_type": "stream",
     "text": [
      "ATGGTGTTGGATCTGGACTTGTTTCGGACGGATAAAGGAGGAGACCCGGACCGCATCCGAGAGACGCAAAAGAACCGCTTCAAGGACCCGGGACTCGTGGATCGGCTGGTGAAGGCGGACGGCGAGTGGCGAAAATGCAGATTTCAGACCGACAACTTGAACAAGCTGAAGAACCTATGCAGCAAGACAATTGGAGAGAAAATGAAGAAAAAAGAGCCAGTGGGAAATGATGAGTCCATTCCGGAGAACTTGTTAAATCTCGATGACCTCACTTCAGACACTTTAGCTAACCTGAAAGTGTCACAGATCAAAAAACTCCGACTCCTCATCGACGAAGCCATCCTGAAGTGTGACGCCCAGCGGATAAAGCTGCAGGAATAGCGGTTTGAGAACCTCCGCGAGNNNNNNNNNNNNNNNNNNCTGCATCCCTCGGTGCCCATCAGTAACGATGAGGATGCGGACAACAAAGTCGAGAGGATCTGGGGTGACTGCACCGTCAAGAAGAAGTACTCGCACGTGGACCTGGTGGTGATGGTCGATGGCTTTGAAGGCGAAAAAGGGGTCGTGGTGGCTGGCAGTCGAGGGTACTTCCTGAAGGGGCCCCTGGTGTTCCTGGAACAGGCGCTCATCCAGTACGCCCTTCGCACCTTGGGAAGTCGGGGCTACATTCCCATTTACACCCCGTTTTTCATGAGGAAGGAGGTCATGCAGGAGGTGGCACAGCTCAGCCAGTTTGATGAAGAGCTTTACAAGGTGATTGGCAAAGGCAGTGAAAAGTCTGACGACAACTCCTACGATGAGAAATACCTGATTGCCACCTCCGAGCAGCCCATCGCTGCTCTCCACCGAGATGAGTGGCTACGGCCAGAGGATTTGCCCATCAAGTATGCTGGCCTGTCCACCTGCTTTCGCCAGGAGGTGGGCTCCCACGGCCGGGACACCCGCGGCATCTTCCGAGTCCATCAGTTTGAGAAGATCGAGCAGTTTGTCTACGCGTCACCACATGACAACAAGTCGTGGGAGATGTTTGAAGAGATGATCTCCACCGCGGAGGAGTTCTACCAGACCCTGGGCATCCCATACCACATCGTGAATATTGTCTCAGGTTCTTTGAATCACGCTGCCAGTAAGAAGCTTGACCTGGAGGCCTGGTTTCCGGGCTCGGGAGCCTTCCGGGAGCTGGTCTCCTGTTCTAACTGCACAGACTACCAGGCTCGCCGCCTCCGAATCCGATACGGGCAAACCAAGAAGATGATGGACAAGGTGGAGTTTGTCCACATGCTCAACGCCACCATGTGTGCCACTACCCGCACCATCTGCGCCATCCTGGAGAACTACCAGACGGAGAAGGGCATCGTCGTGCCCGAGAAGTTGAAGGAGTTCATGCCGCCAGGTCTCCAAGAACTGATTCCCTTTGTGAAGCCTGCGCCCATTGACCAGGAGCCATCGAAGAAGCAGAAGAAGCAGCAGGAGGGCAGCAAAAACAAAGGGGCAGAGAGCGATGTCCCCCTGGAGAGCCGGCTGCAGAGCATGGTGCTCGCCGATTCCTGAACATTCCTTCTCCCCAGTTCGGTCAGCTGGGATCCCAGAGCCTGCCCACAGGCGGGGACGCCAGACATGCCCTCTCATCGCCTGCACCGACTGACTGCATTGCTGAAACGGGAGCCCTCTGCCATGCACACCGCAGTGTTCCTGTCTGCTCGCATGGGCCTGGGACGCAACCACTGAGGACTGAGGAAGTCATGCCATGAGCCTCCCCAGCAGAGGTGAGGACTCGCCCGCAGTCCTCCGCCTGGGCCTCAAACCCTGGCTCACAGCTCTCCCTGGAACCACACTCACTTGTGCTTTTCCTCCTAAATAAAGCTGTTCCATGTAGCAAGTCA\n",
      "ATGGTGTTGGATCTGGACTTAGTCA\n"
     ]
    }
   ],
   "source": [
    "seq1 = seqx.seq[:20] + seqx.seq[-5:]\n",
    "print(seqx.seq)\n",
    "print(seq1)"
   ]
  },
  {
   "cell_type": "code",
   "execution_count": 21,
   "metadata": {},
   "outputs": [
    {
     "name": "stdout",
     "output_type": "stream",
     "text": [
      "GTGTCAGTGGAACTTTGGCAGCAGTGCGTGGAGCTTTTGCGCGATGAGCTGCCTGCCCAGCAATTCAACACCTGGATCCGTCCACTACAGGTCGAAGCCGAAGGCGACGAGTTGCGTGTTTACGCGCCCAATCGTTTTGTTCTCGACTGGGTCAACGAGAAGTACCTGAGCCGCGTGCTCGAATTGCTCGATGAACACGGCAACGGCCTCGCACCCGTGCTCTCCTTATTAATAGGCAGCAAACGTAGCTCCGCACCTCGTGCTGCGCCGAACGCGCCATTGGCCGCTGCTGCGTCGCAAGCCCAGGCGGCACCGGTTGCCAGTACACCTGCACCGGCTCCTTCCAAATCGTCTGCGAAGAAAAATGCAGCCGAGAATGAAGAACCGTCGCGCGATAGCTTCGACCCGATGGCCGGTGCCAGCTCCCAGCAAGCCCCGATCCGTGCCGAACAGCGCACCGTTCAGGTTGAAGGTGCGCTCAAGCACACCAGCTACCTGAACCGCACGTTCACGTTCGAGAATTTCGTCGAAGGTAAATCCAACCAGCTGGCTCGTGCAGCCGCCTGGCAGGTCGCCGACAACCCCAAGCACGGTTACAACCCTCTCTTCCTTTATGGTGGCGTCGGCTTGGGTAAGACTCACTTGATGCACGCTGTGGGTAACCACCTATTAAAGAAGAACCCGAATGCCAAGGTCGTGTACCTGCACTCGGAGCGCTTCGTGGCTGACATGGTCAAGGCCCTGCAGCTCAATGCCATCAATGAATTCAAGCGTTTCTACCGCTCGGTTGATGCGTTGCTGATCGATGACATTCAATTCTTTGCCCGTAAAGAGCGTTCCCAGGAAGAGTTTTTCCATACCTTCAACGCCCTGCTCGAAGGTGGCCAGCAGGTCATCTTGACCAGTGACCGTTATCCGAAAGAGATCGAAGGTCTGGAAGAACGCCTGAAATCGCGTTTCGGCTGGGGCCTGACTGTTGCAGTAGAGCCGCCGGAGCTCGAAACCCGCGTCGCGATCCTGATGAAAAAGGCCGACCAGGCGAAAGTCGAC\n",
      "GTGTCAGTGGAACTTTGGCAGAC\n"
     ]
    }
   ],
   "source": [
    "seq2 = seqy.seq[:20] + seqy.seq[-3:]\n",
    "print(seqy.seq)\n",
    "print(seq2)"
   ]
  },
  {
   "cell_type": "code",
   "execution_count": 22,
   "metadata": {},
   "outputs": [
    {
     "name": "stdout",
     "output_type": "stream",
     "text": [
      "ATGGTGTTGGATCTGGACTTAGTCAGTGTCAGTGGAACTTTGGCAGAC\n",
      "CAGACGGTTTCAAGGTGACTGTGACTGATTCAGGTCTAGGTTGTGGTA\n"
     ]
    }
   ],
   "source": [
    "seqZ = seq1 + seq2\n",
    "print(seqZ)\n",
    "seqZ = seqZ[::-1]\n",
    "print(seqZ)"
   ]
  },
  {
   "cell_type": "code",
   "execution_count": 25,
   "metadata": {},
   "outputs": [
    {
     "name": "stdout",
     "output_type": "stream",
     "text": [
      "['C', 'A', 'A', 'C', 'C', 'A', 'A', 'A', 'C', 'A', 'C', 'A', 'C', 'A', 'C', 'A', 'A']\n"
     ]
    }
   ],
   "source": [
    "ac = [x for x in seqZ if x in 'AC']\n",
    "\n",
    "print(ac)"
   ]
  },
  {
   "cell_type": "code",
   "execution_count": 28,
   "metadata": {},
   "outputs": [
    {
     "name": "stdout",
     "output_type": "stream",
     "text": [
      "Counter({'A': 10, 'C': 7})\n"
     ]
    }
   ],
   "source": [
    "from collections import Counter\n",
    "\n",
    "count = Counter(ac)\n",
    "\n",
    "print(count)"
   ]
  },
  {
   "cell_type": "code",
   "execution_count": 31,
   "metadata": {},
   "outputs": [
    {
     "data": {
      "text/plain": [
       "<function matplotlib.pyplot.show(close=None, block=None)>"
      ]
     },
     "execution_count": 31,
     "metadata": {},
     "output_type": "execute_result"
    },
    {
     "data": {
      "image/png": "[encoded data removed]",
      "text/plain": [
       "<Figure size 640x480 with 1 Axes>"
      ]
     },
     "metadata": {},
     "output_type": "display_data"
    }
   ],
   "source": [
    "plt.bar(count.keys(), count.values())\n",
    "plt.show"
   ]
  },
  {
   "cell_type": "code",
   "execution_count": 32,
   "metadata": {},
   "outputs": [
    {
     "name": "stdout",
     "output_type": "stream",
     "text": [
      "0.4791666666666667\n",
      "0.5208333333333333\n"
     ]
    }
   ],
   "source": [
    "from Bio.SeqUtils import gc_fraction\n",
    "\n",
    "GC = gc_fraction(seqZ)\n",
    "AT = 1 - GC\n",
    "\n",
    "print(GC)\n",
    "print(AT)"
   ]
  },
  {
   "cell_type": "code",
   "execution_count": 34,
   "metadata": {},
   "outputs": [
    {
     "name": "stdout",
     "output_type": "stream",
     "text": [
      "142.0\n"
     ]
    }
   ],
   "source": [
    "from Bio.SeqUtils import MeltingTemp as mt \n",
    "\n",
    "print(mt.Tm_Wallace(seqZ))"
   ]
  },
  {
   "cell_type": "code",
   "execution_count": 35,
   "metadata": {},
   "outputs": [
    {
     "name": "stdout",
     "output_type": "stream",
     "text": [
      "15004.545300000002\n"
     ]
    }
   ],
   "source": [
    "from Bio.SeqUtils import molecular_weight as mw\n",
    "\n",
    "print(mw(seqZ))"
   ]
  },
  {
   "cell_type": "code",
   "execution_count": 37,
   "metadata": {},
   "outputs": [
    {
     "name": "stdout",
     "output_type": "stream",
     "text": [
      "CAGACGGTTTCAAGGTGACTGTGACTGATTCAGGTCTAGGTTGTGGTA\n",
      "CAGACGGUUUCAAGGUGACUGUGACUGAUUCAGGUCUAGGUUGUGGUA\n"
     ]
    }
   ],
   "source": [
    "rnaZ = seqZ.transcribe()\n",
    "print(seqZ)\n",
    "print(rnaZ)"
   ]
  },
  {
   "cell_type": "code",
   "execution_count": 44,
   "metadata": {},
   "outputs": [
    {
     "name": "stdout",
     "output_type": "stream",
     "text": [
      "QTVSR*L*LIQV*VVV\n",
      "QTVSR*L*LIQV*VVV\n",
      "XXXXXXXXXXXXXXXX\n"
     ]
    }
   ],
   "source": [
    "from Bio.SeqUtils import seq3, seq1\n",
    "acids = rnaZ.translate()\n",
    "\n",
    "print(acids)\n",
    "\n",
    "acids2 = seqZ.translate()\n",
    "\n",
    "print(acids2)\n",
    "\n",
    "print(seq1(seqZ))"
   ]
  },
  {
   "cell_type": "code",
   "execution_count": 47,
   "metadata": {},
   "outputs": [
    {
     "name": "stdout",
     "output_type": "stream",
     "text": [
      "GlnThrValSerArgTerLeuTerLeuIleGlnValTerValValVal\n",
      "QTVSR*L*LIQV*VVV\n"
     ]
    }
   ],
   "source": [
    "from Bio.SeqUtils import seq3, seq1\n",
    "\n",
    "acids3 = seq3(acids2)\n",
    "print(acids3)\n",
    "\n",
    "acids4 = seq1(acids3)\n",
    "print(acids4)"
   ]
  },
  {
   "cell_type": "code",
   "execution_count": 50,
   "metadata": {},
   "outputs": [
    {
     "name": "stdout",
     "output_type": "stream",
     "text": [
      "Alignment(seqA=\"ID: XM_00677--94--07--.2-\\nName: XM_00677--94--07--.2-\\nDescription: XM_00677--94--07--.2- PREDICTED: Myotis --d----avidii- ------s-eryl-tRNA -sy---------nth--et-as-e (SARS)----, ----mRNA--------\\nNumber of features: 0\\nSeq('ATGGTGTTGGATC--TGGA-CTTGTTTCGGACG-G-A-TAAAG-GA-GGAGAC-----C-CG--GAC-C-GC--...TC-A-')\", seqB=\"ID: --------OV9-860-01.-1\\nName: --------OV9-860-01.-1\\nDescription: --------OV9-860-01.-1 P---------------s-eudomona-----s fluoresce---------ns- SBW25 gen--ome- asse-------mbly, chrom---osome: 1\\nNumber of features: 0\\nSeq('-----G-T-G-TCAGTGGAAC---TTT-GG-C-AGCAGT---GCG-TGGAG-CTTTTGCGCGATGA-GCTGCCT...--GAC')\", score=119.0, start=0, end=305)\n",
      "ID: XM_00677--94--07--.2-\n",
      "Name: XM_00677--94--07--.2-\n",
      "Description: XM_00677--94--07--.2- PREDICTED: Myotis --d----avidii- ------s-eryl-tRNA -sy---------nth--et-as-e (SARS)----, ----mRNA--------\n",
      "Number of features: 0\n",
      "Seq('ATGGTGTTGGATC--TGGA-CTTGTTTCGGACG-G-A-TAAAG-GA-GGAGAC-----C-CG--GAC-C-GC--...TC-A-')\n",
      "||||          |   |   |  |||||||          |   |   |  ||||||||||||||          |   |   |  ||               |   |    |      |      | |   |      |          |    |  || |           ||    |           ||||||||||||||||||||||||||||     | | | ||  |||| |   ||| || |  | | |   | |  |||| |     | ||  ||  | ||  |||   | ||\n",
      "ID: --------OV9-860-01.-1\n",
      "Name: --------OV9-860-01.-1\n",
      "Description: --------OV9-860-01.-1 P---------------s-eudomona-----s fluoresce---------ns- SBW25 gen--ome- asse-------mbly, chrom---osome: 1\n",
      "Number of features: 0\n",
      "Seq('-----G-T-G-TCAGTGGAAC---TTT-GG-C-AGCAGT---GCG-TGGAG-CTTTTGCGCGATGA-GCTGCCT...--GAC')\n",
      "  Score=119\n",
      "\n",
      "Alignment(seqA=\"ID: XM_00677-94--07--.2-\\nName: XM_00677--94--07--.2-\\nDescription: XM_00677--94--07--.2- PREDICTED: Myotis --d----avidii- ------s-eryl-tRNA -sy---------nth--et-as-e (SARS)----, ----mRNA--------\\nNumber of features: 0\\nSeq('ATGGTGTTGGATC--TGGA-CTTGTTTCGGACG-G-A-TAAAG-GA-GGAGAC-----C-CG--GAC-C-GC--...TC-A-')\", seqB=\"ID: -------OV9-860-01.-1\\nName: --------OV9-860-01.-1\\nDescription: --------OV9-860-01.-1 P---------------s-eudomona-----s fluoresce---------ns- SBW25 gen--ome- asse-------mbly, chrom---osome: 1\\nNumber of features: 0\\nSeq('-----G-T-G-TCAGTGGAAC---TTT-GG-C-AGCAGT---GCG-TGGAG-CTTTTGCGCGATGA-GCTGCCT...--GAC')\", score=119.0, start=0, end=304)\n",
      "ID: XM_00677-94--07--.2-\n",
      "Name: XM_00677--94--07--.2-\n",
      "Description: XM_00677--94--07--.2- PREDICTED: Myotis --d----avidii- ------s-eryl-tRNA -sy---------nth--et-as-e (SARS)----, ----mRNA--------\n",
      "Number of features: 0\n",
      "Seq('ATGGTGTTGGATC--TGGA-CTTGTTTCGGACG-G-A-TAAAG-GA-GGAGAC-----C-CG--GAC-C-GC--...TC-A-')\n",
      "||||       . |   |   |  |||||||          |   |   |  ||||||||||||||          |   |   |  ||               |   |    |      |      | |   |      |          |    |  || |           ||    |           ||||||||||||||||||||||||||||     | | | ||  |||| |   ||| || |  | | |   | |  |||| |     | ||  ||  | ||  |||   | ||\n",
      "ID: -------OV9-860-01.-1\n",
      "Name: --------OV9-860-01.-1\n",
      "Description: --------OV9-860-01.-1 P---------------s-eudomona-----s fluoresce---------ns- SBW25 gen--ome- asse-------mbly, chrom---osome: 1\n",
      "Number of features: 0\n",
      "Seq('-----G-T-G-TCAGTGGAAC---TTT-GG-C-AGCAGT---GCG-TGGAG-CTTTTGCGCGATGA-GCTGCCT...--GAC')\n",
      "  Score=119\n",
      "\n",
      "Alignment(seqA=\"ID: XM_00677-94--07--.2-\\nName: XM_00677--94--07--.2-\\nDescription: XM_00677--94--07--.2- PREDICTED: Myotis --d----avidii- ------s-eryl-tRNA -sy---------nth--et-as-e (SARS)----, ----mRNA--------\\nNumber of features: 0\\nSeq('ATGGTGTTGGATC--TGGA-CTTGTTTCGGACG-G-A-TAAAG-GA-GGAGAC-----C-CG--GAC-C-GC--...TC-A-')\", seqB=\"ID: ------O-V9-860-01.-1\\nName: --------OV9-860-01.-1\\nDescription: --------OV9-860-01.-1 P---------------s-eudomona-----s fluoresce---------ns- SBW25 gen--ome- asse-------mbly, chrom---osome: 1\\nNumber of features: 0\\nSeq('-----G-T-G-TCAGTGGAAC---TTT-GG-C-AGCAGT---GCG-TGGAG-CTTTTGCGCGATGA-GCTGCCT...--GAC')\", score=119.0, start=0, end=304)\n",
      "ID: XM_00677-94--07--.2-\n",
      "Name: XM_00677--94--07--.2-\n",
      "Description: XM_00677--94--07--.2- PREDICTED: Myotis --d----avidii- ------s-eryl-tRNA -sy---------nth--et-as-e (SARS)----, ----mRNA--------\n",
      "Number of features: 0\n",
      "Seq('ATGGTGTTGGATC--TGGA-CTTGTTTCGGACG-G-A-TAAAG-GA-GGAGAC-----C-CG--GAC-C-GC--...TC-A-')\n",
      "||||      .  |   |   |  |||||||          |   |   |  ||||||||||||||          |   |   |  ||               |   |    |      |      | |   |      |          |    |  || |           ||    |           ||||||||||||||||||||||||||||     | | | ||  |||| |   ||| || |  | | |   | |  |||| |     | ||  ||  | ||  |||   | ||\n",
      "ID: ------O-V9-860-01.-1\n",
      "Name: --------OV9-860-01.-1\n",
      "Description: --------OV9-860-01.-1 P---------------s-eudomona-----s fluoresce---------ns- SBW25 gen--ome- asse-------mbly, chrom---osome: 1\n",
      "Number of features: 0\n",
      "Seq('-----G-T-G-TCAGTGGAAC---TTT-GG-C-AGCAGT---GCG-TGGAG-CTTTTGCGCGATGA-GCTGCCT...--GAC')\n",
      "  Score=119\n",
      "\n",
      "Alignment(seqA=\"ID: XM_00677-94--07--.2-\\nName: XM_00677--94--07--.2-\\nDescription: XM_00677--94--07--.2- PREDICTED: Myotis --d----avidii- ------s-eryl-tRNA -sy---------nth--et-as-e (SARS)----, ----mRNA--------\\nNumber of features: 0\\nSeq('ATGGTGTTGGATC--TGGA-CTTGTTTCGGACG-G-A-TAAAG-GA-GGAGAC-----C-CG--GAC-C-GC--...TC-A-')\", seqB=\"ID: -----O--V9-860-01.-1\\nName: --------OV9-860-01.-1\\nDescription: --------OV9-860-01.-1 P---------------s-eudomona-----s fluoresce---------ns- SBW25 gen--ome- asse-------mbly, chrom---osome: 1\\nNumber of features: 0\\nSeq('-----G-T-G-TCAGTGGAAC---TTT-GG-C-AGCAGT---GCG-TGGAG-CTTTTGCGCGATGA-GCTGCCT...--GAC')\", score=119.0, start=0, end=304)\n",
      "ID: XM_00677-94--07--.2-\n",
      "Name: XM_00677--94--07--.2-\n",
      "Description: XM_00677--94--07--.2- PREDICTED: Myotis --d----avidii- ------s-eryl-tRNA -sy---------nth--et-as-e (SARS)----, ----mRNA--------\n",
      "Number of features: 0\n",
      "Seq('ATGGTGTTGGATC--TGGA-CTTGTTTCGGACG-G-A-TAAAG-GA-GGAGAC-----C-CG--GAC-C-GC--...TC-A-')\n",
      "||||     .   |   |   |  |||||||          |   |   |  ||||||||||||||          |   |   |  ||               |   |    |      |      | |   |      |          |    |  || |           ||    |           ||||||||||||||||||||||||||||     | | | ||  |||| |   ||| || |  | | |   | |  |||| |     | ||  ||  | ||  |||   | ||\n",
      "ID: -----O--V9-860-01.-1\n",
      "Name: --------OV9-860-01.-1\n",
      "Description: --------OV9-860-01.-1 P---------------s-eudomona-----s fluoresce---------ns- SBW25 gen--ome- asse-------mbly, chrom---osome: 1\n",
      "Number of features: 0\n",
      "Seq('-----G-T-G-TCAGTGGAAC---TTT-GG-C-AGCAGT---GCG-TGGAG-CTTTTGCGCGATGA-GCTGCCT...--GAC')\n",
      "  Score=119\n",
      "\n",
      "Alignment(seqA=\"ID: XM_00677-94--07--.2-\\nName: XM_00677--94--07--.2-\\nDescription: XM_00677--94--07--.2- PREDICTED: Myotis --d----avidii- ------s-eryl-tRNA -sy---------nth--et-as-e (SARS)----, ----mRNA--------\\nNumber of features: 0\\nSeq('ATGGTGTTGGATC--TGGA-CTTGTTTCGGACG-G-A-TAAAG-GA-GGAGAC-----C-CG--GAC-C-GC--...TC-A-')\", seqB=\"ID: ----O---V9-860-01.-1\\nName: --------OV9-860-01.-1\\nDescription: --------OV9-860-01.-1 P---------------s-eudomona-----s fluoresce---------ns- SBW25 gen--ome- asse-------mbly, chrom---osome: 1\\nNumber of features: 0\\nSeq('-----G-T-G-TCAGTGGAAC---TTT-GG-C-AGCAGT---GCG-TGGAG-CTTTTGCGCGATGA-GCTGCCT...--GAC')\", score=119.0, start=0, end=304)\n",
      "ID: XM_00677-94--07--.2-\n",
      "Name: XM_00677--94--07--.2-\n",
      "Description: XM_00677--94--07--.2- PREDICTED: Myotis --d----avidii- ------s-eryl-tRNA -sy---------nth--et-as-e (SARS)----, ----mRNA--------\n",
      "Number of features: 0\n",
      "Seq('ATGGTGTTGGATC--TGGA-CTTGTTTCGGACG-G-A-TAAAG-GA-GGAGAC-----C-CG--GAC-C-GC--...TC-A-')\n",
      "||||    .    |   |   |  |||||||          |   |   |  ||||||||||||||          |   |   |  ||               |   |    |      |      | |   |      |          |    |  || |           ||    |           ||||||||||||||||||||||||||||     | | | ||  |||| |   ||| || |  | | |   | |  |||| |     | ||  ||  | ||  |||   | ||\n",
      "ID: ----O---V9-860-01.-1\n",
      "Name: --------OV9-860-01.-1\n",
      "Description: --------OV9-860-01.-1 P---------------s-eudomona-----s fluoresce---------ns- SBW25 gen--ome- asse-------mbly, chrom---osome: 1\n",
      "Number of features: 0\n",
      "Seq('-----G-T-G-TCAGTGGAAC---TTT-GG-C-AGCAGT---GCG-TGGAG-CTTTTGCGCGATGA-GCTGCCT...--GAC')\n",
      "  Score=119\n",
      "\n",
      "Alignment(seqA=\"ID: XM_00677-94--07--.2-\\nName: XM_00677--94--07--.2-\\nDescription: XM_00677--94--07--.2- PREDICTED: Myotis --d----avidii- ------s-eryl-tRNA -sy---------nth--et-as-e (SARS)----, ----mRNA--------\\nNumber of features: 0\\nSeq('ATGGTGTTGGATC--TGGA-CTTGTTTCGGACG-G-A-TAAAG-GA-GGAGAC-----C-CG--GAC-C-GC--...TC-A-')\", seqB=\"ID: ---O----V9-860-01.-1\\nName: --------OV9-860-01.-1\\nDescription: --------OV9-860-01.-1 P---------------s-eudomona-----s fluoresce---------ns- SBW25 gen--ome- asse-------mbly, chrom---osome: 1\\nNumber of features: 0\\nSeq('-----G-T-G-TCAGTGGAAC---TTT-GG-C-AGCAGT---GCG-TGGAG-CTTTTGCGCGATGA-GCTGCCT...--GAC')\", score=119.0, start=0, end=304)\n",
      "ID: XM_00677-94--07--.2-\n",
      "Name: XM_00677--94--07--.2-\n",
      "Description: XM_00677--94--07--.2- PREDICTED: Myotis --d----avidii- ------s-eryl-tRNA -sy---------nth--et-as-e (SARS)----, ----mRNA--------\n",
      "Number of features: 0\n",
      "Seq('ATGGTGTTGGATC--TGGA-CTTGTTTCGGACG-G-A-TAAAG-GA-GGAGAC-----C-CG--GAC-C-GC--...TC-A-')\n",
      "||||   .     |   |   |  |||||||          |   |   |  ||||||||||||||          |   |   |  ||               |   |    |      |      | |   |      |          |    |  || |           ||    |           ||||||||||||||||||||||||||||     | | | ||  |||| |   ||| || |  | | |   | |  |||| |     | ||  ||  | ||  |||   | ||\n",
      "ID: ---O----V9-860-01.-1\n",
      "Name: --------OV9-860-01.-1\n",
      "Description: --------OV9-860-01.-1 P---------------s-eudomona-----s fluoresce---------ns- SBW25 gen--ome- asse-------mbly, chrom---osome: 1\n",
      "Number of features: 0\n",
      "Seq('-----G-T-G-TCAGTGGAAC---TTT-GG-C-AGCAGT---GCG-TGGAG-CTTTTGCGCGATGA-GCTGCCT...--GAC')\n",
      "  Score=119\n",
      "\n",
      "Alignment(seqA=\"ID: XM_00677-94--07--.2-\\nName: XM_00677--94--07--.2-\\nDescription: XM_00677--94--07--.2- PREDICTED: Myotis --d----avidii- ------s-eryl-tRNA -sy---------nth--et-as-e (SARS)----, ----mRNA--------\\nNumber of features: 0\\nSeq('ATGGTGTTGGATC--TGGA-CTTGTTTCGGACG-G-A-TAAAG-GA-GGAGAC-----C-CG--GAC-C-GC--...TC-A-')\", seqB=\"ID: --O-----V9-860-01.-1\\nName: --------OV9-860-01.-1\\nDescription: --------OV9-860-01.-1 P---------------s-eudomona-----s fluoresce---------ns- SBW25 gen--ome- asse-------mbly, chrom---osome: 1\\nNumber of features: 0\\nSeq('-----G-T-G-TCAGTGGAAC---TTT-GG-C-AGCAGT---GCG-TGGAG-CTTTTGCGCGATGA-GCTGCCT...--GAC')\", score=119.0, start=0, end=304)\n",
      "ID: XM_00677-94--07--.2-\n",
      "Name: XM_00677--94--07--.2-\n",
      "Description: XM_00677--94--07--.2- PREDICTED: Myotis --d----avidii- ------s-eryl-tRNA -sy---------nth--et-as-e (SARS)----, ----mRNA--------\n",
      "Number of features: 0\n",
      "Seq('ATGGTGTTGGATC--TGGA-CTTGTTTCGGACG-G-A-TAAAG-GA-GGAGAC-----C-CG--GAC-C-GC--...TC-A-')\n",
      "||||  .      |   |   |  |||||||          |   |   |  ||||||||||||||          |   |   |  ||               |   |    |      |      | |   |      |          |    |  || |           ||    |           ||||||||||||||||||||||||||||     | | | ||  |||| |   ||| || |  | | |   | |  |||| |     | ||  ||  | ||  |||   | ||\n",
      "ID: --O-----V9-860-01.-1\n",
      "Name: --------OV9-860-01.-1\n",
      "Description: --------OV9-860-01.-1 P---------------s-eudomona-----s fluoresce---------ns- SBW25 gen--ome- asse-------mbly, chrom---osome: 1\n",
      "Number of features: 0\n",
      "Seq('-----G-T-G-TCAGTGGAAC---TTT-GG-C-AGCAGT---GCG-TGGAG-CTTTTGCGCGATGA-GCTGCCT...--GAC')\n",
      "  Score=119\n",
      "\n",
      "Alignment(seqA=\"ID: XM_00677-94--07--.2-\\nName: XM_00677--94--07--.2-\\nDescription: XM_00677--94--07--.2- PREDICTED: Myotis --d----avidii- ------s-eryl-tRNA -sy---------nth--et-as-e (SARS)----, ----mRNA--------\\nNumber of features: 0\\nSeq('ATGGTGTTGGATC--TGGA-CTTGTTTCGGACG-G-A-TAAAG-GA-GGAGAC-----C-CG--GAC-C-GC--...TC-A-')\", seqB=\"ID: -O------V9-860-01.-1\\nName: --------OV9-860-01.-1\\nDescription: --------OV9-860-01.-1 P---------------s-eudomona-----s fluoresce---------ns- SBW25 gen--ome- asse-------mbly, chrom---osome: 1\\nNumber of features: 0\\nSeq('-----G-T-G-TCAGTGGAAC---TTT-GG-C-AGCAGT---GCG-TGGAG-CTTTTGCGCGATGA-GCTGCCT...--GAC')\", score=119.0, start=0, end=304)\n",
      "ID: XM_00677-94--07--.2-\n",
      "Name: XM_00677--94--07--.2-\n",
      "Description: XM_00677--94--07--.2- PREDICTED: Myotis --d----avidii- ------s-eryl-tRNA -sy---------nth--et-as-e (SARS)----, ----mRNA--------\n",
      "Number of features: 0\n",
      "Seq('ATGGTGTTGGATC--TGGA-CTTGTTTCGGACG-G-A-TAAAG-GA-GGAGAC-----C-CG--GAC-C-GC--...TC-A-')\n",
      "|||| .       |   |   |  |||||||          |   |   |  ||||||||||||||          |   |   |  ||               |   |    |      |      | |   |      |          |    |  || |           ||    |           ||||||||||||||||||||||||||||     | | | ||  |||| |   ||| || |  | | |   | |  |||| |     | ||  ||  | ||  |||   | ||\n",
      "ID: -O------V9-860-01.-1\n",
      "Name: --------OV9-860-01.-1\n",
      "Description: --------OV9-860-01.-1 P---------------s-eudomona-----s fluoresce---------ns- SBW25 gen--ome- asse-------mbly, chrom---osome: 1\n",
      "Number of features: 0\n",
      "Seq('-----G-T-G-TCAGTGGAAC---TTT-GG-C-AGCAGT---GCG-TGGAG-CTTTTGCGCGATGA-GCTGCCT...--GAC')\n",
      "  Score=119\n",
      "\n",
      "Alignment(seqA=\"ID: XM_00677-94--07--.2-\\nName: XM_00677--94--07--.2-\\nDescription: XM_00677--94--07--.2- PREDICTED: Myotis --d----avidii- ------s-eryl-tRNA -sy---------nth--et-as-e (SARS)----, ----mRNA--------\\nNumber of features: 0\\nSeq('ATGGTGTTGGATC--TGGA-CTTGTTTCGGACG-G-A-TAAAG-GA-GGAGAC-----C-CG--GAC-C-GC--...TC-A-')\", seqB=\"ID: O-------V9-860-01.-1\\nName: --------OV9-860-01.-1\\nDescription: --------OV9-860-01.-1 P---------------s-eudomona-----s fluoresce---------ns- SBW25 gen--ome- asse-------mbly, chrom---osome: 1\\nNumber of features: 0\\nSeq('-----G-T-G-TCAGTGGAAC---TTT-GG-C-AGCAGT---GCG-TGGAG-CTTTTGCGCGATGA-GCTGCCT...--GAC')\", score=119.0, start=0, end=304)\n",
      "ID: XM_00677-94--07--.2-\n",
      "Name: XM_00677--94--07--.2-\n",
      "Description: XM_00677--94--07--.2- PREDICTED: Myotis --d----avidii- ------s-eryl-tRNA -sy---------nth--et-as-e (SARS)----, ----mRNA--------\n",
      "Number of features: 0\n",
      "Seq('ATGGTGTTGGATC--TGGA-CTTGTTTCGGACG-G-A-TAAAG-GA-GGAGAC-----C-CG--GAC-C-GC--...TC-A-')\n",
      "||||.        |   |   |  |||||||          |   |   |  ||||||||||||||          |   |   |  ||               |   |    |      |      | |   |      |          |    |  || |           ||    |           ||||||||||||||||||||||||||||     | | | ||  |||| |   ||| || |  | | |   | |  |||| |     | ||  ||  | ||  |||   | ||\n",
      "ID: O-------V9-860-01.-1\n",
      "Name: --------OV9-860-01.-1\n",
      "Description: --------OV9-860-01.-1 P---------------s-eudomona-----s fluoresce---------ns- SBW25 gen--ome- asse-------mbly, chrom---osome: 1\n",
      "Number of features: 0\n",
      "Seq('-----G-T-G-TCAGTGGAAC---TTT-GG-C-AGCAGT---GCG-TGGAG-CTTTTGCGCGATGA-GCTGCCT...--GAC')\n",
      "  Score=119\n",
      "\n",
      "Alignment(seqA=\"ID: XM_0067-794--07--.2-\\nName: XM_00677--94--07--.2-\\nDescription: XM_00677--94--07--.2- PREDICTED: Myotis --d----avidii- ------s-eryl-tRNA -sy---------nth--et-as-e (SARS)----, ----mRNA--------\\nNumber of features: 0\\nSeq('ATGGTGTTGGATC--TGGA-CTTGTTTCGGACG-G-A-TAAAG-GA-GGAGAC-----C-CG--GAC-C-GC--...TC-A-')\", seqB=\"ID: -------OV9-860-01.-1\\nName: --------OV9-860-01.-1\\nDescription: --------OV9-860-01.-1 P---------------s-eudomona-----s fluoresce---------ns- SBW25 gen--ome- asse-------mbly, chrom---osome: 1\\nNumber of features: 0\\nSeq('-----G-T-G-TCAGTGGAAC---TTT-GG-C-AGCAGT---GCG-TGGAG-CTTTTGCGCGATGA-GCTGCCT...--GAC')\", score=119.0, start=0, end=304)\n",
      "ID: XM_0067-794--07--.2-\n",
      "Name: XM_00677--94--07--.2-\n",
      "Description: XM_00677--94--07--.2- PREDICTED: Myotis --d----avidii- ------s-eryl-tRNA -sy---------nth--et-as-e (SARS)----, ----mRNA--------\n",
      "Number of features: 0\n",
      "Seq('ATGGTGTTGGATC--TGGA-CTTGTTTCGGACG-G-A-TAAAG-GA-GGAGAC-----C-CG--GAC-C-GC--...TC-A-')\n",
      "||||        .|   |   |  |||||||          |   |   |  ||||||||||||||          |   |   |  ||               |   |    |      |      | |   |      |          |    |  || |           ||    |           ||||||||||||||||||||||||||||     | | | ||  |||| |   ||| || |  | | |   | |  |||| |     | ||  ||  | ||  |||   | ||\n",
      "ID: -------OV9-860-01.-1\n",
      "Name: --------OV9-860-01.-1\n",
      "Description: --------OV9-860-01.-1 P---------------s-eudomona-----s fluoresce---------ns- SBW25 gen--ome- asse-------mbly, chrom---osome: 1\n",
      "Number of features: 0\n",
      "Seq('-----G-T-G-TCAGTGGAAC---TTT-GG-C-AGCAGT---GCG-TGGAG-CTTTTGCGCGATGA-GCTGCCT...--GAC')\n",
      "  Score=119\n",
      "\n",
      "Alignment(seqA=\"ID: XM_0067794--07--.2-\\nName: XM_00677--94--07--.2-\\nDescription: XM_00677--94--07--.2- PREDICTED: Myotis --d----avidii- ------s-eryl-tRNA -sy---------nth--et-as-e (SARS)----, ----mRNA--------\\nNumber of features: 0\\nSeq('ATGGTGTTGGATC--TGGA-CTTGTTTCGGACG-G-A-TAAAG-GA-GGAGAC-----C-CG--GAC-C-GC--...TC-A-')\", seqB=\"ID: ------OV9-860-01.-1\\nName: --------OV9-860-01.-1\\nDescription: --------OV9-860-01.-1 P---------------s-eudomona-----s fluoresce---------ns- SBW25 gen--ome- asse-------mbly, chrom---osome: 1\\nNumber of features: 0\\nSeq('-----G-T-G-TCAGTGGAAC---TTT-GG-C-AGCAGT---GCG-TGGAG-CTTTTGCGCGATGA-GCTGCCT...--GAC')\", score=119.0, start=0, end=303)\n",
      "ID: XM_0067794--07--.2-\n",
      "Name: XM_00677--94--07--.2-\n",
      "Description: XM_00677--94--07--.2- PREDICTED: Myotis --d----avidii- ------s-eryl-tRNA -sy---------nth--et-as-e (SARS)----, ----mRNA--------\n",
      "Number of features: 0\n",
      "Seq('ATGGTGTTGGATC--TGGA-CTTGTTTCGGACG-G-A-TAAAG-GA-GGAGAC-----C-CG--GAC-C-GC--...TC-A-')\n",
      "||||      ..|   |   |  |||||||          |   |   |  ||||||||||||||          |   |   |  ||               |   |    |      |      | |   |      |          |    |  || |           ||    |           ||||||||||||||||||||||||||||     | | | ||  |||| |   ||| || |  | | |   | |  |||| |     | ||  ||  | ||  |||   | ||\n",
      "ID: ------OV9-860-01.-1\n",
      "Name: --------OV9-860-01.-1\n",
      "Description: --------OV9-860-01.-1 P---------------s-eudomona-----s fluoresce---------ns- SBW25 gen--ome- asse-------mbly, chrom---osome: 1\n",
      "Number of features: 0\n",
      "Seq('-----G-T-G-TCAGTGGAAC---TTT-GG-C-AGCAGT---GCG-TGGAG-CTTTTGCGCGATGA-GCTGCCT...--GAC')\n",
      "  Score=119\n",
      "\n",
      "Alignment(seqA=\"ID: XM_0067794--07--.2-\\nName: XM_00677--94--07--.2-\\nDescription: XM_00677--94--07--.2- PREDICTED: Myotis --d----avidii- ------s-eryl-tRNA -sy---------nth--et-as-e (SARS)----, ----mRNA--------\\nNumber of features: 0\\nSeq('ATGGTGTTGGATC--TGGA-CTTGTTTCGGACG-G-A-TAAAG-GA-GGAGAC-----C-CG--GAC-C-GC--...TC-A-')\", seqB=\"ID: -----O-V9-860-01.-1\\nName: --------OV9-860-01.-1\\nDescription: --------OV9-860-01.-1 P---------------s-eudomona-----s fluoresce---------ns- SBW25 gen--ome- asse-------mbly, chrom---osome: 1\\nNumber of features: 0\\nSeq('-----G-T-G-TCAGTGGAAC---TTT-GG-C-AGCAGT---GCG-TGGAG-CTTTTGCGCGATGA-GCTGCCT...--GAC')\", score=119.0, start=0, end=303)\n",
      "ID: XM_0067794--07--.2-\n",
      "Name: XM_00677--94--07--.2-\n",
      "Description: XM_00677--94--07--.2- PREDICTED: Myotis --d----avidii- ------s-eryl-tRNA -sy---------nth--et-as-e (SARS)----, ----mRNA--------\n",
      "Number of features: 0\n",
      "Seq('ATGGTGTTGGATC--TGGA-CTTGTTTCGGACG-G-A-TAAAG-GA-GGAGAC-----C-CG--GAC-C-GC--...TC-A-')\n",
      "||||     . .|   |   |  |||||||          |   |   |  ||||||||||||||          |   |   |  ||               |   |    |      |      | |   |      |          |    |  || |           ||    |           ||||||||||||||||||||||||||||     | | | ||  |||| |   ||| || |  | | |   | |  |||| |     | ||  ||  | ||  |||   | ||\n",
      "ID: -----O-V9-860-01.-1\n",
      "Name: --------OV9-860-01.-1\n",
      "Description: --------OV9-860-01.-1 P---------------s-eudomona-----s fluoresce---------ns- SBW25 gen--ome- asse-------mbly, chrom---osome: 1\n",
      "Number of features: 0\n",
      "Seq('-----G-T-G-TCAGTGGAAC---TTT-GG-C-AGCAGT---GCG-TGGAG-CTTTTGCGCGATGA-GCTGCCT...--GAC')\n",
      "  Score=119\n",
      "\n",
      "Alignment(seqA=\"ID: XM_0067794--07--.2-\\nName: XM_00677--94--07--.2-\\nDescription: XM_00677--94--07--.2- PREDICTED: Myotis --d----avidii- ------s-eryl-tRNA -sy---------nth--et-as-e (SARS)----, ----mRNA--------\\nNumber of features: 0\\nSeq('ATGGTGTTGGATC--TGGA-CTTGTTTCGGACG-G-A-TAAAG-GA-GGAGAC-----C-CG--GAC-C-GC--...TC-A-')\", seqB=\"ID: ----O--V9-860-01.-1\\nName: --------OV9-860-01.-1\\nDescription: --------OV9-860-01.-1 P---------------s-eudomona-----s fluoresce---------ns- SBW25 gen--ome- asse-------mbly, chrom---osome: 1\\nNumber of features: 0\\nSeq('-----G-T-G-TCAGTGGAAC---TTT-GG-C-AGCAGT---GCG-TGGAG-CTTTTGCGCGATGA-GCTGCCT...--GAC')\", score=119.0, start=0, end=303)\n",
      "ID: XM_0067794--07--.2-\n",
      "Name: XM_00677--94--07--.2-\n",
      "Description: XM_00677--94--07--.2- PREDICTED: Myotis --d----avidii- ------s-eryl-tRNA -sy---------nth--et-as-e (SARS)----, ----mRNA--------\n",
      "Number of features: 0\n",
      "Seq('ATGGTGTTGGATC--TGGA-CTTGTTTCGGACG-G-A-TAAAG-GA-GGAGAC-----C-CG--GAC-C-GC--...TC-A-')\n",
      "||||    .  .|   |   |  |||||||          |   |   |  ||||||||||||||          |   |   |  ||               |   |    |      |      | |   |      |          |    |  || |           ||    |           ||||||||||||||||||||||||||||     | | | ||  |||| |   ||| || |  | | |   | |  |||| |     | ||  ||  | ||  |||   | ||\n",
      "ID: ----O--V9-860-01.-1\n",
      "Name: --------OV9-860-01.-1\n",
      "Description: --------OV9-860-01.-1 P---------------s-eudomona-----s fluoresce---------ns- SBW25 gen--ome- asse-------mbly, chrom---osome: 1\n",
      "Number of features: 0\n",
      "Seq('-----G-T-G-TCAGTGGAAC---TTT-GG-C-AGCAGT---GCG-TGGAG-CTTTTGCGCGATGA-GCTGCCT...--GAC')\n",
      "  Score=119\n",
      "\n",
      "Alignment(seqA=\"ID: XM_0067794--07--.2-\\nName: XM_00677--94--07--.2-\\nDescription: XM_00677--94--07--.2- PREDICTED: Myotis --d----avidii- ------s-eryl-tRNA -sy---------nth--et-as-e (SARS)----, ----mRNA--------\\nNumber of features: 0\\nSeq('ATGGTGTTGGATC--TGGA-CTTGTTTCGGACG-G-A-TAAAG-GA-GGAGAC-----C-CG--GAC-C-GC--...TC-A-')\", seqB=\"ID: ---O---V9-860-01.-1\\nName: --------OV9-860-01.-1\\nDescription: --------OV9-860-01.-1 P---------------s-eudomona-----s fluoresce---------ns- SBW25 gen--ome- asse-------mbly, chrom---osome: 1\\nNumber of features: 0\\nSeq('-----G-T-G-TCAGTGGAAC---TTT-GG-C-AGCAGT---GCG-TGGAG-CTTTTGCGCGATGA-GCTGCCT...--GAC')\", score=119.0, start=0, end=303)\n",
      "ID: XM_0067794--07--.2-\n",
      "Name: XM_00677--94--07--.2-\n",
      "Description: XM_00677--94--07--.2- PREDICTED: Myotis --d----avidii- ------s-eryl-tRNA -sy---------nth--et-as-e (SARS)----, ----mRNA--------\n",
      "Number of features: 0\n",
      "Seq('ATGGTGTTGGATC--TGGA-CTTGTTTCGGACG-G-A-TAAAG-GA-GGAGAC-----C-CG--GAC-C-GC--...TC-A-')\n",
      "||||   .   .|   |   |  |||||||          |   |   |  ||||||||||||||          |   |   |  ||               |   |    |      |      | |   |      |          |    |  || |           ||    |           ||||||||||||||||||||||||||||     | | | ||  |||| |   ||| || |  | | |   | |  |||| |     | ||  ||  | ||  |||   | ||\n",
      "ID: ---O---V9-860-01.-1\n",
      "Name: --------OV9-860-01.-1\n",
      "Description: --------OV9-860-01.-1 P---------------s-eudomona-----s fluoresce---------ns- SBW25 gen--ome- asse-------mbly, chrom---osome: 1\n",
      "Number of features: 0\n",
      "Seq('-----G-T-G-TCAGTGGAAC---TTT-GG-C-AGCAGT---GCG-TGGAG-CTTTTGCGCGATGA-GCTGCCT...--GAC')\n",
      "  Score=119\n",
      "\n",
      "Alignment(seqA=\"ID: XM_0067794--07--.2-\\nName: XM_00677--94--07--.2-\\nDescription: XM_00677--94--07--.2- PREDICTED: Myotis --d----avidii- ------s-eryl-tRNA -sy---------nth--et-as-e (SARS)----, ----mRNA--------\\nNumber of features: 0\\nSeq('ATGGTGTTGGATC--TGGA-CTTGTTTCGGACG-G-A-TAAAG-GA-GGAGAC-----C-CG--GAC-C-GC--...TC-A-')\", seqB=\"ID: --O----V9-860-01.-1\\nName: --------OV9-860-01.-1\\nDescription: --------OV9-860-01.-1 P---------------s-eudomona-----s fluoresce---------ns- SBW25 gen--ome- asse-------mbly, chrom---osome: 1\\nNumber of features: 0\\nSeq('-----G-T-G-TCAGTGGAAC---TTT-GG-C-AGCAGT---GCG-TGGAG-CTTTTGCGCGATGA-GCTGCCT...--GAC')\", score=119.0, start=0, end=303)\n",
      "ID: XM_0067794--07--.2-\n",
      "Name: XM_00677--94--07--.2-\n",
      "Description: XM_00677--94--07--.2- PREDICTED: Myotis --d----avidii- ------s-eryl-tRNA -sy---------nth--et-as-e (SARS)----, ----mRNA--------\n",
      "Number of features: 0\n",
      "Seq('ATGGTGTTGGATC--TGGA-CTTGTTTCGGACG-G-A-TAAAG-GA-GGAGAC-----C-CG--GAC-C-GC--...TC-A-')\n",
      "||||  .    .|   |   |  |||||||          |   |   |  ||||||||||||||          |   |   |  ||               |   |    |      |      | |   |      |          |    |  || |           ||    |           ||||||||||||||||||||||||||||     | | | ||  |||| |   ||| || |  | | |   | |  |||| |     | ||  ||  | ||  |||   | ||\n",
      "ID: --O----V9-860-01.-1\n",
      "Name: --------OV9-860-01.-1\n",
      "Description: --------OV9-860-01.-1 P---------------s-eudomona-----s fluoresce---------ns- SBW25 gen--ome- asse-------mbly, chrom---osome: 1\n",
      "Number of features: 0\n",
      "Seq('-----G-T-G-TCAGTGGAAC---TTT-GG-C-AGCAGT---GCG-TGGAG-CTTTTGCGCGATGA-GCTGCCT...--GAC')\n",
      "  Score=119\n",
      "\n",
      "Alignment(seqA=\"ID: XM_0067794--07--.2-\\nName: XM_00677--94--07--.2-\\nDescription: XM_00677--94--07--.2- PREDICTED: Myotis --d----avidii- ------s-eryl-tRNA -sy---------nth--et-as-e (SARS)----, ----mRNA--------\\nNumber of features: 0\\nSeq('ATGGTGTTGGATC--TGGA-CTTGTTTCGGACG-G-A-TAAAG-GA-GGAGAC-----C-CG--GAC-C-GC--...TC-A-')\", seqB=\"ID: -O-----V9-860-01.-1\\nName: --------OV9-860-01.-1\\nDescription: --------OV9-860-01.-1 P---------------s-eudomona-----s fluoresce---------ns- SBW25 gen--ome- asse-------mbly, chrom---osome: 1\\nNumber of features: 0\\nSeq('-----G-T-G-TCAGTGGAAC---TTT-GG-C-AGCAGT---GCG-TGGAG-CTTTTGCGCGATGA-GCTGCCT...--GAC')\", score=119.0, start=0, end=303)\n",
      "ID: XM_0067794--07--.2-\n",
      "Name: XM_00677--94--07--.2-\n",
      "Description: XM_00677--94--07--.2- PREDICTED: Myotis --d----avidii- ------s-eryl-tRNA -sy---------nth--et-as-e (SARS)----, ----mRNA--------\n",
      "Number of features: 0\n",
      "Seq('ATGGTGTTGGATC--TGGA-CTTGTTTCGGACG-G-A-TAAAG-GA-GGAGAC-----C-CG--GAC-C-GC--...TC-A-')\n",
      "|||| .     .|   |   |  |||||||          |   |   |  ||||||||||||||          |   |   |  ||               |   |    |      |      | |   |      |          |    |  || |           ||    |           ||||||||||||||||||||||||||||     | | | ||  |||| |   ||| || |  | | |   | |  |||| |     | ||  ||  | ||  |||   | ||\n",
      "ID: -O-----V9-860-01.-1\n",
      "Name: --------OV9-860-01.-1\n",
      "Description: --------OV9-860-01.-1 P---------------s-eudomona-----s fluoresce---------ns- SBW25 gen--ome- asse-------mbly, chrom---osome: 1\n",
      "Number of features: 0\n",
      "Seq('-----G-T-G-TCAGTGGAAC---TTT-GG-C-AGCAGT---GCG-TGGAG-CTTTTGCGCGATGA-GCTGCCT...--GAC')\n",
      "  Score=119\n",
      "\n",
      "Alignment(seqA=\"ID: XM_0067794--07--.2-\\nName: XM_00677--94--07--.2-\\nDescription: XM_00677--94--07--.2- PREDICTED: Myotis --d----avidii- ------s-eryl-tRNA -sy---------nth--et-as-e (SARS)----, ----mRNA--------\\nNumber of features: 0\\nSeq('ATGGTGTTGGATC--TGGA-CTTGTTTCGGACG-G-A-TAAAG-GA-GGAGAC-----C-CG--GAC-C-GC--...TC-A-')\", seqB=\"ID: O------V9-860-01.-1\\nName: --------OV9-860-01.-1\\nDescription: --------OV9-860-01.-1 P---------------s-eudomona-----s fluoresce---------ns- SBW25 gen--ome- asse-------mbly, chrom---osome: 1\\nNumber of features: 0\\nSeq('-----G-T-G-TCAGTGGAAC---TTT-GG-C-AGCAGT---GCG-TGGAG-CTTTTGCGCGATGA-GCTGCCT...--GAC')\", score=119.0, start=0, end=303)\n",
      "ID: XM_0067794--07--.2-\n",
      "Name: XM_00677--94--07--.2-\n",
      "Description: XM_00677--94--07--.2- PREDICTED: Myotis --d----avidii- ------s-eryl-tRNA -sy---------nth--et-as-e (SARS)----, ----mRNA--------\n",
      "Number of features: 0\n",
      "Seq('ATGGTGTTGGATC--TGGA-CTTGTTTCGGACG-G-A-TAAAG-GA-GGAGAC-----C-CG--GAC-C-GC--...TC-A-')\n",
      "||||.      .|   |   |  |||||||          |   |   |  ||||||||||||||          |   |   |  ||               |   |    |      |      | |   |      |          |    |  || |           ||    |           ||||||||||||||||||||||||||||     | | | ||  |||| |   ||| || |  | | |   | |  |||| |     | ||  ||  | ||  |||   | ||\n",
      "ID: O------V9-860-01.-1\n",
      "Name: --------OV9-860-01.-1\n",
      "Description: --------OV9-860-01.-1 P---------------s-eudomona-----s fluoresce---------ns- SBW25 gen--ome- asse-------mbly, chrom---osome: 1\n",
      "Number of features: 0\n",
      "Seq('-----G-T-G-TCAGTGGAAC---TTT-GG-C-AGCAGT---GCG-TGGAG-CTTTTGCGCGATGA-GCTGCCT...--GAC')\n",
      "  Score=119\n",
      "\n",
      "Alignment(seqA=\"ID: XM_006-7794--07--.2-\\nName: XM_00677--94--07--.2-\\nDescription: XM_00677--94--07--.2- PREDICTED: Myotis --d----avidii- ------s-eryl-tRNA -sy---------nth--et-as-e (SARS)----, ----mRNA--------\\nNumber of features: 0\\nSeq('ATGGTGTTGGATC--TGGA-CTTGTTTCGGACG-G-A-TAAAG-GA-GGAGAC-----C-CG--GAC-C-GC--...TC-A-')\", seqB=\"ID: ------OV-9-860-01.-1\\nName: --------OV9-860-01.-1\\nDescription: --------OV9-860-01.-1 P---------------s-eudomona-----s fluoresce---------ns- SBW25 gen--ome- asse-------mbly, chrom---osome: 1\\nNumber of features: 0\\nSeq('-----G-T-G-TCAGTGGAAC---TTT-GG-C-AGCAGT---GCG-TGGAG-CTTTTGCGCGATGA-GCTGCCT...--GAC')\", score=119.0, start=0, end=304)\n",
      "ID: XM_006-7794--07--.2-\n",
      "Name: XM_00677--94--07--.2-\n",
      "Description: XM_00677--94--07--.2- PREDICTED: Myotis --d----avidii- ------s-eryl-tRNA -sy---------nth--et-as-e (SARS)----, ----mRNA--------\n",
      "Number of features: 0\n",
      "Seq('ATGGTGTTGGATC--TGGA-CTTGTTTCGGACG-G-A-TAAAG-GA-GGAGAC-----C-CG--GAC-C-GC--...TC-A-')\n",
      "||||       . |   |   |  |||||||          |   |   |  ||||||||||||||          |   |   |  ||               |   |    |      |      | |   |      |          |    |  || |           ||    |           ||||||||||||||||||||||||||||     | | | ||  |||| |   ||| || |  | | |   | |  |||| |     | ||  ||  | ||  |||   | ||\n",
      "ID: ------OV-9-860-01.-1\n",
      "Name: --------OV9-860-01.-1\n",
      "Description: --------OV9-860-01.-1 P---------------s-eudomona-----s fluoresce---------ns- SBW25 gen--ome- asse-------mbly, chrom---osome: 1\n",
      "Number of features: 0\n",
      "Seq('-----G-T-G-TCAGTGGAAC---TTT-GG-C-AGCAGT---GCG-TGGAG-CTTTTGCGCGATGA-GCTGCCT...--GAC')\n",
      "  Score=119\n",
      "\n",
      "Alignment(seqA=\"ID: XM_0067794--07--.2-\\nName: XM_00677--94--07--.2-\\nDescription: XM_00677--94--07--.2- PREDICTED: Myotis --d----avidii- ------s-eryl-tRNA -sy---------nth--et-as-e (SARS)----, ----mRNA--------\\nNumber of features: 0\\nSeq('ATGGTGTTGGATC--TGGA-CTTGTTTCGGACG-G-A-TAAAG-GA-GGAGAC-----C-CG--GAC-C-GC--...TC-A-')\", seqB=\"ID: -----OV-9-860-01.-1\\nName: --------OV9-860-01.-1\\nDescription: --------OV9-860-01.-1 P---------------s-eudomona-----s fluoresce---------ns- SBW25 gen--ome- asse-------mbly, chrom---osome: 1\\nNumber of features: 0\\nSeq('-----G-T-G-TCAGTGGAAC---TTT-GG-C-AGCAGT---GCG-TGGAG-CTTTTGCGCGATGA-GCTGCCT...--GAC')\", score=119.0, start=0, end=303)\n",
      "ID: XM_0067794--07--.2-\n",
      "Name: XM_00677--94--07--.2-\n",
      "Description: XM_00677--94--07--.2- PREDICTED: Myotis --d----avidii- ------s-eryl-tRNA -sy---------nth--et-as-e (SARS)----, ----mRNA--------\n",
      "Number of features: 0\n",
      "Seq('ATGGTGTTGGATC--TGGA-CTTGTTTCGGACG-G-A-TAAAG-GA-GGAGAC-----C-CG--GAC-C-GC--...TC-A-')\n",
      "||||     .. |   |   |  |||||||          |   |   |  ||||||||||||||          |   |   |  ||               |   |    |      |      | |   |      |          |    |  || |           ||    |           ||||||||||||||||||||||||||||     | | | ||  |||| |   ||| || |  | | |   | |  |||| |     | ||  ||  | ||  |||   | ||\n",
      "ID: -----OV-9-860-01.-1\n",
      "Name: --------OV9-860-01.-1\n",
      "Description: --------OV9-860-01.-1 P---------------s-eudomona-----s fluoresce---------ns- SBW25 gen--ome- asse-------mbly, chrom---osome: 1\n",
      "Number of features: 0\n",
      "Seq('-----G-T-G-TCAGTGGAAC---TTT-GG-C-AGCAGT---GCG-TGGAG-CTTTTGCGCGATGA-GCTGCCT...--GAC')\n",
      "  Score=119\n",
      "\n",
      "Alignment(seqA=\"ID: XM_0067794--07--.2-\\nName: XM_00677--94--07--.2-\\nDescription: XM_00677--94--07--.2- PREDICTED: Myotis --d----avidii- ------s-eryl-tRNA -sy---------nth--et-as-e (SARS)----, ----mRNA--------\\nNumber of features: 0\\nSeq('ATGGTGTTGGATC--TGGA-CTTGTTTCGGACG-G-A-TAAAG-GA-GGAGAC-----C-CG--GAC-C-GC--...TC-A-')\", seqB=\"ID: ----O-V-9-860-01.-1\\nName: --------OV9-860-01.-1\\nDescription: --------OV9-860-01.-1 P---------------s-eudomona-----s fluoresce---------ns- SBW25 gen--ome- asse-------mbly, chrom---osome: 1\\nNumber of features: 0\\nSeq('-----G-T-G-TCAGTGGAAC---TTT-GG-C-AGCAGT---GCG-TGGAG-CTTTTGCGCGATGA-GCTGCCT...--GAC')\", score=119.0, start=0, end=303)\n",
      "ID: XM_0067794--07--.2-\n",
      "Name: XM_00677--94--07--.2-\n",
      "Description: XM_00677--94--07--.2- PREDICTED: Myotis --d----avidii- ------s-eryl-tRNA -sy---------nth--et-as-e (SARS)----, ----mRNA--------\n",
      "Number of features: 0\n",
      "Seq('ATGGTGTTGGATC--TGGA-CTTGTTTCGGACG-G-A-TAAAG-GA-GGAGAC-----C-CG--GAC-C-GC--...TC-A-')\n",
      "||||    . . |   |   |  |||||||          |   |   |  ||||||||||||||          |   |   |  ||               |   |    |      |      | |   |      |          |    |  || |           ||    |           ||||||||||||||||||||||||||||     | | | ||  |||| |   ||| || |  | | |   | |  |||| |     | ||  ||  | ||  |||   | ||\n",
      "ID: ----O-V-9-860-01.-1\n",
      "Name: --------OV9-860-01.-1\n",
      "Description: --------OV9-860-01.-1 P---------------s-eudomona-----s fluoresce---------ns- SBW25 gen--ome- asse-------mbly, chrom---osome: 1\n",
      "Number of features: 0\n",
      "Seq('-----G-T-G-TCAGTGGAAC---TTT-GG-C-AGCAGT---GCG-TGGAG-CTTTTGCGCGATGA-GCTGCCT...--GAC')\n",
      "  Score=119\n",
      "\n",
      "Alignment(seqA=\"ID: XM_0067794--07--.2-\\nName: XM_00677--94--07--.2-\\nDescription: XM_00677--94--07--.2- PREDICTED: Myotis --d----avidii- ------s-eryl-tRNA -sy---------nth--et-as-e (SARS)----, ----mRNA--------\\nNumber of features: 0\\nSeq('ATGGTGTTGGATC--TGGA-CTTGTTTCGGACG-G-A-TAAAG-GA-GGAGAC-----C-CG--GAC-C-GC--...TC-A-')\", seqB=\"ID: ---O--V-9-860-01.-1\\nName: --------OV9-860-01.-1\\nDescription: --------OV9-860-01.-1 P---------------s-eudomona-----s fluoresce---------ns- SBW25 gen--ome- asse-------mbly, chrom---osome: 1\\nNumber of features: 0\\nSeq('-----G-T-G-TCAGTGGAAC---TTT-GG-C-AGCAGT---GCG-TGGAG-CTTTTGCGCGATGA-GCTGCCT...--GAC')\", score=119.0, start=0, end=303)\n",
      "ID: XM_0067794--07--.2-\n",
      "Name: XM_00677--94--07--.2-\n",
      "Description: XM_00677--94--07--.2- PREDICTED: Myotis --d----avidii- ------s-eryl-tRNA -sy---------nth--et-as-e (SARS)----, ----mRNA--------\n",
      "Number of features: 0\n",
      "Seq('ATGGTGTTGGATC--TGGA-CTTGTTTCGGACG-G-A-TAAAG-GA-GGAGAC-----C-CG--GAC-C-GC--...TC-A-')\n",
      "||||   .  . |   |   |  |||||||          |   |   |  ||||||||||||||          |   |   |  ||               |   |    |      |      | |   |      |          |    |  || |           ||    |           ||||||||||||||||||||||||||||     | | | ||  |||| |   ||| || |  | | |   | |  |||| |     | ||  ||  | ||  |||   | ||\n",
      "ID: ---O--V-9-860-01.-1\n",
      "Name: --------OV9-860-01.-1\n",
      "Description: --------OV9-860-01.-1 P---------------s-eudomona-----s fluoresce---------ns- SBW25 gen--ome- asse-------mbly, chrom---osome: 1\n",
      "Number of features: 0\n",
      "Seq('-----G-T-G-TCAGTGGAAC---TTT-GG-C-AGCAGT---GCG-TGGAG-CTTTTGCGCGATGA-GCTGCCT...--GAC')\n",
      "  Score=119\n",
      "\n",
      "Alignment(seqA=\"ID: XM_0067794--07--.2-\\nName: XM_00677--94--07--.2-\\nDescription: XM_00677--94--07--.2- PREDICTED: Myotis --d----avidii- ------s-eryl-tRNA -sy---------nth--et-as-e (SARS)----, ----mRNA--------\\nNumber of features: 0\\nSeq('ATGGTGTTGGATC--TGGA-CTTGTTTCGGACG-G-A-TAAAG-GA-GGAGAC-----C-CG--GAC-C-GC--...TC-A-')\", seqB=\"ID: --O---V-9-860-01.-1\\nName: --------OV9-860-01.-1\\nDescription: --------OV9-860-01.-1 P---------------s-eudomona-----s fluoresce---------ns- SBW25 gen--ome- asse-------mbly, chrom---osome: 1\\nNumber of features: 0\\nSeq('-----G-T-G-TCAGTGGAAC---TTT-GG-C-AGCAGT---GCG-TGGAG-CTTTTGCGCGATGA-GCTGCCT...--GAC')\", score=119.0, start=0, end=303)\n",
      "ID: XM_0067794--07--.2-\n",
      "Name: XM_00677--94--07--.2-\n",
      "Description: XM_00677--94--07--.2- PREDICTED: Myotis --d----avidii- ------s-eryl-tRNA -sy---------nth--et-as-e (SARS)----, ----mRNA--------\n",
      "Number of features: 0\n",
      "Seq('ATGGTGTTGGATC--TGGA-CTTGTTTCGGACG-G-A-TAAAG-GA-GGAGAC-----C-CG--GAC-C-GC--...TC-A-')\n",
      "||||  .   . |   |   |  |||||||          |   |   |  ||||||||||||||          |   |   |  ||               |   |    |      |      | |   |      |          |    |  || |           ||    |           ||||||||||||||||||||||||||||     | | | ||  |||| |   ||| || |  | | |   | |  |||| |     | ||  ||  | ||  |||   | ||\n",
      "ID: --O---V-9-860-01.-1\n",
      "Name: --------OV9-860-01.-1\n",
      "Description: --------OV9-860-01.-1 P---------------s-eudomona-----s fluoresce---------ns- SBW25 gen--ome- asse-------mbly, chrom---osome: 1\n",
      "Number of features: 0\n",
      "Seq('-----G-T-G-TCAGTGGAAC---TTT-GG-C-AGCAGT---GCG-TGGAG-CTTTTGCGCGATGA-GCTGCCT...--GAC')\n",
      "  Score=119\n",
      "\n",
      "Alignment(seqA=\"ID: XM_0067794--07--.2-\\nName: XM_00677--94--07--.2-\\nDescription: XM_00677--94--07--.2- PREDICTED: Myotis --d----avidii- ------s-eryl-tRNA -sy---------nth--et-as-e (SARS)----, ----mRNA--------\\nNumber of features: 0\\nSeq('ATGGTGTTGGATC--TGGA-CTTGTTTCGGACG-G-A-TAAAG-GA-GGAGAC-----C-CG--GAC-C-GC--...TC-A-')\", seqB=\"ID: -O----V-9-860-01.-1\\nName: --------OV9-860-01.-1\\nDescription: --------OV9-860-01.-1 P---------------s-eudomona-----s fluoresce---------ns- SBW25 gen--ome- asse-------mbly, chrom---osome: 1\\nNumber of features: 0\\nSeq('-----G-T-G-TCAGTGGAAC---TTT-GG-C-AGCAGT---GCG-TGGAG-CTTTTGCGCGATGA-GCTGCCT...--GAC')\", score=119.0, start=0, end=303)\n",
      "ID: XM_0067794--07--.2-\n",
      "Name: XM_00677--94--07--.2-\n",
      "Description: XM_00677--94--07--.2- PREDICTED: Myotis --d----avidii- ------s-eryl-tRNA -sy---------nth--et-as-e (SARS)----, ----mRNA--------\n",
      "Number of features: 0\n",
      "Seq('ATGGTGTTGGATC--TGGA-CTTGTTTCGGACG-G-A-TAAAG-GA-GGAGAC-----C-CG--GAC-C-GC--...TC-A-')\n",
      "|||| .    . |   |   |  |||||||          |   |   |  ||||||||||||||          |   |   |  ||               |   |    |      |      | |   |      |          |    |  || |           ||    |           ||||||||||||||||||||||||||||     | | | ||  |||| |   ||| || |  | | |   | |  |||| |     | ||  ||  | ||  |||   | ||\n",
      "ID: -O----V-9-860-01.-1\n",
      "Name: --------OV9-860-01.-1\n",
      "Description: --------OV9-860-01.-1 P---------------s-eudomona-----s fluoresce---------ns- SBW25 gen--ome- asse-------mbly, chrom---osome: 1\n",
      "Number of features: 0\n",
      "Seq('-----G-T-G-TCAGTGGAAC---TTT-GG-C-AGCAGT---GCG-TGGAG-CTTTTGCGCGATGA-GCTGCCT...--GAC')\n",
      "  Score=119\n",
      "\n",
      "Alignment(seqA=\"ID: XM_0067794--07--.2-\\nName: XM_00677--94--07--.2-\\nDescription: XM_00677--94--07--.2- PREDICTED: Myotis --d----avidii- ------s-eryl-tRNA -sy---------nth--et-as-e (SARS)----, ----mRNA--------\\nNumber of features: 0\\nSeq('ATGGTGTTGGATC--TGGA-CTTGTTTCGGACG-G-A-TAAAG-GA-GGAGAC-----C-CG--GAC-C-GC--...TC-A-')\", seqB=\"ID: O-----V-9-860-01.-1\\nName: --------OV9-860-01.-1\\nDescription: --------OV9-860-01.-1 P---------------s-eudomona-----s fluoresce---------ns- SBW25 gen--ome- asse-------mbly, chrom---osome: 1\\nNumber of features: 0\\nSeq('-----G-T-G-TCAGTGGAAC---TTT-GG-C-AGCAGT---GCG-TGGAG-CTTTTGCGCGATGA-GCTGCCT...--GAC')\", score=119.0, start=0, end=303)\n",
      "ID: XM_0067794--07--.2-\n",
      "Name: XM_00677--94--07--.2-\n",
      "Description: XM_00677--94--07--.2- PREDICTED: Myotis --d----avidii- ------s-eryl-tRNA -sy---------nth--et-as-e (SARS)----, ----mRNA--------\n",
      "Number of features: 0\n",
      "Seq('ATGGTGTTGGATC--TGGA-CTTGTTTCGGACG-G-A-TAAAG-GA-GGAGAC-----C-CG--GAC-C-GC--...TC-A-')\n",
      "||||.     . |   |   |  |||||||          |   |   |  ||||||||||||||          |   |   |  ||               |   |    |      |      | |   |      |          |    |  || |           ||    |           ||||||||||||||||||||||||||||     | | | ||  |||| |   ||| || |  | | |   | |  |||| |     | ||  ||  | ||  |||   | ||\n",
      "ID: O-----V-9-860-01.-1\n",
      "Name: --------OV9-860-01.-1\n",
      "Description: --------OV9-860-01.-1 P---------------s-eudomona-----s fluoresce---------ns- SBW25 gen--ome- asse-------mbly, chrom---osome: 1\n",
      "Number of features: 0\n",
      "Seq('-----G-T-G-TCAGTGGAAC---TTT-GG-C-AGCAGT---GCG-TGGAG-CTTTTGCGCGATGA-GCTGCCT...--GAC')\n",
      "  Score=119\n",
      "\n",
      "Alignment(seqA=\"ID: XM_00-67794--07--.2-\\nName: XM_00677--94--07--.2-\\nDescription: XM_00677--94--07--.2- PREDICTED: Myotis --d----avidii- ------s-eryl-tRNA -sy---------nth--et-as-e (SARS)----, ----mRNA--------\\nNumber of features: 0\\nSeq('ATGGTGTTGGATC--TGGA-CTTGTTTCGGACG-G-A-TAAAG-GA-GGAGAC-----C-CG--GAC-C-GC--...TC-A-')\", seqB=\"ID: -----OV--9-860-01.-1\\nName: --------OV9-860-01.-1\\nDescription: --------OV9-860-01.-1 P---------------s-eudomona-----s fluoresce---------ns- SBW25 gen--ome- asse-------mbly, chrom---osome: 1\\nNumber of features: 0\\nSeq('-----G-T-G-TCAGTGGAAC---TTT-GG-C-AGCAGT---GCG-TGGAG-CTTTTGCGCGATGA-GCTGCCT...--GAC')\", score=119.0, start=0, end=304)\n",
      "ID: XM_00-67794--07--.2-\n",
      "Name: XM_00677--94--07--.2-\n",
      "Description: XM_00677--94--07--.2- PREDICTED: Myotis --d----avidii- ------s-eryl-tRNA -sy---------nth--et-as-e (SARS)----, ----mRNA--------\n",
      "Number of features: 0\n",
      "Seq('ATGGTGTTGGATC--TGGA-CTTGTTTCGGACG-G-A-TAAAG-GA-GGAGAC-----C-CG--GAC-C-GC--...TC-A-')\n",
      "||||      .  |   |   |  |||||||          |   |   |  ||||||||||||||          |   |   |  ||               |   |    |      |      | |   |      |          |    |  || |           ||    |           ||||||||||||||||||||||||||||     | | | ||  |||| |   ||| || |  | | |   | |  |||| |     | ||  ||  | ||  |||   | ||\n",
      "ID: -----OV--9-860-01.-1\n",
      "Name: --------OV9-860-01.-1\n",
      "Description: --------OV9-860-01.-1 P---------------s-eudomona-----s fluoresce---------ns- SBW25 gen--ome- asse-------mbly, chrom---osome: 1\n",
      "Number of features: 0\n",
      "Seq('-----G-T-G-TCAGTGGAAC---TTT-GG-C-AGCAGT---GCG-TGGAG-CTTTTGCGCGATGA-GCTGCCT...--GAC')\n",
      "  Score=119\n",
      "\n",
      "Alignment(seqA=\"ID: XM_0067794--07--.2-\\nName: XM_00677--94--07--.2-\\nDescription: XM_00677--94--07--.2- PREDICTED: Myotis --d----avidii- ------s-eryl-tRNA -sy---------nth--et-as-e (SARS)----, ----mRNA--------\\nNumber of features: 0\\nSeq('ATGGTGTTGGATC--TGGA-CTTGTTTCGGACG-G-A-TAAAG-GA-GGAGAC-----C-CG--GAC-C-GC--...TC-A-')\", seqB=\"ID: ----OV--9-860-01.-1\\nName: --------OV9-860-01.-1\\nDescription: --------OV9-860-01.-1 P---------------s-eudomona-----s fluoresce---------ns- SBW25 gen--ome- asse-------mbly, chrom---osome: 1\\nNumber of features: 0\\nSeq('-----G-T-G-TCAGTGGAAC---TTT-GG-C-AGCAGT---GCG-TGGAG-CTTTTGCGCGATGA-GCTGCCT...--GAC')\", score=119.0, start=0, end=303)\n",
      "ID: XM_0067794--07--.2-\n",
      "Name: XM_00677--94--07--.2-\n",
      "Description: XM_00677--94--07--.2- PREDICTED: Myotis --d----avidii- ------s-eryl-tRNA -sy---------nth--et-as-e (SARS)----, ----mRNA--------\n",
      "Number of features: 0\n",
      "Seq('ATGGTGTTGGATC--TGGA-CTTGTTTCGGACG-G-A-TAAAG-GA-GGAGAC-----C-CG--GAC-C-GC--...TC-A-')\n",
      "||||    ..  |   |   |  |||||||          |   |   |  ||||||||||||||          |   |   |  ||               |   |    |      |      | |   |      |          |    |  || |           ||    |           ||||||||||||||||||||||||||||     | | | ||  |||| |   ||| || |  | | |   | |  |||| |     | ||  ||  | ||  |||   | ||\n",
      "ID: ----OV--9-860-01.-1\n",
      "Name: --------OV9-860-01.-1\n",
      "Description: --------OV9-860-01.-1 P---------------s-eudomona-----s fluoresce---------ns- SBW25 gen--ome- asse-------mbly, chrom---osome: 1\n",
      "Number of features: 0\n",
      "Seq('-----G-T-G-TCAGTGGAAC---TTT-GG-C-AGCAGT---GCG-TGGAG-CTTTTGCGCGATGA-GCTGCCT...--GAC')\n",
      "  Score=119\n",
      "\n",
      "Alignment(seqA=\"ID: XM_0067794--07--.2-\\nName: XM_00677--94--07--.2-\\nDescription: XM_00677--94--07--.2- PREDICTED: Myotis --d----avidii- ------s-eryl-tRNA -sy---------nth--et-as-e (SARS)----, ----mRNA--------\\nNumber of features: 0\\nSeq('ATGGTGTTGGATC--TGGA-CTTGTTTCGGACG-G-A-TAAAG-GA-GGAGAC-----C-CG--GAC-C-GC--...TC-A-')\", seqB=\"ID: ---O-V--9-860-01.-1\\nName: --------OV9-860-01.-1\\nDescription: --------OV9-860-01.-1 P---------------s-eudomona-----s fluoresce---------ns- SBW25 gen--ome- asse-------mbly, chrom---osome: 1\\nNumber of features: 0\\nSeq('-----G-T-G-TCAGTGGAAC---TTT-GG-C-AGCAGT---GCG-TGGAG-CTTTTGCGCGATGA-GCTGCCT...--GAC')\", score=119.0, start=0, end=303)\n",
      "ID: XM_0067794--07--.2-\n",
      "Name: XM_00677--94--07--.2-\n",
      "Description: XM_00677--94--07--.2- PREDICTED: Myotis --d----avidii- ------s-eryl-tRNA -sy---------nth--et-as-e (SARS)----, ----mRNA--------\n",
      "Number of features: 0\n",
      "Seq('ATGGTGTTGGATC--TGGA-CTTGTTTCGGACG-G-A-TAAAG-GA-GGAGAC-----C-CG--GAC-C-GC--...TC-A-')\n",
      "||||   . .  |   |   |  |||||||          |   |   |  ||||||||||||||          |   |   |  ||               |   |    |      |      | |   |      |          |    |  || |           ||    |           ||||||||||||||||||||||||||||     | | | ||  |||| |   ||| || |  | | |   | |  |||| |     | ||  ||  | ||  |||   | ||\n",
      "ID: ---O-V--9-860-01.-1\n",
      "Name: --------OV9-860-01.-1\n",
      "Description: --------OV9-860-01.-1 P---------------s-eudomona-----s fluoresce---------ns- SBW25 gen--ome- asse-------mbly, chrom---osome: 1\n",
      "Number of features: 0\n",
      "Seq('-----G-T-G-TCAGTGGAAC---TTT-GG-C-AGCAGT---GCG-TGGAG-CTTTTGCGCGATGA-GCTGCCT...--GAC')\n",
      "  Score=119\n",
      "\n",
      "Alignment(seqA=\"ID: XM_0067794--07--.2-\\nName: XM_00677--94--07--.2-\\nDescription: XM_00677--94--07--.2- PREDICTED: Myotis --d----avidii- ------s-eryl-tRNA -sy---------nth--et-as-e (SARS)----, ----mRNA--------\\nNumber of features: 0\\nSeq('ATGGTGTTGGATC--TGGA-CTTGTTTCGGACG-G-A-TAAAG-GA-GGAGAC-----C-CG--GAC-C-GC--...TC-A-')\", seqB=\"ID: --O--V--9-860-01.-1\\nName: --------OV9-860-01.-1\\nDescription: --------OV9-860-01.-1 P---------------s-eudomona-----s fluoresce---------ns- SBW25 gen--ome- asse-------mbly, chrom---osome: 1\\nNumber of features: 0\\nSeq('-----G-T-G-TCAGTGGAAC---TTT-GG-C-AGCAGT---GCG-TGGAG-CTTTTGCGCGATGA-GCTGCCT...--GAC')\", score=119.0, start=0, end=303)\n",
      "ID: XM_0067794--07--.2-\n",
      "Name: XM_00677--94--07--.2-\n",
      "Description: XM_00677--94--07--.2- PREDICTED: Myotis --d----avidii- ------s-eryl-tRNA -sy---------nth--et-as-e (SARS)----, ----mRNA--------\n",
      "Number of features: 0\n",
      "Seq('ATGGTGTTGGATC--TGGA-CTTGTTTCGGACG-G-A-TAAAG-GA-GGAGAC-----C-CG--GAC-C-GC--...TC-A-')\n",
      "||||  .  .  |   |   |  |||||||          |   |   |  ||||||||||||||          |   |   |  ||               |   |    |      |      | |   |      |          |    |  || |           ||    |           ||||||||||||||||||||||||||||     | | | ||  |||| |   ||| || |  | | |   | |  |||| |     | ||  ||  | ||  |||   | ||\n",
      "ID: --O--V--9-860-01.-1\n",
      "Name: --------OV9-860-01.-1\n",
      "Description: --------OV9-860-01.-1 P---------------s-eudomona-----s fluoresce---------ns- SBW25 gen--ome- asse-------mbly, chrom---osome: 1\n",
      "Number of features: 0\n",
      "Seq('-----G-T-G-TCAGTGGAAC---TTT-GG-C-AGCAGT---GCG-TGGAG-CTTTTGCGCGATGA-GCTGCCT...--GAC')\n",
      "  Score=119\n",
      "\n",
      "Alignment(seqA=\"ID: XM_0067794--07--.2-\\nName: XM_00677--94--07--.2-\\nDescription: XM_00677--94--07--.2- PREDICTED: Myotis --d----avidii- ------s-eryl-tRNA -sy---------nth--et-as-e (SARS)----, ----mRNA--------\\nNumber of features: 0\\nSeq('ATGGTGTTGGATC--TGGA-CTTGTTTCGGACG-G-A-TAAAG-GA-GGAGAC-----C-CG--GAC-C-GC--...TC-A-')\", seqB=\"ID: -O---V--9-860-01.-1\\nName: --------OV9-860-01.-1\\nDescription: --------OV9-860-01.-1 P---------------s-eudomona-----s fluoresce---------ns- SBW25 gen--ome- asse-------mbly, chrom---osome: 1\\nNumber of features: 0\\nSeq('-----G-T-G-TCAGTGGAAC---TTT-GG-C-AGCAGT---GCG-TGGAG-CTTTTGCGCGATGA-GCTGCCT...--GAC')\", score=119.0, start=0, end=303)\n",
      "ID: XM_0067794--07--.2-\n",
      "Name: XM_00677--94--07--.2-\n",
      "Description: XM_00677--94--07--.2- PREDICTED: Myotis --d----avidii- ------s-eryl-tRNA -sy---------nth--et-as-e (SARS)----, ----mRNA--------\n",
      "Number of features: 0\n",
      "Seq('ATGGTGTTGGATC--TGGA-CTTGTTTCGGACG-G-A-TAAAG-GA-GGAGAC-----C-CG--GAC-C-GC--...TC-A-')\n",
      "|||| .   .  |   |   |  |||||||          |   |   |  ||||||||||||||          |   |   |  ||               |   |    |      |      | |   |      |          |    |  || |           ||    |           ||||||||||||||||||||||||||||     | | | ||  |||| |   ||| || |  | | |   | |  |||| |     | ||  ||  | ||  |||   | ||\n",
      "ID: -O---V--9-860-01.-1\n",
      "Name: --------OV9-860-01.-1\n",
      "Description: --------OV9-860-01.-1 P---------------s-eudomona-----s fluoresce---------ns- SBW25 gen--ome- asse-------mbly, chrom---osome: 1\n",
      "Number of features: 0\n",
      "Seq('-----G-T-G-TCAGTGGAAC---TTT-GG-C-AGCAGT---GCG-TGGAG-CTTTTGCGCGATGA-GCTGCCT...--GAC')\n",
      "  Score=119\n",
      "\n",
      "Alignment(seqA=\"ID: XM_0067794--07--.2-\\nName: XM_00677--94--07--.2-\\nDescription: XM_00677--94--07--.2- PREDICTED: Myotis --d----avidii- ------s-eryl-tRNA -sy---------nth--et-as-e (SARS)----, ----mRNA--------\\nNumber of features: 0\\nSeq('ATGGTGTTGGATC--TGGA-CTTGTTTCGGACG-G-A-TAAAG-GA-GGAGAC-----C-CG--GAC-C-GC--...TC-A-')\", seqB=\"ID: O----V--9-860-01.-1\\nName: --------OV9-860-01.-1\\nDescription: --------OV9-860-01.-1 P---------------s-eudomona-----s fluoresce---------ns- SBW25 gen--ome- asse-------mbly, chrom---osome: 1\\nNumber of features: 0\\nSeq('-----G-T-G-TCAGTGGAAC---TTT-GG-C-AGCAGT---GCG-TGGAG-CTTTTGCGCGATGA-GCTGCCT...--GAC')\", score=119.0, start=0, end=303)\n",
      "ID: XM_0067794--07--.2-\n",
      "Name: XM_00677--94--07--.2-\n",
      "Description: XM_00677--94--07--.2- PREDICTED: Myotis --d----avidii- ------s-eryl-tRNA -sy---------nth--et-as-e (SARS)----, ----mRNA--------\n",
      "Number of features: 0\n",
      "Seq('ATGGTGTTGGATC--TGGA-CTTGTTTCGGACG-G-A-TAAAG-GA-GGAGAC-----C-CG--GAC-C-GC--...TC-A-')\n",
      "||||.    .  |   |   |  |||||||          |   |   |  ||||||||||||||          |   |   |  ||               |   |    |      |      | |   |      |          |    |  || |           ||    |           ||||||||||||||||||||||||||||     | | | ||  |||| |   ||| || |  | | |   | |  |||| |     | ||  ||  | ||  |||   | ||\n",
      "ID: O----V--9-860-01.-1\n",
      "Name: --------OV9-860-01.-1\n",
      "Description: --------OV9-860-01.-1 P---------------s-eudomona-----s fluoresce---------ns- SBW25 gen--ome- asse-------mbly, chrom---osome: 1\n",
      "Number of features: 0\n",
      "Seq('-----G-T-G-TCAGTGGAAC---TTT-GG-C-AGCAGT---GCG-TGGAG-CTTTTGCGCGATGA-GCTGCCT...--GAC')\n",
      "  Score=119\n",
      "\n",
      "Alignment(seqA=\"ID: XM_0-067794--07--.2-\\nName: XM_00677--94--07--.2-\\nDescription: XM_00677--94--07--.2- PREDICTED: Myotis --d----avidii- ------s-eryl-tRNA -sy---------nth--et-as-e (SARS)----, ----mRNA--------\\nNumber of features: 0\\nSeq('ATGGTGTTGGATC--TGGA-CTTGTTTCGGACG-G-A-TAAAG-GA-GGAGAC-----C-CG--GAC-C-GC--...TC-A-')\", seqB=\"ID: ----OV---9-860-01.-1\\nName: --------OV9-860-01.-1\\nDescription: --------OV9-860-01.-1 P---------------s-eudomona-----s fluoresce---------ns- SBW25 gen--ome- asse-------mbly, chrom---osome: 1\\nNumber of features: 0\\nSeq('-----G-T-G-TCAGTGGAAC---TTT-GG-C-AGCAGT---GCG-TGGAG-CTTTTGCGCGATGA-GCTGCCT...--GAC')\", score=119.0, start=0, end=304)\n",
      "ID: XM_0-067794--07--.2-\n",
      "Name: XM_00677--94--07--.2-\n",
      "Description: XM_00677--94--07--.2- PREDICTED: Myotis --d----avidii- ------s-eryl-tRNA -sy---------nth--et-as-e (SARS)----, ----mRNA--------\n",
      "Number of features: 0\n",
      "Seq('ATGGTGTTGGATC--TGGA-CTTGTTTCGGACG-G-A-TAAAG-GA-GGAGAC-----C-CG--GAC-C-GC--...TC-A-')\n",
      "||||     .   |   |   |  |||||||          |   |   |  ||||||||||||||          |   |   |  ||               |   |    |      |      | |   |      |          |    |  || |           ||    |           ||||||||||||||||||||||||||||     | | | ||  |||| |   ||| || |  | | |   | |  |||| |     | ||  ||  | ||  |||   | ||\n",
      "ID: ----OV---9-860-01.-1\n",
      "Name: --------OV9-860-01.-1\n",
      "Description: --------OV9-860-01.-1 P---------------s-eudomona-----s fluoresce---------ns- SBW25 gen--ome- asse-------mbly, chrom---osome: 1\n",
      "Number of features: 0\n",
      "Seq('-----G-T-G-TCAGTGGAAC---TTT-GG-C-AGCAGT---GCG-TGGAG-CTTTTGCGCGATGA-GCTGCCT...--GAC')\n",
      "  Score=119\n",
      "\n",
      "Alignment(seqA=\"ID: XM_0067794--07--.2-\\nName: XM_00677--94--07--.2-\\nDescription: XM_00677--94--07--.2- PREDICTED: Myotis --d----avidii- ------s-eryl-tRNA -sy---------nth--et-as-e (SARS)----, ----mRNA--------\\nNumber of features: 0\\nSeq('ATGGTGTTGGATC--TGGA-CTTGTTTCGGACG-G-A-TAAAG-GA-GGAGAC-----C-CG--GAC-C-GC--...TC-A-')\", seqB=\"ID: ---OV---9-860-01.-1\\nName: --------OV9-860-01.-1\\nDescription: --------OV9-860-01.-1 P---------------s-eudomona-----s fluoresce---------ns- SBW25 gen--ome- asse-------mbly, chrom---osome: 1\\nNumber of features: 0\\nSeq('-----G-T-G-TCAGTGGAAC---TTT-GG-C-AGCAGT---GCG-TGGAG-CTTTTGCGCGATGA-GCTGCCT...--GAC')\", score=119.0, start=0, end=303)\n",
      "ID: XM_0067794--07--.2-\n",
      "Name: XM_00677--94--07--.2-\n",
      "Description: XM_00677--94--07--.2- PREDICTED: Myotis --d----avidii- ------s-eryl-tRNA -sy---------nth--et-as-e (SARS)----, ----mRNA--------\n",
      "Number of features: 0\n",
      "Seq('ATGGTGTTGGATC--TGGA-CTTGTTTCGGACG-G-A-TAAAG-GA-GGAGAC-----C-CG--GAC-C-GC--...TC-A-')\n",
      "||||   ..   |   |   |  |||||||          |   |   |  ||||||||||||||          |   |   |  ||               |   |    |      |      | |   |      |          |    |  || |           ||    |           ||||||||||||||||||||||||||||     | | | ||  |||| |   ||| || |  | | |   | |  |||| |     | ||  ||  | ||  |||   | ||\n",
      "ID: ---OV---9-860-01.-1\n",
      "Name: --------OV9-860-01.-1\n",
      "Description: --------OV9-860-01.-1 P---------------s-eudomona-----s fluoresce---------ns- SBW25 gen--ome- asse-------mbly, chrom---osome: 1\n",
      "Number of features: 0\n",
      "Seq('-----G-T-G-TCAGTGGAAC---TTT-GG-C-AGCAGT---GCG-TGGAG-CTTTTGCGCGATGA-GCTGCCT...--GAC')\n",
      "  Score=119\n",
      "\n",
      "Alignment(seqA=\"ID: XM_0067794--07--.2-\\nName: XM_00677--94--07--.2-\\nDescription: XM_00677--94--07--.2- PREDICTED: Myotis --d----avidii- ------s-eryl-tRNA -sy---------nth--et-as-e (SARS)----, ----mRNA--------\\nNumber of features: 0\\nSeq('ATGGTGTTGGATC--TGGA-CTTGTTTCGGACG-G-A-TAAAG-GA-GGAGAC-----C-CG--GAC-C-GC--...TC-A-')\", seqB=\"ID: --O-V---9-860-01.-1\\nName: --------OV9-860-01.-1\\nDescription: --------OV9-860-01.-1 P---------------s-eudomona-----s fluoresce---------ns- SBW25 gen--ome- asse-------mbly, chrom---osome: 1\\nNumber of features: 0\\nSeq('-----G-T-G-TCAGTGGAAC---TTT-GG-C-AGCAGT---GCG-TGGAG-CTTTTGCGCGATGA-GCTGCCT...--GAC')\", score=119.0, start=0, end=303)\n",
      "ID: XM_0067794--07--.2-\n",
      "Name: XM_00677--94--07--.2-\n",
      "Description: XM_00677--94--07--.2- PREDICTED: Myotis --d----avidii- ------s-eryl-tRNA -sy---------nth--et-as-e (SARS)----, ----mRNA--------\n",
      "Number of features: 0\n",
      "Seq('ATGGTGTTGGATC--TGGA-CTTGTTTCGGACG-G-A-TAAAG-GA-GGAGAC-----C-CG--GAC-C-GC--...TC-A-')\n",
      "||||  . .   |   |   |  |||||||          |   |   |  ||||||||||||||          |   |   |  ||               |   |    |      |      | |   |      |          |    |  || |           ||    |           ||||||||||||||||||||||||||||     | | | ||  |||| |   ||| || |  | | |   | |  |||| |     | ||  ||  | ||  |||   | ||\n",
      "ID: --O-V---9-860-01.-1\n",
      "Name: --------OV9-860-01.-1\n",
      "Description: --------OV9-860-01.-1 P---------------s-eudomona-----s fluoresce---------ns- SBW25 gen--ome- asse-------mbly, chrom---osome: 1\n",
      "Number of features: 0\n",
      "Seq('-----G-T-G-TCAGTGGAAC---TTT-GG-C-AGCAGT---GCG-TGGAG-CTTTTGCGCGATGA-GCTGCCT...--GAC')\n",
      "  Score=119\n",
      "\n",
      "Alignment(seqA=\"ID: XM_0067794--07--.2-\\nName: XM_00677--94--07--.2-\\nDescription: XM_00677--94--07--.2- PREDICTED: Myotis --d----avidii- ------s-eryl-tRNA -sy---------nth--et-as-e (SARS)----, ----mRNA--------\\nNumber of features: 0\\nSeq('ATGGTGTTGGATC--TGGA-CTTGTTTCGGACG-G-A-TAAAG-GA-GGAGAC-----C-CG--GAC-C-GC--...TC-A-')\", seqB=\"ID: -O--V---9-860-01.-1\\nName: --------OV9-860-01.-1\\nDescription: --------OV9-860-01.-1 P---------------s-eudomona-----s fluoresce---------ns- SBW25 gen--ome- asse-------mbly, chrom---osome: 1\\nNumber of features: 0\\nSeq('-----G-T-G-TCAGTGGAAC---TTT-GG-C-AGCAGT---GCG-TGGAG-CTTTTGCGCGATGA-GCTGCCT...--GAC')\", score=119.0, start=0, end=303)\n",
      "ID: XM_0067794--07--.2-\n",
      "Name: XM_00677--94--07--.2-\n",
      "Description: XM_00677--94--07--.2- PREDICTED: Myotis --d----avidii- ------s-eryl-tRNA -sy---------nth--et-as-e (SARS)----, ----mRNA--------\n",
      "Number of features: 0\n",
      "Seq('ATGGTGTTGGATC--TGGA-CTTGTTTCGGACG-G-A-TAAAG-GA-GGAGAC-----C-CG--GAC-C-GC--...TC-A-')\n",
      "|||| .  .   |   |   |  |||||||          |   |   |  ||||||||||||||          |   |   |  ||               |   |    |      |      | |   |      |          |    |  || |           ||    |           ||||||||||||||||||||||||||||     | | | ||  |||| |   ||| || |  | | |   | |  |||| |     | ||  ||  | ||  |||   | ||\n",
      "ID: -O--V---9-860-01.-1\n",
      "Name: --------OV9-860-01.-1\n",
      "Description: --------OV9-860-01.-1 P---------------s-eudomona-----s fluoresce---------ns- SBW25 gen--ome- asse-------mbly, chrom---osome: 1\n",
      "Number of features: 0\n",
      "Seq('-----G-T-G-TCAGTGGAAC---TTT-GG-C-AGCAGT---GCG-TGGAG-CTTTTGCGCGATGA-GCTGCCT...--GAC')\n",
      "  Score=119\n",
      "\n",
      "Alignment(seqA=\"ID: XM_0067794--07--.2-\\nName: XM_00677--94--07--.2-\\nDescription: XM_00677--94--07--.2- PREDICTED: Myotis --d----avidii- ------s-eryl-tRNA -sy---------nth--et-as-e (SARS)----, ----mRNA--------\\nNumber of features: 0\\nSeq('ATGGTGTTGGATC--TGGA-CTTGTTTCGGACG-G-A-TAAAG-GA-GGAGAC-----C-CG--GAC-C-GC--...TC-A-')\", seqB=\"ID: O---V---9-860-01.-1\\nName: --------OV9-860-01.-1\\nDescription: --------OV9-860-01.-1 P---------------s-eudomona-----s fluoresce---------ns- SBW25 gen--ome- asse-------mbly, chrom---osome: 1\\nNumber of features: 0\\nSeq('-----G-T-G-TCAGTGGAAC---TTT-GG-C-AGCAGT---GCG-TGGAG-CTTTTGCGCGATGA-GCTGCCT...--GAC')\", score=119.0, start=0, end=303)\n",
      "ID: XM_0067794--07--.2-\n",
      "Name: XM_00677--94--07--.2-\n",
      "Description: XM_00677--94--07--.2- PREDICTED: Myotis --d----avidii- ------s-eryl-tRNA -sy---------nth--et-as-e (SARS)----, ----mRNA--------\n",
      "Number of features: 0\n",
      "Seq('ATGGTGTTGGATC--TGGA-CTTGTTTCGGACG-G-A-TAAAG-GA-GGAGAC-----C-CG--GAC-C-GC--...TC-A-')\n",
      "||||.   .   |   |   |  |||||||          |   |   |  ||||||||||||||          |   |   |  ||               |   |    |      |      | |   |      |          |    |  || |           ||    |           ||||||||||||||||||||||||||||     | | | ||  |||| |   ||| || |  | | |   | |  |||| |     | ||  ||  | ||  |||   | ||\n",
      "ID: O---V---9-860-01.-1\n",
      "Name: --------OV9-860-01.-1\n",
      "Description: --------OV9-860-01.-1 P---------------s-eudomona-----s fluoresce---------ns- SBW25 gen--ome- asse-------mbly, chrom---osome: 1\n",
      "Number of features: 0\n",
      "Seq('-----G-T-G-TCAGTGGAAC---TTT-GG-C-AGCAGT---GCG-TGGAG-CTTTTGCGCGATGA-GCTGCCT...--GAC')\n",
      "  Score=119\n",
      "\n",
      "Alignment(seqA=\"ID: XM_-0067794--07--.2-\\nName: XM_00677--94--07--.2-\\nDescription: XM_00677--94--07--.2- PREDICTED: Myotis --d----avidii- ------s-eryl-tRNA -sy---------nth--et-as-e (SARS)----, ----mRNA--------\\nNumber of features: 0\\nSeq('ATGGTGTTGGATC--TGGA-CTTGTTTCGGACG-G-A-TAAAG-GA-GGAGAC-----C-CG--GAC-C-GC--...TC-A-')\", seqB=\"ID: ---OV----9-860-01.-1\\nName: --------OV9-860-01.-1\\nDescription: --------OV9-860-01.-1 P---------------s-eudomona-----s fluoresce---------ns- SBW25 gen--ome- asse-------mbly, chrom---osome: 1\\nNumber of features: 0\\nSeq('-----G-T-G-TCAGTGGAAC---TTT-GG-C-AGCAGT---GCG-TGGAG-CTTTTGCGCGATGA-GCTGCCT...--GAC')\", score=119.0, start=0, end=304)\n",
      "ID: XM_-0067794--07--.2-\n",
      "Name: XM_00677--94--07--.2-\n",
      "Description: XM_00677--94--07--.2- PREDICTED: Myotis --d----avidii- ------s-eryl-tRNA -sy---------nth--et-as-e (SARS)----, ----mRNA--------\n",
      "Number of features: 0\n",
      "Seq('ATGGTGTTGGATC--TGGA-CTTGTTTCGGACG-G-A-TAAAG-GA-GGAGAC-----C-CG--GAC-C-GC--...TC-A-')\n",
      "||||    .    |   |   |  |||||||          |   |   |  ||||||||||||||          |   |   |  ||               |   |    |      |      | |   |      |          |    |  || |           ||    |           ||||||||||||||||||||||||||||     | | | ||  |||| |   ||| || |  | | |   | |  |||| |     | ||  ||  | ||  |||   | ||\n",
      "ID: ---OV----9-860-01.-1\n",
      "Name: --------OV9-860-01.-1\n",
      "Description: --------OV9-860-01.-1 P---------------s-eudomona-----s fluoresce---------ns- SBW25 gen--ome- asse-------mbly, chrom---osome: 1\n",
      "Number of features: 0\n",
      "Seq('-----G-T-G-TCAGTGGAAC---TTT-GG-C-AGCAGT---GCG-TGGAG-CTTTTGCGCGATGA-GCTGCCT...--GAC')\n",
      "  Score=119\n",
      "\n",
      "Alignment(seqA=\"ID: XM_0067794--07--.2-\\nName: XM_00677--94--07--.2-\\nDescription: XM_00677--94--07--.2- PREDICTED: Myotis --d----avidii- ------s-eryl-tRNA -sy---------nth--et-as-e (SARS)----, ----mRNA--------\\nNumber of features: 0\\nSeq('ATGGTGTTGGATC--TGGA-CTTGTTTCGGACG-G-A-TAAAG-GA-GGAGAC-----C-CG--GAC-C-GC--...TC-A-')\", seqB=\"ID: --OV----9-860-01.-1\\nName: --------OV9-860-01.-1\\nDescription: --------OV9-860-01.-1 P---------------s-eudomona-----s fluoresce---------ns- SBW25 gen--ome- asse-------mbly, chrom---osome: 1\\nNumber of features: 0\\nSeq('-----G-T-G-TCAGTGGAAC---TTT-GG-C-AGCAGT---GCG-TGGAG-CTTTTGCGCGATGA-GCTGCCT...--GAC')\", score=119.0, start=0, end=303)\n",
      "ID: XM_0067794--07--.2-\n",
      "Name: XM_00677--94--07--.2-\n",
      "Description: XM_00677--94--07--.2- PREDICTED: Myotis --d----avidii- ------s-eryl-tRNA -sy---------nth--et-as-e (SARS)----, ----mRNA--------\n",
      "Number of features: 0\n",
      "Seq('ATGGTGTTGGATC--TGGA-CTTGTTTCGGACG-G-A-TAAAG-GA-GGAGAC-----C-CG--GAC-C-GC--...TC-A-')\n",
      "||||  ..    |   |   |  |||||||          |   |   |  ||||||||||||||          |   |   |  ||               |   |    |      |      | |   |      |          |    |  || |           ||    |           ||||||||||||||||||||||||||||     | | | ||  |||| |   ||| || |  | | |   | |  |||| |     | ||  ||  | ||  |||   | ||\n",
      "ID: --OV----9-860-01.-1\n",
      "Name: --------OV9-860-01.-1\n",
      "Description: --------OV9-860-01.-1 P---------------s-eudomona-----s fluoresce---------ns- SBW25 gen--ome- asse-------mbly, chrom---osome: 1\n",
      "Number of features: 0\n",
      "Seq('-----G-T-G-TCAGTGGAAC---TTT-GG-C-AGCAGT---GCG-TGGAG-CTTTTGCGCGATGA-GCTGCCT...--GAC')\n",
      "  Score=119\n",
      "\n",
      "Alignment(seqA=\"ID: XM_0067794--07--.2-\\nName: XM_00677--94--07--.2-\\nDescription: XM_00677--94--07--.2- PREDICTED: Myotis --d----avidii- ------s-eryl-tRNA -sy---------nth--et-as-e (SARS)----, ----mRNA--------\\nNumber of features: 0\\nSeq('ATGGTGTTGGATC--TGGA-CTTGTTTCGGACG-G-A-TAAAG-GA-GGAGAC-----C-CG--GAC-C-GC--...TC-A-')\", seqB=\"ID: -O-V----9-860-01.-1\\nName: --------OV9-860-01.-1\\nDescription: --------OV9-860-01.-1 P---------------s-eudomona-----s fluoresce---------ns- SBW25 gen--ome- asse-------mbly, chrom---osome: 1\\nNumber of features: 0\\nSeq('-----G-T-G-TCAGTGGAAC---TTT-GG-C-AGCAGT---GCG-TGGAG-CTTTTGCGCGATGA-GCTGCCT...--GAC')\", score=119.0, start=0, end=303)\n",
      "ID: XM_0067794--07--.2-\n",
      "Name: XM_00677--94--07--.2-\n",
      "Description: XM_00677--94--07--.2- PREDICTED: Myotis --d----avidii- ------s-eryl-tRNA -sy---------nth--et-as-e (SARS)----, ----mRNA--------\n",
      "Number of features: 0\n",
      "Seq('ATGGTGTTGGATC--TGGA-CTTGTTTCGGACG-G-A-TAAAG-GA-GGAGAC-----C-CG--GAC-C-GC--...TC-A-')\n",
      "|||| . .    |   |   |  |||||||          |   |   |  ||||||||||||||          |   |   |  ||               |   |    |      |      | |   |      |          |    |  || |           ||    |           ||||||||||||||||||||||||||||     | | | ||  |||| |   ||| || |  | | |   | |  |||| |     | ||  ||  | ||  |||   | ||\n",
      "ID: -O-V----9-860-01.-1\n",
      "Name: --------OV9-860-01.-1\n",
      "Description: --------OV9-860-01.-1 P---------------s-eudomona-----s fluoresce---------ns- SBW25 gen--ome- asse-------mbly, chrom---osome: 1\n",
      "Number of features: 0\n",
      "Seq('-----G-T-G-TCAGTGGAAC---TTT-GG-C-AGCAGT---GCG-TGGAG-CTTTTGCGCGATGA-GCTGCCT...--GAC')\n",
      "  Score=119\n",
      "\n",
      "Alignment(seqA=\"ID: XM_0067794--07--.2-\\nName: XM_00677--94--07--.2-\\nDescription: XM_00677--94--07--.2- PREDICTED: Myotis --d----avidii- ------s-eryl-tRNA -sy---------nth--et-as-e (SARS)----, ----mRNA--------\\nNumber of features: 0\\nSeq('ATGGTGTTGGATC--TGGA-CTTGTTTCGGACG-G-A-TAAAG-GA-GGAGAC-----C-CG--GAC-C-GC--...TC-A-')\", seqB=\"ID: O--V----9-860-01.-1\\nName: --------OV9-860-01.-1\\nDescription: --------OV9-860-01.-1 P---------------s-eudomona-----s fluoresce---------ns- SBW25 gen--ome- asse-------mbly, chrom---osome: 1\\nNumber of features: 0\\nSeq('-----G-T-G-TCAGTGGAAC---TTT-GG-C-AGCAGT---GCG-TGGAG-CTTTTGCGCGATGA-GCTGCCT...--GAC')\", score=119.0, start=0, end=303)\n",
      "ID: XM_0067794--07--.2-\n",
      "Name: XM_00677--94--07--.2-\n",
      "Description: XM_00677--94--07--.2- PREDICTED: Myotis --d----avidii- ------s-eryl-tRNA -sy---------nth--et-as-e (SARS)----, ----mRNA--------\n",
      "Number of features: 0\n",
      "Seq('ATGGTGTTGGATC--TGGA-CTTGTTTCGGACG-G-A-TAAAG-GA-GGAGAC-----C-CG--GAC-C-GC--...TC-A-')\n",
      "||||.  .    |   |   |  |||||||          |   |   |  ||||||||||||||          |   |   |  ||               |   |    |      |      | |   |      |          |    |  || |           ||    |           ||||||||||||||||||||||||||||     | | | ||  |||| |   ||| || |  | | |   | |  |||| |     | ||  ||  | ||  |||   | ||\n",
      "ID: O--V----9-860-01.-1\n",
      "Name: --------OV9-860-01.-1\n",
      "Description: --------OV9-860-01.-1 P---------------s-eudomona-----s fluoresce---------ns- SBW25 gen--ome- asse-------mbly, chrom---osome: 1\n",
      "Number of features: 0\n",
      "Seq('-----G-T-G-TCAGTGGAAC---TTT-GG-C-AGCAGT---GCG-TGGAG-CTTTTGCGCGATGA-GCTGCCT...--GAC')\n",
      "  Score=119\n",
      "\n",
      "Alignment(seqA=\"ID: XM-_0067794--07--.2-\\nName: XM_00677--94--07--.2-\\nDescription: XM_00677--94--07--.2- PREDICTED: Myotis --d----avidii- ------s-eryl-tRNA -sy---------nth--et-as-e (SARS)----, ----mRNA--------\\nNumber of features: 0\\nSeq('ATGGTGTTGGATC--TGGA-CTTGTTTCGGACG-G-A-TAAAG-GA-GGAGAC-----C-CG--GAC-C-GC--...TC-A-')\", seqB=\"ID: --OV-----9-860-01.-1\\nName: --------OV9-860-01.-1\\nDescription: --------OV9-860-01.-1 P---------------s-eudomona-----s fluoresce---------ns- SBW25 gen--ome- asse-------mbly, chrom---osome: 1\\nNumber of features: 0\\nSeq('-----G-T-G-TCAGTGGAAC---TTT-GG-C-AGCAGT---GCG-TGGAG-CTTTTGCGCGATGA-GCTGCCT...--GAC')\", score=119.0, start=0, end=304)\n",
      "ID: XM-_0067794--07--.2-\n",
      "Name: XM_00677--94--07--.2-\n",
      "Description: XM_00677--94--07--.2- PREDICTED: Myotis --d----avidii- ------s-eryl-tRNA -sy---------nth--et-as-e (SARS)----, ----mRNA--------\n",
      "Number of features: 0\n",
      "Seq('ATGGTGTTGGATC--TGGA-CTTGTTTCGGACG-G-A-TAAAG-GA-GGAGAC-----C-CG--GAC-C-GC--...TC-A-')\n",
      "||||   .     |   |   |  |||||||          |   |   |  ||||||||||||||          |   |   |  ||               |   |    |      |      | |   |      |          |    |  || |           ||    |           ||||||||||||||||||||||||||||     | | | ||  |||| |   ||| || |  | | |   | |  |||| |     | ||  ||  | ||  |||   | ||\n",
      "ID: --OV-----9-860-01.-1\n",
      "Name: --------OV9-860-01.-1\n",
      "Description: --------OV9-860-01.-1 P---------------s-eudomona-----s fluoresce---------ns- SBW25 gen--ome- asse-------mbly, chrom---osome: 1\n",
      "Number of features: 0\n",
      "Seq('-----G-T-G-TCAGTGGAAC---TTT-GG-C-AGCAGT---GCG-TGGAG-CTTTTGCGCGATGA-GCTGCCT...--GAC')\n",
      "  Score=119\n",
      "\n",
      "Alignment(seqA=\"ID: XM_0067794--07--.2-\\nName: XM_00677--94--07--.2-\\nDescription: XM_00677--94--07--.2- PREDICTED: Myotis --d----avidii- ------s-eryl-tRNA -sy---------nth--et-as-e (SARS)----, ----mRNA--------\\nNumber of features: 0\\nSeq('ATGGTGTTGGATC--TGGA-CTTGTTTCGGACG-G-A-TAAAG-GA-GGAGAC-----C-CG--GAC-C-GC--...TC-A-')\", seqB=\"ID: -OV-----9-860-01.-1\\nName: --------OV9-860-01.-1\\nDescription: --------OV9-860-01.-1 P---------------s-eudomona-----s fluoresce---------ns- SBW25 gen--ome- asse-------mbly, chrom---osome: 1\\nNumber of features: 0\\nSeq('-----G-T-G-TCAGTGGAAC---TTT-GG-C-AGCAGT---GCG-TGGAG-CTTTTGCGCGATGA-GCTGCCT...--GAC')\", score=119.0, start=0, end=303)\n",
      "ID: XM_0067794--07--.2-\n",
      "Name: XM_00677--94--07--.2-\n",
      "Description: XM_00677--94--07--.2- PREDICTED: Myotis --d----avidii- ------s-eryl-tRNA -sy---------nth--et-as-e (SARS)----, ----mRNA--------\n",
      "Number of features: 0\n",
      "Seq('ATGGTGTTGGATC--TGGA-CTTGTTTCGGACG-G-A-TAAAG-GA-GGAGAC-----C-CG--GAC-C-GC--...TC-A-')\n",
      "|||| ..     |   |   |  |||||||          |   |   |  ||||||||||||||          |   |   |  ||               |   |    |      |      | |   |      |          |    |  || |           ||    |           ||||||||||||||||||||||||||||     | | | ||  |||| |   ||| || |  | | |   | |  |||| |     | ||  ||  | ||  |||   | ||\n",
      "ID: -OV-----9-860-01.-1\n",
      "Name: --------OV9-860-01.-1\n",
      "Description: --------OV9-860-01.-1 P---------------s-eudomona-----s fluoresce---------ns- SBW25 gen--ome- asse-------mbly, chrom---osome: 1\n",
      "Number of features: 0\n",
      "Seq('-----G-T-G-TCAGTGGAAC---TTT-GG-C-AGCAGT---GCG-TGGAG-CTTTTGCGCGATGA-GCTGCCT...--GAC')\n",
      "  Score=119\n",
      "\n",
      "Alignment(seqA=\"ID: XM_0067794--07--.2-\\nName: XM_00677--94--07--.2-\\nDescription: XM_00677--94--07--.2- PREDICTED: Myotis --d----avidii- ------s-eryl-tRNA -sy---------nth--et-as-e (SARS)----, ----mRNA--------\\nNumber of features: 0\\nSeq('ATGGTGTTGGATC--TGGA-CTTGTTTCGGACG-G-A-TAAAG-GA-GGAGAC-----C-CG--GAC-C-GC--...TC-A-')\", seqB=\"ID: O-V-----9-860-01.-1\\nName: --------OV9-860-01.-1\\nDescription: --------OV9-860-01.-1 P---------------s-eudomona-----s fluoresce---------ns- SBW25 gen--ome- asse-------mbly, chrom---osome: 1\\nNumber of features: 0\\nSeq('-----G-T-G-TCAGTGGAAC---TTT-GG-C-AGCAGT---GCG-TGGAG-CTTTTGCGCGATGA-GCTGCCT...--GAC')\", score=119.0, start=0, end=303)\n",
      "ID: XM_0067794--07--.2-\n",
      "Name: XM_00677--94--07--.2-\n",
      "Description: XM_00677--94--07--.2- PREDICTED: Myotis --d----avidii- ------s-eryl-tRNA -sy---------nth--et-as-e (SARS)----, ----mRNA--------\n",
      "Number of features: 0\n",
      "Seq('ATGGTGTTGGATC--TGGA-CTTGTTTCGGACG-G-A-TAAAG-GA-GGAGAC-----C-CG--GAC-C-GC--...TC-A-')\n",
      "||||. .     |   |   |  |||||||          |   |   |  ||||||||||||||          |   |   |  ||               |   |    |      |      | |   |      |          |    |  || |           ||    |           ||||||||||||||||||||||||||||     | | | ||  |||| |   ||| || |  | | |   | |  |||| |     | ||  ||  | ||  |||   | ||\n",
      "ID: O-V-----9-860-01.-1\n",
      "Name: --------OV9-860-01.-1\n",
      "Description: --------OV9-860-01.-1 P---------------s-eudomona-----s fluoresce---------ns- SBW25 gen--ome- asse-------mbly, chrom---osome: 1\n",
      "Number of features: 0\n",
      "Seq('-----G-T-G-TCAGTGGAAC---TTT-GG-C-AGCAGT---GCG-TGGAG-CTTTTGCGCGATGA-GCTGCCT...--GAC')\n",
      "  Score=119\n",
      "\n",
      "Alignment(seqA=\"ID: X-M_0067794--07--.2-\\nName: XM_00677--94--07--.2-\\nDescription: XM_00677--94--07--.2- PREDICTED: Myotis --d----avidii- ------s-eryl-tRNA -sy---------nth--et-as-e (SARS)----, ----mRNA--------\\nNumber of features: 0\\nSeq('ATGGTGTTGGATC--TGGA-CTTGTTTCGGACG-G-A-TAAAG-GA-GGAGAC-----C-CG--GAC-C-GC--...TC-A-')\", seqB=\"ID: -OV------9-860-01.-1\\nName: --------OV9-860-01.-1\\nDescription: --------OV9-860-01.-1 P---------------s-eudomona-----s fluoresce---------ns- SBW25 gen--ome- asse-------mbly, chrom---osome: 1\\nNumber of features: 0\\nSeq('-----G-T-G-TCAGTGGAAC---TTT-GG-C-AGCAGT---GCG-TGGAG-CTTTTGCGCGATGA-GCTGCCT...--GAC')\", score=119.0, start=0, end=304)\n",
      "ID: X-M_0067794--07--.2-\n",
      "Name: XM_00677--94--07--.2-\n",
      "Description: XM_00677--94--07--.2- PREDICTED: Myotis --d----avidii- ------s-eryl-tRNA -sy---------nth--et-as-e (SARS)----, ----mRNA--------\n",
      "Number of features: 0\n",
      "Seq('ATGGTGTTGGATC--TGGA-CTTGTTTCGGACG-G-A-TAAAG-GA-GGAGAC-----C-CG--GAC-C-GC--...TC-A-')\n",
      "||||  .      |   |   |  |||||||          |   |   |  ||||||||||||||          |   |   |  ||               |   |    |      |      | |   |      |          |    |  || |           ||    |           ||||||||||||||||||||||||||||     | | | ||  |||| |   ||| || |  | | |   | |  |||| |     | ||  ||  | ||  |||   | ||\n",
      "ID: -OV------9-860-01.-1\n",
      "Name: --------OV9-860-01.-1\n",
      "Description: --------OV9-860-01.-1 P---------------s-eudomona-----s fluoresce---------ns- SBW25 gen--ome- asse-------mbly, chrom---osome: 1\n",
      "Number of features: 0\n",
      "Seq('-----G-T-G-TCAGTGGAAC---TTT-GG-C-AGCAGT---GCG-TGGAG-CTTTTGCGCGATGA-GCTGCCT...--GAC')\n",
      "  Score=119\n",
      "\n",
      "Alignment(seqA=\"ID: XM_0067794--07--.2-\\nName: XM_00677--94--07--.2-\\nDescription: XM_00677--94--07--.2- PREDICTED: Myotis --d----avidii- ------s-eryl-tRNA -sy---------nth--et-as-e (SARS)----, ----mRNA--------\\nNumber of features: 0\\nSeq('ATGGTGTTGGATC--TGGA-CTTGTTTCGGACG-G-A-TAAAG-GA-GGAGAC-----C-CG--GAC-C-GC--...TC-A-')\", seqB=\"ID: OV------9-860-01.-1\\nName: --------OV9-860-01.-1\\nDescription: --------OV9-860-01.-1 P---------------s-eudomona-----s fluoresce---------ns- SBW25 gen--ome- asse-------mbly, chrom---osome: 1\\nNumber of features: 0\\nSeq('-----G-T-G-TCAGTGGAAC---TTT-GG-C-AGCAGT---GCG-TGGAG-CTTTTGCGCGATGA-GCTGCCT...--GAC')\", score=119.0, start=0, end=303)\n",
      "ID: XM_0067794--07--.2-\n",
      "Name: XM_00677--94--07--.2-\n",
      "Description: XM_00677--94--07--.2- PREDICTED: Myotis --d----avidii- ------s-eryl-tRNA -sy---------nth--et-as-e (SARS)----, ----mRNA--------\n",
      "Number of features: 0\n",
      "Seq('ATGGTGTTGGATC--TGGA-CTTGTTTCGGACG-G-A-TAAAG-GA-GGAGAC-----C-CG--GAC-C-GC--...TC-A-')\n",
      "||||..      |   |   |  |||||||          |   |   |  ||||||||||||||          |   |   |  ||               |   |    |      |      | |   |      |          |    |  || |           ||    |           ||||||||||||||||||||||||||||     | | | ||  |||| |   ||| || |  | | |   | |  |||| |     | ||  ||  | ||  |||   | ||\n",
      "ID: OV------9-860-01.-1\n",
      "Name: --------OV9-860-01.-1\n",
      "Description: --------OV9-860-01.-1 P---------------s-eudomona-----s fluoresce---------ns- SBW25 gen--ome- asse-------mbly, chrom---osome: 1\n",
      "Number of features: 0\n",
      "Seq('-----G-T-G-TCAGTGGAAC---TTT-GG-C-AGCAGT---GCG-TGGAG-CTTTTGCGCGATGA-GCTGCCT...--GAC')\n",
      "  Score=119\n",
      "\n",
      "Alignment(seqA=\"ID: -XM_0067794--07--.2-\\nName: XM_00677--94--07--.2-\\nDescription: XM_00677--94--07--.2- PREDICTED: Myotis --d----avidii- ------s-eryl-tRNA -sy---------nth--et-as-e (SARS)----, ----mRNA--------\\nNumber of features: 0\\nSeq('ATGGTGTTGGATC--TGGA-CTTGTTTCGGACG-G-A-TAAAG-GA-GGAGAC-----C-CG--GAC-C-GC--...TC-A-')\", seqB=\"ID: OV-------9-860-01.-1\\nName: --------OV9-860-01.-1\\nDescription: --------OV9-860-01.-1 P---------------s-eudomona-----s fluoresce---------ns- SBW25 gen--ome- asse-------mbly, chrom---osome: 1\\nNumber of features: 0\\nSeq('-----G-T-G-TCAGTGGAAC---TTT-GG-C-AGCAGT---GCG-TGGAG-CTTTTGCGCGATGA-GCTGCCT...--GAC')\", score=119.0, start=0, end=304)\n",
      "ID: -XM_0067794--07--.2-\n",
      "Name: XM_00677--94--07--.2-\n",
      "Description: XM_00677--94--07--.2- PREDICTED: Myotis --d----avidii- ------s-eryl-tRNA -sy---------nth--et-as-e (SARS)----, ----mRNA--------\n",
      "Number of features: 0\n",
      "Seq('ATGGTGTTGGATC--TGGA-CTTGTTTCGGACG-G-A-TAAAG-GA-GGAGAC-----C-CG--GAC-C-GC--...TC-A-')\n",
      "|||| .       |   |   |  |||||||          |   |   |  ||||||||||||||          |   |   |  ||               |   |    |      |      | |   |      |          |    |  || |           ||    |           ||||||||||||||||||||||||||||     | | | ||  |||| |   ||| || |  | | |   | |  |||| |     | ||  ||  | ||  |||   | ||\n",
      "ID: OV-------9-860-01.-1\n",
      "Name: --------OV9-860-01.-1\n",
      "Description: --------OV9-860-01.-1 P---------------s-eudomona-----s fluoresce---------ns- SBW25 gen--ome- asse-------mbly, chrom---osome: 1\n",
      "Number of features: 0\n",
      "Seq('-----G-T-G-TCAGTGGAAC---TTT-GG-C-AGCAGT---GCG-TGGAG-CTTTTGCGCGATGA-GCTGCCT...--GAC')\n",
      "  Score=119\n",
      "\n"
     ]
    }
   ],
   "source": [
    "from Bio import pairwise2\n",
    "\n",
    "pairs1 = pairwise2.align.localxx(seqx,seqy)\n",
    "\n",
    "for pair in pairs1:\n",
    "    print(pair)\n",
    "    print(pairwise2.format_alignment(*pair))"
   ]
  },
  {
   "cell_type": "code",
   "execution_count": 52,
   "metadata": {},
   "outputs": [
    {
     "name": "stdout",
     "output_type": "stream",
     "text": [
      "Alignment(seqA=\"ID: OV986001.1\\nName: OV986001.1\\nDescription: OV986001.1 Pseudomonas fluorescens SBW25 genome assembly, chromosome: 1\\nNumber of features: 0\\nSeq('GTGTCAGTGGAAC--TTTGGCAGCAG-TG-CGTG-GAGCTT--TTGC-GCGATG--AGC-T-GCCT...G--AC')\", seqB='----------------------------------------------------------------------------------------------------------------------------------------------------CA---G-ACGGTTT--CA--AGGTGAC-TGTGA-C-TGATT-CAG-G-T-CTAG-GTTG--T---GGTA---', score=34.0, start=0, end=220)\n",
      "Alignment(seqA=\"ID: OV986001.1\\nName: OV986001.1\\nDescription: OV986001.1 Pseudomonas fluorescens SBW25 genome assembly, chromosome: 1\\nNumber of features: 0\\nSeq('GTGTCAGTGGAAC--TTTGGCAGCAG-TG-CGTG-GAGCTT--TTGC-GCGATG--AGC-T-GCCT...G--AC')\", seqB='----------------------------------------------------------------------------------------------------------------------------------------------------CA--G--ACGGTTT--CA--AGGTGAC-TGTGA-C-TGATT-CAG-G-T-CTAG-GTTG--T---GGTA---', score=34.0, start=0, end=220)\n",
      "Alignment(seqA=\"ID: OV986001.1\\nName: OV986001.1\\nDescription: OV986001.1 Pseudomonas fluorescens SBW25 genome assembly, chromosome: 1\\nNumber of features: 0\\nSeq('GTGTCAGTGGAAC--TTTGGCAGCAG-TG-CGTG-GAGCTT--TTGC-GCGATG--AGC-T-GCCT...G--AC')\", seqB='----------------------------------------------------------------------------------------------------------------------------------------------------CAG----ACGGTTT--CA--AGGTGAC-TGTGA-C-TGATT-CAG-G-T-CTAG-GTTG--T---GGTA---', score=34.0, start=0, end=220)\n",
      "Alignment(seqA=\"ID: OV986001.1\\nName: OV986001.1\\nDescription: OV986001.1 Pseudomonas fluorescens SBW25 genome assembly, chromosome: 1\\nNumber of features: 0\\nSeq('GTGTCAGTGGAAC--TTTGGCAGCAG-TG-CGTG-GAGCTT--TTGC-GCGATG--AGC-T-GCCT...G--AC')\", seqB='----------------------------------------------------------------------------------------------------------------------------------------------------CA---GA-CGGTTT--CA--AGGTGAC-TGTGA-C-TGATT-CAG-G-T-CTAG-GTTG--T---GGTA---', score=34.0, start=0, end=220)\n",
      "Alignment(seqA=\"ID: OV986001.1\\nName: OV986001.1\\nDescription: OV986001.1 Pseudomonas fluorescens SBW25 genome assembly, chromosome: 1\\nNumber of features: 0\\nSeq('GTGTCAGTGGAAC--TTTGGCAGCAG-TG-CGTG-GAGCTT--TTGC-GCGATG--AGC-T-GCCT...G--AC')\", seqB='----------------------------------------------------------------------------------------------------------------------------------------------------CA--G-A-CGGTTT--CA--AGGTGAC-TGTGA-C-TGATT-CAG-G-T-CTAG-GTTG--T---GGTA---', score=34.0, start=0, end=220)\n",
      "Alignment(seqA=\"ID: OV986001.1\\nName: OV986001.1\\nDescription: OV986001.1 Pseudomonas fluorescens SBW25 genome assembly, chromosome: 1\\nNumber of features: 0\\nSeq('GTGTCAGTGGAAC--TTTGGCAGCAG-TG-CGTG-GAGCTT--TTGC-GCGATG--AGC-T-GCCT...G--AC')\", seqB='----------------------------------------------------------------------------------------------------------------------------------------------------CAG---A-CGGTTT--CA--AGGTGAC-TGTGA-C-TGATT-CAG-G-T-CTAG-GTTG--T---GGTA---', score=34.0, start=0, end=220)\n",
      "Alignment(seqA=\"ID: OV986001.1\\nName: OV986001.1\\nDescription: OV986001.1 Pseudomonas fluorescens SBW25 genome assembly, chromosome: 1\\nNumber of features: 0\\nSeq('GTGTCAGT--GGAACTTTGGCAGCAG-TG-CGTG-GAGCTT--TTGC-GCGATG--AGC-T-GCCT...G--AC')\", seqB='----------------------------------------------------------------------------------------------------------------------------------------------------CAG-ACGG---TTT--CA--AGGTGAC-TGTGA-C-TGATT-CAG-G-T-CTAG-GTTG--T---GGTA---', score=34.0, start=0, end=220)\n",
      "Alignment(seqA=\"ID: OV986001.1\\nName: OV986001.1\\nDescription: OV986001.1 Pseudomonas fluorescens SBW25 genome assembly, chromosome: 1\\nNumber of features: 0\\nSeq('GTGTCAGT-GGAACTTTGGCAGCAG-TG-CGTG-GAGCTT--TTGC-GCGATG--AGC-T-GCCT...G--AC')\", seqB='----------------------------------------------------------------------------------------------------------------------------------------------------CAGACGG---TTT--CA--AGGTGAC-TGTGA-C-TGATT-CAG-G-T-CTAG-GTTG--T---GGTA---', score=34.0, start=0, end=219)\n",
      "Alignment(seqA=\"ID: OV986001.1\\nName: OV986001.1\\nDescription: OV986001.1 Pseudomonas fluorescens SBW25 genome assembly, chromosome: 1\\nNumber of features: 0\\nSeq('GTGTCAG-TGGAACTTTGGCAGCAG-TG-CGTG-GAGCTT--TTGC-GCGATG--AGC-T-GCCT...G--AC')\", seqB='----------------------------------------------------------------------------------------------------------------------------------------------------CAGACGG---TTT--CA--AGGTGAC-TGTGA-C-TGATT-CAG-G-T-CTAG-GTTG--T---GGTA---', score=34.0, start=0, end=219)\n",
      "Alignment(seqA=\"ID: OV986001.1\\nName: OV986001.1\\nDescription: OV986001.1 Pseudomonas fluorescens SBW25 genome assembly, chromosome: 1\\nNumber of features: 0\\nSeq('GTGTCAGTGGAAC--TTTGGCAGCA-GTG-CGTG-GAGCTT--TTGC-GCGATG--AGC-T-GCCT...G--AC')\", seqB='----------------------------------------------------------------------------------------------------------------------------------------------------CA---G-ACGGTTT--CA--AGGTGAC-TGTGA-C-TGATT-CAG-G-T-CTAG-GTTG--T---GGTA---', score=34.0, start=0, end=220)\n",
      "Alignment(seqA=\"ID: OV986001.1\\nName: OV986001.1\\nDescription: OV986001.1 Pseudomonas fluorescens SBW25 genome assembly, chromosome: 1\\nNumber of features: 0\\nSeq('GTGTCAGTGGAAC--TTTGGCAGCA-GTG-CGTG-GAGCTT--TTGC-GCGATG--AGC-T-GCCT...G--AC')\", seqB='----------------------------------------------------------------------------------------------------------------------------------------------------CA--G--ACGGTTT--CA--AGGTGAC-TGTGA-C-TGATT-CAG-G-T-CTAG-GTTG--T---GGTA---', score=34.0, start=0, end=220)\n",
      "Alignment(seqA=\"ID: OV986001.1\\nName: OV986001.1\\nDescription: OV986001.1 Pseudomonas fluorescens SBW25 genome assembly, chromosome: 1\\nNumber of features: 0\\nSeq('GTGTCAGTGGAAC--TTTGGCAGCA-GTG-CGTG-GAGCTT--TTGC-GCGATG--AGC-T-GCCT...G--AC')\", seqB='----------------------------------------------------------------------------------------------------------------------------------------------------CAG----ACGGTTT--CA--AGGTGAC-TGTGA-C-TGATT-CAG-G-T-CTAG-GTTG--T---GGTA---', score=34.0, start=0, end=220)\n",
      "Alignment(seqA=\"ID: OV986001.1\\nName: OV986001.1\\nDescription: OV986001.1 Pseudomonas fluorescens SBW25 genome assembly, chromosome: 1\\nNumber of features: 0\\nSeq('GTGTCAGTGGAAC--TTTGGCAGCA-GTG-CGTG-GAGCTT--TTGC-GCGATG--AGC-T-GCCT...G--AC')\", seqB='----------------------------------------------------------------------------------------------------------------------------------------------------CA---GA-CGGTTT--CA--AGGTGAC-TGTGA-C-TGATT-CAG-G-T-CTAG-GTTG--T---GGTA---', score=34.0, start=0, end=220)\n",
      "Alignment(seqA=\"ID: OV986001.1\\nName: OV986001.1\\nDescription: OV986001.1 Pseudomonas fluorescens SBW25 genome assembly, chromosome: 1\\nNumber of features: 0\\nSeq('GTGTCAGTGGAAC--TTTGGCAGCA-GTG-CGTG-GAGCTT--TTGC-GCGATG--AGC-T-GCCT...G--AC')\", seqB='----------------------------------------------------------------------------------------------------------------------------------------------------CA--G-A-CGGTTT--CA--AGGTGAC-TGTGA-C-TGATT-CAG-G-T-CTAG-GTTG--T---GGTA---', score=34.0, start=0, end=220)\n",
      "Alignment(seqA=\"ID: OV986001.1\\nName: OV986001.1\\nDescription: OV986001.1 Pseudomonas fluorescens SBW25 genome assembly, chromosome: 1\\nNumber of features: 0\\nSeq('GTGTCAGTGGAAC--TTTGGCAGCA-GTG-CGTG-GAGCTT--TTGC-GCGATG--AGC-T-GCCT...G--AC')\", seqB='----------------------------------------------------------------------------------------------------------------------------------------------------CAG---A-CGGTTT--CA--AGGTGAC-TGTGA-C-TGATT-CAG-G-T-CTAG-GTTG--T---GGTA---', score=34.0, start=0, end=220)\n",
      "Alignment(seqA=\"ID: OV986001.1\\nName: OV986001.1\\nDescription: OV986001.1 Pseudomonas fluorescens SBW25 genome assembly, chromosome: 1\\nNumber of features: 0\\nSeq('GTGTCAGT--GGAACTTTGGCAGCA-GTG-CGTG-GAGCTT--TTGC-GCGATG--AGC-T-GCCT...G--AC')\", seqB='----------------------------------------------------------------------------------------------------------------------------------------------------CAG-ACGG---TTT--CA--AGGTGAC-TGTGA-C-TGATT-CAG-G-T-CTAG-GTTG--T---GGTA---', score=34.0, start=0, end=220)\n",
      "Alignment(seqA=\"ID: OV986001.1\\nName: OV986001.1\\nDescription: OV986001.1 Pseudomonas fluorescens SBW25 genome assembly, chromosome: 1\\nNumber of features: 0\\nSeq('GTGTCAGT-GGAACTTTGGCAGCA-GTG-CGTG-GAGCTT--TTGC-GCGATG--AGC-T-GCCT...G--AC')\", seqB='----------------------------------------------------------------------------------------------------------------------------------------------------CAGACGG---TTT--CA--AGGTGAC-TGTGA-C-TGATT-CAG-G-T-CTAG-GTTG--T---GGTA---', score=34.0, start=0, end=219)\n",
      "Alignment(seqA=\"ID: OV986001.1\\nName: OV986001.1\\nDescription: OV986001.1 Pseudomonas fluorescens SBW25 genome assembly, chromosome: 1\\nNumber of features: 0\\nSeq('GTGTCAG-TGGAACTTTGGCAGCA-GTG-CGTG-GAGCTT--TTGC-GCGATG--AGC-T-GCCT...G--AC')\", seqB='----------------------------------------------------------------------------------------------------------------------------------------------------CAGACGG---TTT--CA--AGGTGAC-TGTGA-C-TGATT-CAG-G-T-CTAG-GTTG--T---GGTA---', score=34.0, start=0, end=219)\n",
      "Alignment(seqA=\"ID: OV986001.1\\nName: OV986001.1\\nDescription: OV986001.1 Pseudomonas fluorescens SBW25 genome assembly, chromosome: 1\\nNumber of features: 0\\nSeq('GTGTCAGTGGAAC--TTTGGCA-GCAGTG-CGTG-GAGCTT--TTGC-GCGATG--AGC-T-GCCT...G--AC')\", seqB='----------------------------------------------------------------------------------------------------------------------------------------------------CA---G-ACGGTTT--CAAG--GTGAC-TGTGA-C-TGATT-CAG-G-T-CTAG-GTTG--T---GGTA---', score=34.0, start=0, end=220)\n",
      "Alignment(seqA=\"ID: OV986001.1\\nName: OV986001.1\\nDescription: OV986001.1 Pseudomonas fluorescens SBW25 genome assembly, chromosome: 1\\nNumber of features: 0\\nSeq('GTGTCAGTGGAAC--TTTGGCA-GCAGTG-CGTG-GAGCTT--TTGC-GCGATG--AGC-T-GCCT...G--AC')\", seqB='----------------------------------------------------------------------------------------------------------------------------------------------------CA--G--ACGGTTT--CAAG--GTGAC-TGTGA-C-TGATT-CAG-G-T-CTAG-GTTG--T---GGTA---', score=34.0, start=0, end=220)\n",
      "Alignment(seqA=\"ID: OV986001.1\\nName: OV986001.1\\nDescription: OV986001.1 Pseudomonas fluorescens SBW25 genome assembly, chromosome: 1\\nNumber of features: 0\\nSeq('GTGTCAGTGGAAC--TTTGGCA-GCAGTG-CGTG-GAGCTT--TTGC-GCGATG--AGC-T-GCCT...G--AC')\", seqB='----------------------------------------------------------------------------------------------------------------------------------------------------CAG----ACGGTTT--CAAG--GTGAC-TGTGA-C-TGATT-CAG-G-T-CTAG-GTTG--T---GGTA---', score=34.0, start=0, end=220)\n",
      "Alignment(seqA=\"ID: OV986001.1\\nName: OV986001.1\\nDescription: OV986001.1 Pseudomonas fluorescens SBW25 genome assembly, chromosome: 1\\nNumber of features: 0\\nSeq('GTGTCAGTGGAAC--TTTGGCA-GCAGTG-CGTG-GAGCTT--TTGC-GCGATG--AGC-T-GCCT...G--AC')\", seqB='----------------------------------------------------------------------------------------------------------------------------------------------------CA---GA-CGGTTT--CAAG--GTGAC-TGTGA-C-TGATT-CAG-G-T-CTAG-GTTG--T---GGTA---', score=34.0, start=0, end=220)\n",
      "Alignment(seqA=\"ID: OV986001.1\\nName: OV986001.1\\nDescription: OV986001.1 Pseudomonas fluorescens SBW25 genome assembly, chromosome: 1\\nNumber of features: 0\\nSeq('GTGTCAGTGGAAC--TTTGGCA-GCAGTG-CGTG-GAGCTT--TTGC-GCGATG--AGC-T-GCCT...G--AC')\", seqB='----------------------------------------------------------------------------------------------------------------------------------------------------CA--G-A-CGGTTT--CAAG--GTGAC-TGTGA-C-TGATT-CAG-G-T-CTAG-GTTG--T---GGTA---', score=34.0, start=0, end=220)\n",
      "Alignment(seqA=\"ID: OV986001.1\\nName: OV986001.1\\nDescription: OV986001.1 Pseudomonas fluorescens SBW25 genome assembly, chromosome: 1\\nNumber of features: 0\\nSeq('GTGTCAGTGGAAC--TTTGGCA-GCAGTG-CGTG-GAGCTT--TTGC-GCGATG--AGC-T-GCCT...G--AC')\", seqB='----------------------------------------------------------------------------------------------------------------------------------------------------CAG---A-CGGTTT--CAAG--GTGAC-TGTGA-C-TGATT-CAG-G-T-CTAG-GTTG--T---GGTA---', score=34.0, start=0, end=220)\n",
      "Alignment(seqA=\"ID: OV986001.1\\nName: OV986001.1\\nDescription: OV986001.1 Pseudomonas fluorescens SBW25 genome assembly, chromosome: 1\\nNumber of features: 0\\nSeq('GTGTCAGT--GGAACTTTGGCA-GCAGTG-CGTG-GAGCTT--TTGC-GCGATG--AGC-T-GCCT...G--AC')\", seqB='----------------------------------------------------------------------------------------------------------------------------------------------------CAG-ACGG---TTT--CAAG--GTGAC-TGTGA-C-TGATT-CAG-G-T-CTAG-GTTG--T---GGTA---', score=34.0, start=0, end=220)\n",
      "Alignment(seqA=\"ID: OV986001.1\\nName: OV986001.1\\nDescription: OV986001.1 Pseudomonas fluorescens SBW25 genome assembly, chromosome: 1\\nNumber of features: 0\\nSeq('GTGTCAGT-GGAACTTTGGCA-GCAGTG-CGTG-GAGCTT--TTGC-GCGATG--AGC-T-GCCT...G--AC')\", seqB='----------------------------------------------------------------------------------------------------------------------------------------------------CAGACGG---TTT--CAAG--GTGAC-TGTGA-C-TGATT-CAG-G-T-CTAG-GTTG--T---GGTA---', score=34.0, start=0, end=219)\n",
      "Alignment(seqA=\"ID: OV986001.1\\nName: OV986001.1\\nDescription: OV986001.1 Pseudomonas fluorescens SBW25 genome assembly, chromosome: 1\\nNumber of features: 0\\nSeq('GTGTCAG-TGGAACTTTGGCA-GCAGTG-CGTG-GAGCTT--TTGC-GCGATG--AGC-T-GCCT...G--AC')\", seqB='----------------------------------------------------------------------------------------------------------------------------------------------------CAGACGG---TTT--CAAG--GTGAC-TGTGA-C-TGATT-CAG-G-T-CTAG-GTTG--T---GGTA---', score=34.0, start=0, end=219)\n",
      "Alignment(seqA=\"ID: OV986001.1\\nName: OV986001.1\\nDescription: OV986001.1 Pseudomonas fluorescens SBW25 genome assembly, chromosome: 1\\nNumber of features: 0\\nSeq('GTGTCAGTGGAAC--TTTGGC-AGCAGTG-CGTG-GAGCTT--TTGC-GCGATG--AGC-T-GCCT...G--AC')\", seqB='----------------------------------------------------------------------------------------------------------------------------------------------------CA---G-ACGGTTT--CAAG--GTGAC-TGTGA-C-TGATT-CAG-G-T-CTAG-GTTG--T---GGTA---', score=34.0, start=0, end=220)\n",
      "Alignment(seqA=\"ID: OV986001.1\\nName: OV986001.1\\nDescription: OV986001.1 Pseudomonas fluorescens SBW25 genome assembly, chromosome: 1\\nNumber of features: 0\\nSeq('GTGTCAGTGGAAC--TTTGGC-AGCAGTG-CGTG-GAGCTT--TTGC-GCGATG--AGC-T-GCCT...G--AC')\", seqB='----------------------------------------------------------------------------------------------------------------------------------------------------CA--G--ACGGTTT--CAAG--GTGAC-TGTGA-C-TGATT-CAG-G-T-CTAG-GTTG--T---GGTA---', score=34.0, start=0, end=220)\n",
      "Alignment(seqA=\"ID: OV986001.1\\nName: OV986001.1\\nDescription: OV986001.1 Pseudomonas fluorescens SBW25 genome assembly, chromosome: 1\\nNumber of features: 0\\nSeq('GTGTCAGTGGAAC--TTTGGC-AGCAGTG-CGTG-GAGCTT--TTGC-GCGATG--AGC-T-GCCT...G--AC')\", seqB='----------------------------------------------------------------------------------------------------------------------------------------------------CAG----ACGGTTT--CAAG--GTGAC-TGTGA-C-TGATT-CAG-G-T-CTAG-GTTG--T---GGTA---', score=34.0, start=0, end=220)\n",
      "Alignment(seqA=\"ID: OV986001.1\\nName: OV986001.1\\nDescription: OV986001.1 Pseudomonas fluorescens SBW25 genome assembly, chromosome: 1\\nNumber of features: 0\\nSeq('GTGTCAGTGGAAC--TTTGGC-AGCAGTG-CGTG-GAGCTT--TTGC-GCGATG--AGC-T-GCCT...G--AC')\", seqB='----------------------------------------------------------------------------------------------------------------------------------------------------CA---GA-CGGTTT--CAAG--GTGAC-TGTGA-C-TGATT-CAG-G-T-CTAG-GTTG--T---GGTA---', score=34.0, start=0, end=220)\n",
      "Alignment(seqA=\"ID: OV986001.1\\nName: OV986001.1\\nDescription: OV986001.1 Pseudomonas fluorescens SBW25 genome assembly, chromosome: 1\\nNumber of features: 0\\nSeq('GTGTCAGTGGAAC--TTTGGC-AGCAGTG-CGTG-GAGCTT--TTGC-GCGATG--AGC-T-GCCT...G--AC')\", seqB='----------------------------------------------------------------------------------------------------------------------------------------------------CA--G-A-CGGTTT--CAAG--GTGAC-TGTGA-C-TGATT-CAG-G-T-CTAG-GTTG--T---GGTA---', score=34.0, start=0, end=220)\n",
      "Alignment(seqA=\"ID: OV986001.1\\nName: OV986001.1\\nDescription: OV986001.1 Pseudomonas fluorescens SBW25 genome assembly, chromosome: 1\\nNumber of features: 0\\nSeq('GTGTCAGTGGAAC--TTTGGC-AGCAGTG-CGTG-GAGCTT--TTGC-GCGATG--AGC-T-GCCT...G--AC')\", seqB='----------------------------------------------------------------------------------------------------------------------------------------------------CAG---A-CGGTTT--CAAG--GTGAC-TGTGA-C-TGATT-CAG-G-T-CTAG-GTTG--T---GGTA---', score=34.0, start=0, end=220)\n",
      "Alignment(seqA=\"ID: OV986001.1\\nName: OV986001.1\\nDescription: OV986001.1 Pseudomonas fluorescens SBW25 genome assembly, chromosome: 1\\nNumber of features: 0\\nSeq('GTGTCAGT--GGAACTTTGGC-AGCAGTG-CGTG-GAGCTT--TTGC-GCGATG--AGC-T-GCCT...G--AC')\", seqB='----------------------------------------------------------------------------------------------------------------------------------------------------CAG-ACGG---TTT--CAAG--GTGAC-TGTGA-C-TGATT-CAG-G-T-CTAG-GTTG--T---GGTA---', score=34.0, start=0, end=220)\n",
      "Alignment(seqA=\"ID: OV986001.1\\nName: OV986001.1\\nDescription: OV986001.1 Pseudomonas fluorescens SBW25 genome assembly, chromosome: 1\\nNumber of features: 0\\nSeq('GTGTCAGT-GGAACTTTGGC-AGCAGTG-CGTG-GAGCTT--TTGC-GCGATG--AGC-T-GCCT...G--AC')\", seqB='----------------------------------------------------------------------------------------------------------------------------------------------------CAGACGG---TTT--CAAG--GTGAC-TGTGA-C-TGATT-CAG-G-T-CTAG-GTTG--T---GGTA---', score=34.0, start=0, end=219)\n",
      "Alignment(seqA=\"ID: OV986001.1\\nName: OV986001.1\\nDescription: OV986001.1 Pseudomonas fluorescens SBW25 genome assembly, chromosome: 1\\nNumber of features: 0\\nSeq('GTGTCAG-TGGAACTTTGGC-AGCAGTG-CGTG-GAGCTT--TTGC-GCGATG--AGC-T-GCCT...G--AC')\", seqB='----------------------------------------------------------------------------------------------------------------------------------------------------CAGACGG---TTT--CAAG--GTGAC-TGTGA-C-TGATT-CAG-G-T-CTAG-GTTG--T---GGTA---', score=34.0, start=0, end=219)\n"
     ]
    }
   ],
   "source": [
    "pairs2 = pairwise2.align.globalxx(seqy,seqZ)\n",
    "\n",
    "for pair in pairs2:\n",
    "    print(pair)"
   ]
  },
  {
   "cell_type": "code",
   "execution_count": 53,
   "metadata": {},
   "outputs": [
    {
     "name": "stdout",
     "output_type": "stream",
     "text": [
      "758\n"
     ]
    }
   ],
   "source": [
    "def hamming(seq1, seq2):\n",
    "    return sum(ch1 != ch2 for ch1, ch2 in zip(seq1, seq2))\n",
    "\n",
    "print(hamming(seqx,seqy))"
   ]
  },
  {
   "cell_type": "code",
   "execution_count": 54,
   "metadata": {},
   "outputs": [
    {
     "name": "stdout",
     "output_type": "stream",
     "text": [
      "1045\n"
     ]
    }
   ],
   "source": [
    "from Levenshtein import distance\n",
    "\n",
    "print(distance(seqx,seqy))"
   ]
  },
  {
   "cell_type": "code",
   "execution_count": null,
   "metadata": {},
   "outputs": [],
   "source": []
  }
 ],
 "metadata": {
  "kernelspec": {
   "display_name": "Python 3",
   "language": "python",
   "name": "python3"
  },
  "language_info": {
   "codemirror_mode": {
    "name": "ipython",
    "version": 3
   },
   "file_extension": ".py",
   "mimetype": "text/x-python",
   "name": "python",
   "nbconvert_exporter": "python",
   "pygments_lexer": "ipython3",
   "version": "3.10.11"
  }
 },
 "nbformat": 4,
 "nbformat_minor": 2
}
