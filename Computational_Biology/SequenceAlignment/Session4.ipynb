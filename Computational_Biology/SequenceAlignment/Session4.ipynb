{
 "cells": [
  {
   "cell_type": "code",
   "execution_count": 19,
   "metadata": {},
   "outputs": [],
   "source": [
    "from Bio.Seq import Seq\n",
    "import numpy as np\n",
    "import matplotlib.pyplot as plt\n",
    "\n",
    "seqA = Seq(\"CGATCGAT\")\n",
    "seqB = Seq(\"ACGTGTAC\")"
   ]
  },
  {
   "cell_type": "code",
   "execution_count": 20,
   "metadata": {},
   "outputs": [
    {
     "name": "stdout",
     "output_type": "stream",
     "text": [
      "Alignment(seqA='-CGATCGAT--', seqB='ACG-T-G-TAC', score=5.0, start=0, end=11)\n",
      "Alignment(seqA='-CGATCG-AT-', seqB='ACG-T-GTA-C', score=5.0, start=0, end=11)\n",
      "Alignment(seqA='-CGATCG-AT', seqB='ACG-T-GTAC', score=5.0, start=0, end=10)\n",
      "-CGATCGAT--\n",
      " || | | |  \n",
      "ACG-T-G-TAC\n",
      "  Score=5\n",
      "\n",
      "-CGATCG-AT-\n",
      " || | | |  \n",
      "ACG-T-GTA-C\n",
      "  Score=5\n",
      "\n",
      "-CGATCG-AT\n",
      " || | | |.\n",
      "ACG-T-GTAC\n",
      "  Score=5\n",
      "\n"
     ]
    }
   ],
   "source": [
    "#Global Alignment\n",
    "\n",
    "from Bio import pairwise2\n",
    "\n",
    "alignments = pairwise2.align.globalxx(seqA, seqB)\n",
    "\n",
    "#print the alignments\n",
    "\n",
    "for alignment in alignments:\n",
    "    print(alignment)\n",
    "\n",
    "#print visual\n",
    "    \n",
    "from Bio.pairwise2 import format_alignment\n",
    "\n",
    "for alignment in alignments:\n",
    "    print(format_alignment(*alignment))"
   ]
  },
  {
   "cell_type": "code",
   "execution_count": 21,
   "metadata": {},
   "outputs": [
    {
     "name": "stdout",
     "output_type": "stream",
     "text": [
      "-CGATCGAT--\n",
      " || | | |  \n",
      "ACG-T-G-TAC\n",
      "  Score=2.4\n",
      "\n"
     ]
    }
   ],
   "source": [
    "#ending for alignment\n",
    "#xx -> default --> if there is a connection, add 1 point\n",
    "#mx -> custom match (give how many points), mismatch (subtract how many points)\n",
    "#ms -> custom match, mismatch, gap start (every gap except the extend), gap extend (at the very end)\n",
    "\n",
    "\n",
    "#match = 1 point, mismatch = -1 point, gap start = -0.5 points, gap extend = -0.1 points\n",
    "alignments = pairwise2.align.globalms(seqA,seqB,1,-1,-0.5,-0.1)\n",
    "\n",
    "for alignment in alignments:\n",
    "    print(format_alignment(*alignment))"
   ]
  },
  {
   "cell_type": "code",
   "execution_count": 22,
   "metadata": {},
   "outputs": [
    {
     "name": "stdout",
     "output_type": "stream",
     "text": [
      "Alignment(seqA='-CGATCGAT--', seqB='ACG-T-G-TAC', score=5.0, start=1, end=9)\n",
      "Alignment(seqA='-CGATCG-AT', seqB='ACG-T-GTAC', score=5.0, start=1, end=9)\n",
      "1 CGATCGAT\n",
      "  || | | |\n",
      "2 CG-T-G-T\n",
      "  Score=5\n",
      "\n",
      "1 CGATCG-A\n",
      "  || | | |\n",
      "2 CG-T-GTA\n",
      "  Score=5\n",
      "\n"
     ]
    }
   ],
   "source": [
    "#Local Alignment\n",
    "\n",
    "alignments = pairwise2.align.localxx(seqA,seqB)\n",
    "\n",
    "#print the alignments\n",
    "\n",
    "for alignment in alignments:\n",
    "    print(alignment)\n",
    "\n",
    "#print visual\n",
    "\n",
    "for alignment in alignments:\n",
    "    print(format_alignment(*alignment))"
   ]
  },
  {
   "cell_type": "code",
   "execution_count": 23,
   "metadata": {},
   "outputs": [
    {
     "name": "stdout",
     "output_type": "stream",
     "text": [
      "[('C', 'A'), ('G', 'C'), ('A', 'G'), ('T', 'T'), ('C', 'G'), ('G', 'T'), ('A', 'A'), ('T', 'C')]\n",
      "6\n",
      "6\n"
     ]
    }
   ],
   "source": [
    "#seqA = CGATCGAT\n",
    "#seqB = ACGTGTAC\n",
    "\n",
    "def hamming_distance(s1, s2):\n",
    "    return sum(ch1 != ch2 for ch1, ch2 in zip(s1, s2))\n",
    "\n",
    "def hamming(s1,s2):\n",
    "    mismatch_count = []\n",
    "    for ch1,ch2 in zip(s1,s2):\n",
    "        if ch1 != ch2:\n",
    "            mismatch_count.append((ch1,ch2))\n",
    "    return len(mismatch_count)\n",
    "\n",
    "box = zip(seqA,seqB)\n",
    "list_box = list(box)    \n",
    "\n",
    "print(list_box)\n",
    "\n",
    "print(hamming_distance(seqA,seqB))\n",
    "print(hamming(seqA,seqB))"
   ]
  },
  {
   "cell_type": "code",
   "execution_count": 24,
   "metadata": {},
   "outputs": [
    {
     "name": "stdout",
     "output_type": "stream",
     "text": [
      "Requirement already satisfied: python-Levenshtein in c:\\users\\norbe\\appdata\\local\\packages\\pythonsoftwarefoundation.python.3.10_qbz5n2kfra8p0\\localcache\\local-packages\\python310\\site-packages (0.25.0)\n",
      "Requirement already satisfied: Levenshtein==0.25.0 in c:\\users\\norbe\\appdata\\local\\packages\\pythonsoftwarefoundation.python.3.10_qbz5n2kfra8p0\\localcache\\local-packages\\python310\\site-packages (from python-Levenshtein) (0.25.0)\n",
      "Requirement already satisfied: rapidfuzz<4.0.0,>=3.1.0 in c:\\users\\norbe\\appdata\\local\\packages\\pythonsoftwarefoundation.python.3.10_qbz5n2kfra8p0\\localcache\\local-packages\\python310\\site-packages (from Levenshtein==0.25.0->python-Levenshtein) (3.7.0)\n",
      "Note: you may need to restart the kernel to use updated packages.\n"
     ]
    }
   ],
   "source": [
    "#seqA = CGATCGAT\n",
    "#seqB = ACGTGTAC\n",
    "\n",
    "#Levenshtein Distance\n",
    "\n",
    "#import levenshtein\n",
    "%pip install python-Levenshtein\n",
    "\n",
    "\n",
    "def levenshtein_distance(s1,s2):\n",
    "    if len(s1) > len(s2):\n",
    "        s1,s2 = s2,s1\n",
    "    distances = range(len(s1) + 1)\n",
    "    for index2,char2 in enumerate(s2):\n",
    "        new_distances = [index2 + 1]\n",
    "        for index1,char1 in enumerate(s1):\n",
    "            if char1 == char2:\n",
    "                new_distances.append(distances[index1])\n",
    "            else:\n",
    "                new_distances.append(1 + min((distances[index1],distances[index1 + 1],new_distances[-1])))\n",
    "        distances = new_distances\n",
    "    return distances[-1]"
   ]
  },
  {
   "cell_type": "code",
   "execution_count": 25,
   "metadata": {},
   "outputs": [
    {
     "name": "stdout",
     "output_type": "stream",
     "text": [
      "5\n",
      "5\n"
     ]
    }
   ],
   "source": [
    "from Levenshtein import distance\n",
    "\n",
    "#the minimum steps to make seqB into seqA\n",
    "print (distance(seqA,seqB))\n",
    "\n",
    "print (levenshtein_distance(seqA,seqB))"
   ]
  },
  {
   "cell_type": "code",
   "execution_count": 55,
   "metadata": {},
   "outputs": [],
   "source": [
    "#Dot Plotting\n",
    "\n",
    "def delta(x,y):\n",
    "    return 0 if x == y else 1\n",
    "\n",
    "\n",
    "\n",
    "# i = starting position of seq1\n",
    "# j = starting position of seq2\n",
    "# k = how may nucleotides in a row need to be the same\n",
    "def M(seq1, seq2, i, j, k):\n",
    "    return sum(delta(x,y) for x,y in zip(seq1[i:i+k],seq2[j:j+k]))\n",
    "\n",
    "def M2(seq1, seq2, i, j, k):\n",
    "    m = []\n",
    "    for x,y in zip(seq1[i:i+k],seq2[j:j+k]):\n",
    "        m.append(delta(x,y))\n",
    "    return sum(m)\n",
    "\n",
    "def makeMatrix(seq1, seq2, k):\n",
    "    n = len(seq1)\n",
    "    m = len(seq2)\n",
    "    return [[M(seq1,seq2,i,j,k) for j in range(m-k+1)] for i in range(n-k+1)]\n",
    "\n",
    "def makeMatrix2(seq1, seq2, k):\n",
    "    m1 = []\n",
    "    for i in range(len(seq1) - k + 1):\n",
    "        m2 = []\n",
    "        for j in range(len(seq2) - k + 1):\n",
    "            m2.append(M2(seq1,seq2,i,j,k))\n",
    "        m1.append(m2)\n",
    "        #m2 is one row\n",
    "        #m1 is the entire array\n",
    "    return m1\n",
    "\n",
    "def plotMatrix(M,t, seq1, seq2):\n",
    "    plt.imshow(M, interpolation = 'none', cmap = 'gray')\n",
    "    plt.title(t)\n",
    "    plt.xticks(range(len(seq2)),seq2)\n",
    "    plt.yticks(range(len(seq1)),seq1)\n",
    "    plt.show()\n",
    "\n",
    "def plotMatrix2(M,seq1,seq2,nonblank = chr(0x25A0), blank = ' '):\n",
    "    print(' |' + seq2)\n",
    "    print('-'* (4 + len(seq2)))\n",
    "    for nucleotide, row in zip(seq1,M):\n",
    "        line = ''.join(nonblank if s < 1 else blank for s in row)\n",
    "        print(nucleotide + '|' + line)\n",
    "\n",
    "\n",
    "def dotPlot(seq1, seq2, k = 1):\n",
    "    m = makeMatrix(seq1,seq2,k)\n",
    "    plotMatrix(m, 'Dot Plot', seq1, seq2)\n",
    "\n",
    "def dotPlot2(seq1, seq2, k = 1):\n",
    "    m = makeMatrix2(seq1,seq2,k)\n",
    "    plotMatrix2(m,seq1,seq2)\n",
    "\n"
   ]
  },
  {
   "cell_type": "code",
   "execution_count": 56,
   "metadata": {},
   "outputs": [
    {
     "name": "stdout",
     "output_type": "stream",
     "text": [
      " |ACGTGTAC\n",
      "------------\n",
      "C| ■     ■\n",
      "G|  ■ ■   \n",
      "A|■     ■ \n",
      "T|   ■ ■  \n",
      "C| ■     ■\n",
      "G|  ■ ■   \n",
      "A|■     ■ \n",
      "T|   ■ ■  \n"
     ]
    }
   ],
   "source": [
    "#Aslab\n",
    "\n",
    "dotPlot2(seqA,seqB,1)"
   ]
  },
  {
   "cell_type": "code",
   "execution_count": 44,
   "metadata": {},
   "outputs": [
    {
     "data": {
      "image/png": "[encoded data removed]",
      "text/plain": [
       "<Figure size 640x480 with 1 Axes>"
      ]
     },
     "metadata": {},
     "output_type": "display_data"
    }
   ],
   "source": [
    "#Copilot\n",
    "\n",
    "dotPlot(seqA,seqB,1)"
   ]
  },
  {
   "cell_type": "code",
   "execution_count": null,
   "metadata": {},
   "outputs": [],
   "source": []
  }
 ],
 "metadata": {
  "kernelspec": {
   "display_name": "Python 3",
   "language": "python",
   "name": "python3"
  },
  "language_info": {
   "codemirror_mode": {
    "name": "ipython",
    "version": 3
   },
   "file_extension": ".py",
   "mimetype": "text/x-python",
   "name": "python",
   "nbconvert_exporter": "python",
   "pygments_lexer": "ipython3",
   "version": "3.10.11"
  }
 },
 "nbformat": 4,
 "nbformat_minor": 2
}
