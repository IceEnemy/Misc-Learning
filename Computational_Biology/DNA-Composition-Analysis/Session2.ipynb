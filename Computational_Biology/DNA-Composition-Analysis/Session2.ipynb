{
 "cells": [
  {
   "cell_type": "code",
   "execution_count": 56,
   "metadata": {},
   "outputs": [],
   "source": [
    "# %pip install biopython in binus PC\n",
    "import Bio\n",
    "from Bio.Seq import Seq"
   ]
  },
  {
   "cell_type": "code",
   "execution_count": 57,
   "metadata": {},
   "outputs": [
    {
     "name": "stdout",
     "output_type": "stream",
     "text": [
      "DNA:  ATGGACGCGTGCGAT\n"
     ]
    }
   ],
   "source": [
    "DNA = Seq(\"ATGGACGCGTGCGAT\")\n",
    "print(\"DNA: \", DNA)"
   ]
  },
  {
   "cell_type": "code",
   "execution_count": 58,
   "metadata": {},
   "outputs": [
    {
     "name": "stdout",
     "output_type": "stream",
     "text": [
      "The Concentration of GC is  60.0 %\n",
      "The Concentration of AT is  40.0 %\n",
      "The GC array is  ['G', 'G', 'C', 'G', 'C', 'G', 'G', 'C', 'G']\n",
      "The AT array is  ['A', 'T', 'A', 'T', 'A', 'T']\n"
     ]
    }
   ],
   "source": [
    "# Calculate the AT and GC content of DNA\n",
    "\n",
    "# User Defined function to calculate GC Content\n",
    "\n",
    "def GC_content(DNA):\n",
    "    # #create empty array\n",
    "\n",
    "    # GC = []\n",
    "\n",
    "    # #loop through seq, if its G or C, add to array\n",
    "\n",
    "    # for base in DNA:\n",
    "    #     if base in \"GC\":\n",
    "    #         GC.append(base)\n",
    "\n",
    "    # #return new arr/seq\n",
    "    \n",
    "    # return len(GC) / len(DNA) * 100\n",
    "\n",
    "    # or\n",
    "    return (DNA.count(\"G\") + DNA.count(\"C\")) / len(DNA)\n",
    "\n",
    "def GC_array(DNA):\n",
    "    gc = [x for x in DNA if x in \"GC\"]\n",
    "    return gc\n",
    "\n",
    "def AT_content(DNA):\n",
    "    return 1-GC_content(DNA)\n",
    "\n",
    "def AT_array(DNA):\n",
    "    at = [x for x in DNA if x in \"AT\"]\n",
    "    return at\n",
    "\n",
    "print(\"The Concentration of GC is \", GC_content(DNA)*100, \"%\")\n",
    "print(\"The Concentration of AT is \", AT_content(DNA)*100, \"%\")\n",
    "print(\"The GC array is \", GC_array(DNA))\n",
    "print(\"The AT array is \", AT_array(DNA))"
   ]
  },
  {
   "cell_type": "code",
   "execution_count": 59,
   "metadata": {},
   "outputs": [],
   "source": [
    "from Bio.SeqUtils import gc_fraction # in binus pc, you import GC instead of gc_fraction"
   ]
  },
  {
   "cell_type": "code",
   "execution_count": 60,
   "metadata": {},
   "outputs": [
    {
     "name": "stdout",
     "output_type": "stream",
     "text": [
      "The Concentration of GC is  0.6\n",
      "The Concentration of AT is  0.4\n"
     ]
    }
   ],
   "source": [
    "gcFraction = gc_fraction(DNA)\n",
    "atFraction = 1 - gcFraction\n",
    "\n",
    "print(\"The Concentration of GC is \", gcFraction)\n",
    "print(\"The Concentration of AT is \", atFraction)"
   ]
  },
  {
   "cell_type": "code",
   "execution_count": 61,
   "metadata": {},
   "outputs": [],
   "source": [
    "import matplotlib.pyplot as plt"
   ]
  },
  {
   "cell_type": "code",
   "execution_count": 62,
   "metadata": {},
   "outputs": [
    {
     "data": {
      "image/png": "[encoded data removed]",
      "text/plain": [
       "<Figure size 640x480 with 1 Axes>"
      ]
     },
     "metadata": {},
     "output_type": "display_data"
    }
   ],
   "source": [
    "explode = (0.05, 0)\n",
    "plt.pie([gcFraction, atFraction], explode=explode, autopct='%1.1f%%', shadow=True, startangle=140)\n",
    "plt.legend([\"GC\", \"AT\"])\n",
    "plt.title(\"GC and AT Content\")\n",
    "plt.show()"
   ]
  },
  {
   "cell_type": "code",
   "execution_count": 63,
   "metadata": {},
   "outputs": [],
   "source": [
    "from Bio.SeqUtils import MeltingTemp as mt"
   ]
  },
  {
   "cell_type": "code",
   "execution_count": 64,
   "metadata": {},
   "outputs": [
    {
     "name": "stdout",
     "output_type": "stream",
     "text": [
      "The Melting Temperature using GC Way is 44.5029020719779 °C\n",
      "The Melting Temperature using Nearest Way is 50.346125847238625 °C\n",
      "The Melting Temperature using Wallace Way is 48.0 °C\n"
     ]
    }
   ],
   "source": [
    "# There are 3 ways to approach Melting Temperatures\n",
    "gcWay = mt.Tm_GC(DNA) #Just taking into account the GC content, less accurate\n",
    "neighbour = mt.Tm_NN(DNA) #Taking into account the nearest neighbour, more accurate\n",
    "wallace = mt.Tm_Wallace(DNA) #A&T increases the temp by 2 degrees, G&C increases the temp by 4 degrees\n",
    "\n",
    "print(\"The Melting Temperature using GC Way is\", gcWay, \"\\u00b0C\")\n",
    "print(\"The Melting Temperature using Nearest Way is\", neighbour, \"\\u00b0C\")\n",
    "print(\"The Melting Temperature using Wallace Way is\", wallace, \"\\u00b0C\")\n"
   ]
  },
  {
   "cell_type": "code",
   "execution_count": 65,
   "metadata": {},
   "outputs": [
    {
     "name": "stdout",
     "output_type": "stream",
     "text": [
      "The Melting Temperature using Wallace Way is  48.0 °C\n"
     ]
    }
   ],
   "source": [
    "# Home made Wallace\n",
    "def wal(DNA):\n",
    "    return float((DNA.count('A')+DNA.count('T'))*2 + (DNA.count('G')+DNA.count('C'))*4)\n",
    "\n",
    "print(\"The Melting Temperature using Wallace Way is \", wal(DNA), \"\\u00b0C\")"
   ]
  },
  {
   "cell_type": "code",
   "execution_count": 66,
   "metadata": {},
   "outputs": [],
   "source": [
    "# Molecular Weight\n",
    "\n",
    "from Bio.SeqUtils import molecular_weight as mw"
   ]
  },
  {
   "cell_type": "code",
   "execution_count": 68,
   "metadata": {},
   "outputs": [
    {
     "name": "stdout",
     "output_type": "stream",
     "text": [
      "The Molecular Weight of the DNA is 4712.995199999999 g/mol\n"
     ]
    }
   ],
   "source": [
    "print(\"The Molecular Weight of the DNA is\", mw(DNA), \"g/mol\") # Dalton -> g/mol -> 6.022 x 10^23"
   ]
  },
  {
   "cell_type": "code",
   "execution_count": 83,
   "metadata": {},
   "outputs": [
    {
     "name": "stdout",
     "output_type": "stream",
     "text": [
      "2083.3272 921.5912999999999 993.6653999999999 966.6255000000001\n",
      "4965.2094\n",
      "1993.2507000000003 885.5606999999999 957.6347999999998 930.5949\n",
      "4767.0411\n",
      "4712.995199999999\n"
     ]
    }
   ],
   "source": [
    "# Calculate the G molecular weight of our DNA\n",
    "# Make it into a versatile function that is able to calculate other nucleotides\n",
    "\n",
    "def mWeight(DNA, nucleotide):\n",
    "    return DNA.count(nucleotide) * mw(nucleotide)\n",
    "\n",
    "# or\n",
    "\n",
    "def mWeight2(DNA, nucleotide):\n",
    "    n = [x for x in DNA if x in nucleotide] #still an array of characters\n",
    "    nString = ''.join(n) #convert array to string\n",
    "    return mw(nString)\n",
    "\n",
    "# G = 329.21 g/mol\n",
    "\n",
    "print(mWeight(DNA, \"G\"), mWeight(DNA, \"C\"), mWeight(DNA, \"A\"), mWeight(DNA, \"T\"))\n",
    "print(mWeight(DNA, \"G\")+ mWeight(DNA, \"C\")+mWeight(DNA, \"A\")+ mWeight(DNA, \"T\"))\n",
    "print(mWeight2(DNA, \"G\"), mWeight2(DNA, \"C\"), mWeight2(DNA, \"A\"), mWeight2(DNA, \"T\"))\n",
    "print(mWeight2(DNA, \"G\")+ mWeight2(DNA, \"C\")+mWeight2(DNA, \"A\")+ mWeight2(DNA, \"T\"))\n",
    "\n",
    "print(mw(DNA))\n",
    "\n",
    "# mWeight(DNA, \"G\")\n",
    "\n"
   ]
  },
  {
   "cell_type": "code",
   "execution_count": null,
   "metadata": {},
   "outputs": [],
   "source": []
  }
 ],
 "metadata": {
  "kernelspec": {
   "display_name": "Python 3",
   "language": "python",
   "name": "python3"
  },
  "language_info": {
   "codemirror_mode": {
    "name": "ipython",
    "version": 3
   },
   "file_extension": ".py",
   "mimetype": "text/x-python",
   "name": "python",
   "nbconvert_exporter": "python",
   "pygments_lexer": "ipython3",
   "version": "3.10.11"
  }
 },
 "nbformat": 4,
 "nbformat_minor": 2
}
