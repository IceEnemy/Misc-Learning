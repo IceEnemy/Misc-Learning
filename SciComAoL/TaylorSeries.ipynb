{
 "cells": [
  {
   "cell_type": "code",
   "execution_count": 43,
   "metadata": {},
   "outputs": [],
   "source": [
    "import sympy as sp"
   ]
  },
  {
   "cell_type": "code",
   "execution_count": 44,
   "metadata": {},
   "outputs": [],
   "source": [
    "\n",
    "def taylor(f,x,a,n):\n",
    "    taylor_series = sp.series(f, x, a, n).removeO().as_ordered_terms()[::-1]\n",
    "    taylor_string = \"\"\n",
    "\n",
    "    if taylor_series[0] != None:\n",
    "        taylor_string += str(taylor_series[0]).replace(\"**\",\"^\")\n",
    "    else:\n",
    "        return None\n",
    "    \n",
    "    for term in taylor_series[1:]:\n",
    "        add = str(term).replace(\"**\",\"^\")\n",
    "        if add[0] == \"-\":\n",
    "            taylor_string += \" - \"\n",
    "            taylor_string += add[1:]\n",
    "        else:\n",
    "            taylor_string += \" + \"\n",
    "            taylor_string += add\n",
    "    taylor_string += \" + ...\"\n",
    "    \n",
    "    return taylor_string\n"
   ]
  },
  {
   "cell_type": "code",
   "execution_count": 45,
   "metadata": {},
   "outputs": [
    {
     "name": "stdout",
     "output_type": "stream",
     "text": [
      "For Python Calculation:\n",
      "Taylor series of sin(x): -x**3/6 + x\n",
      "Taylor Series of cos(x): x**4/24 - x**2/2 + 1\n",
      "Taylor Series of sin(x)cos(x): -2*x**3/3 + x\n",
      "\n",
      "String:\n",
      "Taylor series of sin(x): x - x^3/6 + ...\n",
      "Taylor Series of cos(x): 1 - x^2/2 + x^4/24 + ...\n",
      "Taylor Series of sin(x)cos(x): x - 2*x^3/3 + ...\n"
     ]
    }
   ],
   "source": [
    "x = sp.Symbol('x')\n",
    "\n",
    "f = sp.sin(x)\n",
    "g = sp.cos(x)\n",
    "h = sp.sin(x) * sp.cos(x)\n",
    "\n",
    "a = 0\n",
    "n = 5\n",
    "print(\"For Python Calculation:\")\n",
    "print(f\"Taylor series of sin(x): {sp.series(f,x,a,n).removeO()}\")\n",
    "print(f\"Taylor Series of cos(x): {sp.series(g,x,a,n).removeO()}\")\n",
    "print(f\"Taylor Series of sin(x)cos(x): {sp.series(h,x,a,n).removeO()}\")\n",
    "\n",
    "print(\"\")\n",
    "\n",
    "print(\"String:\")\n",
    "print(f\"Taylor series of sin(x): {taylor(f,x,a,n)}\")\n",
    "print(f\"Taylor Series of cos(x): {taylor(g,x,a,n)}\")\n",
    "print(f\"Taylor Series of sin(x)cos(x): {taylor(h,x,a,n)}\")\n",
    "\n"
   ]
  }
 ],
 "metadata": {
  "kernelspec": {
   "display_name": "Python 3",
   "language": "python",
   "name": "python3"
  },
  "language_info": {
   "codemirror_mode": {
    "name": "ipython",
    "version": 3
   },
   "file_extension": ".py",
   "mimetype": "text/x-python",
   "name": "python",
   "nbconvert_exporter": "python",
   "pygments_lexer": "ipython3",
   "version": "3.10.11"
  },
  "orig_nbformat": 4
 },
 "nbformat": 4,
 "nbformat_minor": 2
}
