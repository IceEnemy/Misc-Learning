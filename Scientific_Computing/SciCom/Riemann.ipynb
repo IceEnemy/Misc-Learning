{
 "cells": [
  {
   "cell_type": "code",
   "execution_count": 9,
   "metadata": {},
   "outputs": [],
   "source": [
    "import numpy as np"
   ]
  },
  {
   "cell_type": "code",
   "execution_count": 10,
   "metadata": {},
   "outputs": [],
   "source": [
    "def f(x):\n",
    "    return 4*x**4+2*x**3-6*x"
   ]
  },
  {
   "cell_type": "code",
   "execution_count": 11,
   "metadata": {},
   "outputs": [
    {
     "name": "stdout",
     "output_type": "stream",
     "text": [
      "Left Riemann : 384.4323034267851\n",
      "Right Riemann: 399.3288551509231\n",
      "Mid Riemann: 387.26026006636687\n"
     ]
    }
   ],
   "source": [
    "a = -3\n",
    "b = 3\n",
    "n = 30\n",
    "\n",
    "x = np.linspace(a,b,n)\n",
    "y = f(x)\n",
    "l = (b-a)/(n-1)\n",
    "\n",
    "left = l * np.sum(y[:n-1])\n",
    "print(f\"Left Riemann : {left}\")\n",
    "\n",
    "right = l * np.sum(y[1:])\n",
    "print(f\"Right Riemann: {right}\")\n",
    "\n",
    "x_mid = (x[:n-1]+x[1:])/2\n",
    "y_mid = f(x_mid)\n",
    "mid = l * np.sum(y_mid)\n",
    "print(f\"Mid Riemann: {mid}\")"
   ]
  },
  {
   "cell_type": "code",
   "execution_count": 12,
   "metadata": {},
   "outputs": [],
   "source": [
    "def g(x):\n",
    "    return np.sin(x)**2 + np.sin(x) + 2"
   ]
  },
  {
   "cell_type": "code",
   "execution_count": 14,
   "metadata": {},
   "outputs": [
    {
     "name": "stdout",
     "output_type": "stream",
     "text": [
      "Trapezoid: 21.583893023276122\n"
     ]
    }
   ],
   "source": [
    "a = -1 * np.pi\n",
    "b = 2 * np.pi\n",
    "n = 27\n",
    "\n",
    "x = np.linspace(a,b,n)\n",
    "y = g(x)\n",
    "l = (b-a)/(n-1)\n",
    "\n",
    "trapezoid = (l/2) * (y[0] + 2*np.sum(y[1:n-1]) + y[n-1])\n",
    "print(f\"Trapezoid: {trapezoid}\")"
   ]
  }
 ],
 "metadata": {
  "kernelspec": {
   "display_name": "Python 3",
   "language": "python",
   "name": "python3"
  },
  "language_info": {
   "codemirror_mode": {
    "name": "ipython",
    "version": 3
   },
   "file_extension": ".py",
   "mimetype": "text/x-python",
   "name": "python",
   "nbconvert_exporter": "python",
   "pygments_lexer": "ipython3",
   "version": "3.10.11"
  },
  "orig_nbformat": 4
 },
 "nbformat": 4,
 "nbformat_minor": 2
}
