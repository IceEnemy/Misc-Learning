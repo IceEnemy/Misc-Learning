{
 "cells": [
  {
   "cell_type": "code",
   "execution_count": 1,
   "metadata": {},
   "outputs": [],
   "source": [
    "import numpy as np"
   ]
  },
  {
   "cell_type": "code",
   "execution_count": 2,
   "metadata": {},
   "outputs": [],
   "source": [
    "# Problems (Soal) X -> x1,x2,x3, Y -> the results\n",
    "Xaxis = [\n",
    "    [\n",
    "      [6,2,3],\n",
    "      [5,8,2],\n",
    "      [4,3,9]\n",
    "    ],\n",
    "    [\n",
    "      [1,1,1,1],\n",
    "      [2,2,2,2],\n",
    "      [3,3,3,3],\n",
    "      [4,4,4,4]\n",
    "    ]\n",
    "]\n",
    "\n",
    "Yaxis = [\n",
    "    [\n",
    "      31,\n",
    "      38,\n",
    "      31\n",
    "    ],\n",
    "    [\n",
    "      5,\n",
    "      5,\n",
    "      5,\n",
    "      5\n",
    "    ]\n",
    "]"
   ]
  },
  {
   "cell_type": "code",
   "execution_count": 18,
   "metadata": {},
   "outputs": [],
   "source": [
    "def checkDom(A):\n",
    "    \n",
    "    A = np.array(A)\n",
    "    diag = np.diag(abs(A))\n",
    "\n",
    "    non_diag = np.sum(abs(A), axis = 1)\n",
    "    non_diag -= diag\n",
    "\n",
    "    if np.all(diag > non_diag):\n",
    "        return True\n",
    "    else:\n",
    "        return False"
   ]
  },
  {
   "cell_type": "code",
   "execution_count": 10,
   "metadata": {},
   "outputs": [],
   "source": [
    "def gauss_seidel(A,B,epsilon = 0.0001, max_iteration = 20):\n",
    "    \n",
    "    A = np.array(A)\n",
    "    B = np.array(B)\n",
    "\n",
    "    result = np.zeros(A.shape[0])\n",
    "    diag = np.diag(A)\n",
    "    A = -A\n",
    "    np.fill_diagonal(A,0)\n",
    "\n",
    "    for i in range(max_iteration):\n",
    "        result_new = np.array(result)\n",
    "        for j, row in enumerate(A):\n",
    "            result_new[j] = (B[j] + np.dot(row,result_new))/diag[j]\n",
    "        result_new = np.array(result_new)\n",
    "        dist = np.sqrt(np.dot(result_new-result,result_new-result))\n",
    "        print(f\"Iteration {i+1}: {result_new}\")\n",
    "        if dist < epsilon:\n",
    "            print(\"\")\n",
    "            print(f\"Solution: {result_new}\")\n",
    "            return True\n",
    "        else:\n",
    "            result = result_new\n",
    "    return False"
   ]
  },
  {
   "cell_type": "code",
   "execution_count": 19,
   "metadata": {},
   "outputs": [
    {
     "name": "stdout",
     "output_type": "stream",
     "text": [
      "Problem 1\n",
      "X-Axis: [[6, 2, 3], [5, 8, 2], [4, 3, 9]]\n",
      "Y-Axis: [31, 38, 31]\n",
      "[[6 2 3]\n",
      " [5 8 2]\n",
      " [4 3 9]]\n",
      "Dominant\n",
      "Iteration 1: [5.16666667 1.52083333 0.6412037 ]\n",
      "Iteration 2: [4.33912037 1.87774884 0.89003022]\n",
      "Iteration 3: [4.09573528 1.9676579  0.96823169]\n",
      "Iteration 4: [4.02666486 1.99127654 0.99105677]\n",
      "Iteration 5: [4.00737943 1.99762366 0.99751236]\n",
      "Iteration 6: [4.00203593 1.99934945 0.99931199]\n",
      "Iteration 7: [4.00056085 1.99982147 0.99981024]\n",
      "Iteration 8: [4.00015439 1.99995095 0.99994773]\n",
      "Iteration 9: [4.00004248 1.99998651 0.99998561]\n",
      "Iteration 10: [4.00001169 1.99999629 0.99999604]\n",
      "\n",
      "Solution: [4.00001169 1.99999629 0.99999604]\n",
      "Convergent\n",
      "Problem 2\n",
      "X-Axis: [[1, 1, 1, 1], [2, 2, 2, 2], [3, 3, 3, 3], [4, 4, 4, 4]]\n",
      "Y-Axis: [5, 5, 5, 5]\n",
      "[[1 1 1 1]\n",
      " [2 2 2 2]\n",
      " [3 3 3 3]\n",
      " [4 4 4 4]]\n",
      "Not Dominant\n"
     ]
    }
   ],
   "source": [
    "for i, (x,y) in enumerate(zip(Xaxis,Yaxis)):\n",
    "    print(f\"Problem {i+1}\")\n",
    "    print(f\"X-Axis: {x}\")\n",
    "    print(f\"Y-Axis: {y}\")\n",
    "    if checkDom(x):\n",
    "        print(\"Dominant\")\n",
    "        if gauss_seidel(x,y):\n",
    "            print(\"Convergent\")\n",
    "        else:\n",
    "            print(\"Not convergent\")\n",
    "    else:\n",
    "        print(\"Not Dominant\")\n",
    "        "
   ]
  }
 ],
 "metadata": {
  "kernelspec": {
   "display_name": "Python 3",
   "language": "python",
   "name": "python3"
  },
  "language_info": {
   "codemirror_mode": {
    "name": "ipython",
    "version": 3
   },
   "file_extension": ".py",
   "mimetype": "text/x-python",
   "name": "python",
   "nbconvert_exporter": "python",
   "pygments_lexer": "ipython3",
   "version": "3.10.11"
  },
  "orig_nbformat": 4
 },
 "nbformat": 4,
 "nbformat_minor": 2
}
