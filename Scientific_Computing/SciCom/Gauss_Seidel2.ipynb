{
 "cells": [
  {
   "cell_type": "code",
   "execution_count": 1,
   "metadata": {},
   "outputs": [],
   "source": [
    "import numpy as np"
   ]
  },
  {
   "cell_type": "code",
   "execution_count": 2,
   "metadata": {},
   "outputs": [],
   "source": [
    "Xs = [\n",
    "    [\n",
    "      [4, 2, -1],\n",
    "      [1, -5, 2],\n",
    "      [2, -1, -4]\n",
    "    ],\n",
    "    [\n",
    "      [3, 4, 5],\n",
    "      [-3, 7, -4],\n",
    "      [1, -4, -2]\n",
    "    ],\n",
    "    [\n",
    "      [9, -2, 3, 2],\n",
    "      [2, 8, -2, 3],\n",
    "      [-3, 2, 11, -4],\n",
    "      [-2, 3, 2, 10]\n",
    "    ]\n",
    "]\n",
    "Ys = [\n",
    "    [41, -10, 1],\n",
    "    [34, -32, 62],\n",
    "    [55, -14, 12, -21]\n",
    "]\n"
   ]
  },
  {
   "cell_type": "code",
   "execution_count": 3,
   "metadata": {},
   "outputs": [],
   "source": [
    "def checkDom(A):\n",
    "    A = np.array(A)\n",
    "    diag = np.diag(np.abs(A))\n",
    "\n",
    "    non_diag = np.sum(np.abs(A), axis = 1)\n",
    "    non_diag -= diag\n",
    "\n",
    "    if np.all(diag > non_diag):\n",
    "        return True\n",
    "    else:\n",
    "        return False"
   ]
  },
  {
   "cell_type": "code",
   "execution_count": 4,
   "metadata": {},
   "outputs": [],
   "source": [
    "def gauss_seidel(A,B,epsilon = 0.022,max_iteration = 15):\n",
    "    A = np.array(A)\n",
    "    B = np.array(B)\n",
    "\n",
    "    result = np.zeros(A.shape[0])\n",
    "    diag = np.diag(A)\n",
    "    A = -A\n",
    "    np.fill_diagonal(A,0)\n",
    "\n",
    "    for i in range(max_iteration):\n",
    "        result_new = np.array(result)\n",
    "        for j, row in enumerate(A):\n",
    "            result_new[j] = (B[j] + np.dot(row,result_new))/diag[j]\n",
    "        result_new = np.array(result_new)\n",
    "        dist = np.sqrt(np.dot(result_new-result,result_new-result))\n",
    "        print(f\"iter:  {i+1} {result_new}\")\n",
    "        if dist < epsilon:\n",
    "            return True\n",
    "        else:\n",
    "            result = result_new\n",
    "    return False"
   ]
  },
  {
   "cell_type": "code",
   "execution_count": 6,
   "metadata": {},
   "outputs": [
    {
     "name": "stdout",
     "output_type": "stream",
     "text": [
      "A: [[4, 2, -1], [1, -5, 2], [2, -1, -4]], y = [41, -10, 1]\n",
      "iter:  1 [10.25    4.05    3.8625]\n",
      "iter:  2 [9.190625   5.383125   2.99953125]\n",
      "iter:  3 [8.30832031 4.86147656 2.68879102]\n",
      "iter:  4 [8.49145947 4.7738083  2.80227766]\n",
      "iter:  5 [8.56366526 4.83364412 2.8234216 ]\n",
      "iter:  6 [8.53903334 4.83717531 2.81022284]\n",
      "iter:  7 [8.53396806 4.83088275 2.80926334]\n",
      "convergen\n",
      "\n",
      "A: [[3, 4, 5], [-3, 7, -4], [1, -4, -2]], y = [34, -32, 62]\n",
      "not diagonaly dominant\n",
      "\n",
      "A: [[9, -2, 3, 2], [2, 8, -2, 3], [-3, 2, 11, -4], [-2, 3, 2, 10]], y = [55, -14, 12, -21]\n",
      "iter:  1 [ 6.11111111 -3.27777778  3.35353535 -0.56515152]\n",
      "iter:  2 [ 4.39046016 -1.79729938  2.40957938 -1.16463403]\n",
      "iter:  3 [ 5.16732568 -2.00269881  2.44080351 -0.95388592]\n",
      "iter:  4 [ 5.06444041 -2.04820201  2.49765287 -0.97218189]\n",
      "iter:  5 [ 5.03944457 -2.02087972  2.47921505 -0.98169018]\n",
      "iter:  6 [ 5.05377509 -2.02550619  2.48050699 -0.97769452]\n",
      "convergen\n",
      "\n"
     ]
    }
   ],
   "source": [
    "for i, (x,y) in enumerate(zip(Xs,Ys)):\n",
    "    print(f\"A: {x}, y = {y}\")\n",
    "    if checkDom(x):\n",
    "        if gauss_seidel(x,y):\n",
    "            print(\"convergen\")\n",
    "        else:\n",
    "            print(\"divergen\")\n",
    "    else:\n",
    "        print(\"not diagonaly dominant\")\n",
    "    print(\"\")"
   ]
  }
 ],
 "metadata": {
  "kernelspec": {
   "display_name": "Python 3",
   "language": "python",
   "name": "python3"
  },
  "language_info": {
   "codemirror_mode": {
    "name": "ipython",
    "version": 3
   },
   "file_extension": ".py",
   "mimetype": "text/x-python",
   "name": "python",
   "nbconvert_exporter": "python",
   "pygments_lexer": "ipython3",
   "version": "3.10.11"
  },
  "orig_nbformat": 4
 },
 "nbformat": 4,
 "nbformat_minor": 2
}
