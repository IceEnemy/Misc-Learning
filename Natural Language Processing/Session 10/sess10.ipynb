{
 "cells": [
  {
   "cell_type": "code",
   "execution_count": 1,
   "metadata": {},
   "outputs": [],
   "source": [
    "import spacy\n",
    "from spacy.cli import download"
   ]
  },
  {
   "cell_type": "code",
   "execution_count": 2,
   "metadata": {},
   "outputs": [],
   "source": [
    "# print(download('en_core_web_sm'))"
   ]
  },
  {
   "cell_type": "code",
   "execution_count": 6,
   "metadata": {},
   "outputs": [
    {
     "name": "stdout",
     "output_type": "stream",
     "text": [
      "Named entities:\n",
      "Aliceh (PERSON)\n",
      "Bob (PERSON)\n",
      "Aliceh --(nsubj) --> gave (PROPN)\n",
      "gave --(ROOT) --> gave (VERB)\n",
      "Bob --(dative) --> gave (PROPN)\n",
      "a --(det) --> book (DET)\n",
      "book --(dobj) --> gave (NOUN)\n"
     ]
    }
   ],
   "source": [
    "def extract_named_entities_and_parse_tree(sentence):\n",
    "    d_parser = spacy.load('en_core_web_sm')\n",
    "\n",
    "    doc = d_parser(sentence)\n",
    "\n",
    "    if doc.ents:\n",
    "        print('Named entities:')\n",
    "        for ent in doc.ents:\n",
    "            print(f'{ent.text} ({ent.label_})')\n",
    "    else:\n",
    "        print('No named entities found.')\n",
    "\n",
    "    for token in doc:\n",
    "        print(f'{token.text} --({token.dep_}) --> {token.head.text} ({token.pos_})')\n",
    "\n",
    "sentence = \"Aliceh gave Bob a book\"\n",
    "\n",
    "extract_named_entities_and_parse_tree(sentence)"
   ]
  },
  {
   "cell_type": "code",
   "execution_count": null,
   "metadata": {},
   "outputs": [],
   "source": []
  }
 ],
 "metadata": {
  "kernelspec": {
   "display_name": "Python 3",
   "language": "python",
   "name": "python3"
  },
  "language_info": {
   "codemirror_mode": {
    "name": "ipython",
    "version": 3
   },
   "file_extension": ".py",
   "mimetype": "text/x-python",
   "name": "python",
   "nbconvert_exporter": "python",
   "pygments_lexer": "ipython3",
   "version": "3.10.11"
  }
 },
 "nbformat": 4,
 "nbformat_minor": 2
}
