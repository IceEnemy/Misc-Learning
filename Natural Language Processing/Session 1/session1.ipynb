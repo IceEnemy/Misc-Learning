{
 "cells": [
  {
   "cell_type": "code",
   "execution_count": 1,
   "metadata": {},
   "outputs": [
    {
     "name": "stdout",
     "output_type": "stream",
     "text": [
      "showing info https://raw.githubusercontent.com/nltk/nltk_data/gh-pages/index.xml\n"
     ]
    },
    {
     "data": {
      "text/plain": [
       "True"
      ]
     },
     "execution_count": 1,
     "metadata": {},
     "output_type": "execute_result"
    }
   ],
   "source": [
    "import nltk\n",
    "nltk.download()\n",
    "# nltk.download('popular')"
   ]
  },
  {
   "cell_type": "markdown",
   "metadata": {},
   "source": [
    "in nltk.download() , download just \"popular\""
   ]
  },
  {
   "cell_type": "markdown",
   "metadata": {},
   "source": [
    "Corpora -> a collection of text\n",
    "\n",
    "Tokenizing ->\n",
    "\n",
    "Removing Stopwords -> "
   ]
  },
  {
   "cell_type": "code",
   "execution_count": 2,
   "metadata": {},
   "outputs": [
    {
     "name": "stdout",
     "output_type": "stream",
     "text": [
      "['Mr.', 'sun', 'rises', 'in', 'the', 'east', ',', 'and', 'it', 'sets', 'in', 'the', 'west', '.', 'Many', 'people', 'enjoy', 'watching', 'the', 'sunrise', 'over', 'the', 'mountains', '.']\n",
      "['Mr. sun rises in the east, and it sets in the west.', 'Many people enjoy watching the sunrise over the mountains.']\n",
      "['Mr.', 'sun', 'rises', 'in', 'the', 'east', 'and', 'it', 'sets', 'in', 'the', 'west', 'Many', 'people', 'enjoy', 'watching', 'the', 'sunrise', 'over', 'the', 'mountains']\n",
      "['sun', 'rises', 'in', 'the', 'east', 'and', 'it', 'sets', 'in', 'the', 'west', 'Many', 'people', 'enjoy', 'watching', 'the', 'sunrise', 'over', 'the', 'mountains']\n",
      "['i', 'me', 'my', 'myself', 'we', 'our', 'ours', 'ourselves', 'you', \"you're\", \"you've\", \"you'll\", \"you'd\", 'your', 'yours', 'yourself', 'yourselves', 'he', 'him', 'his', 'himself', 'she', \"she's\", 'her', 'hers', 'herself', 'it', \"it's\", 'its', 'itself', 'they', 'them', 'their', 'theirs', 'themselves', 'what', 'which', 'who', 'whom', 'this', 'that', \"that'll\", 'these', 'those', 'am', 'is', 'are', 'was', 'were', 'be', 'been', 'being', 'have', 'has', 'had', 'having', 'do', 'does', 'did', 'doing', 'a', 'an', 'the', 'and', 'but', 'if', 'or', 'because', 'as', 'until', 'while', 'of', 'at', 'by', 'for', 'with', 'about', 'against', 'between', 'into', 'through', 'during', 'before', 'after', 'above', 'below', 'to', 'from', 'up', 'down', 'in', 'out', 'on', 'off', 'over', 'under', 'again', 'further', 'then', 'once', 'here', 'there', 'when', 'where', 'why', 'how', 'all', 'any', 'both', 'each', 'few', 'more', 'most', 'other', 'some', 'such', 'no', 'nor', 'not', 'only', 'own', 'same', 'so', 'than', 'too', 'very', 's', 't', 'can', 'will', 'just', 'don', \"don't\", 'should', \"should've\", 'now', 'd', 'll', 'm', 'o', 're', 've', 'y', 'ain', 'aren', \"aren't\", 'couldn', \"couldn't\", 'didn', \"didn't\", 'doesn', \"doesn't\", 'hadn', \"hadn't\", 'hasn', \"hasn't\", 'haven', \"haven't\", 'isn', \"isn't\", 'ma', 'mightn', \"mightn't\", 'mustn', \"mustn't\", 'needn', \"needn't\", 'shan', \"shan't\", 'shouldn', \"shouldn't\", 'wasn', \"wasn't\", 'weren', \"weren't\", 'won', \"won't\", 'wouldn', \"wouldn't\"]\n",
      "['sun', 'rises', 'east', 'sets', 'west', 'many', 'people', 'enjoy', 'watching', 'sunrise', 'mountains']\n"
     ]
    }
   ],
   "source": [
    "from nltk import word_tokenize, sent_tokenize\n",
    "from nltk.corpus import stopwords\n",
    "from string import punctuation\n",
    "\n",
    "# stopwords.words(what_language)\n",
    "eng_stopwords = stopwords.words('english')\n",
    "\n",
    "text = \"Mr. sun rises in the east, and it sets in the west. Many people enjoy watching the sunrise over the mountains.\"\n",
    "\n",
    "\n",
    "tokenized = word_tokenize(text)\n",
    "\n",
    "filtered_punctuation = [word for word in tokenized if word not in punctuation]\n",
    "removed_nonalpha = [word for word in filtered_punctuation if word.isalpha()]\n",
    "filtered_stop = [word.lower() for word in removed_nonalpha if word.lower() not in eng_stopwords]\n",
    "# for word in tokenized:\n",
    "#     if word not in punctuation:\n",
    "#         filtered_punctuation.append(word)\n",
    "\n",
    "print(tokenized)\n",
    "\n",
    "tokenized2 = sent_tokenize(text)\n",
    "\n",
    "print(tokenized2)\n",
    "\n",
    "print(filtered_punctuation)\n",
    "\n",
    "print(removed_nonalpha)\n",
    "\n",
    "print(eng_stopwords)\n",
    "\n",
    "print(filtered_stop)"
   ]
  },
  {
   "cell_type": "code",
   "execution_count": null,
   "metadata": {},
   "outputs": [],
   "source": []
  }
 ],
 "metadata": {
  "kernelspec": {
   "display_name": "Python 3",
   "language": "python",
   "name": "python3"
  },
  "language_info": {
   "codemirror_mode": {
    "name": "ipython",
    "version": 3
   },
   "file_extension": ".py",
   "mimetype": "text/x-python",
   "name": "python",
   "nbconvert_exporter": "python",
   "pygments_lexer": "ipython3",
   "version": "3.10.11"
  }
 },
 "nbformat": 4,
 "nbformat_minor": 2
}
