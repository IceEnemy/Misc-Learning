{
 "cells": [
  {
   "cell_type": "code",
   "execution_count": 1,
   "metadata": {},
   "outputs": [],
   "source": [
    "corpus = [\n",
    "    \"Word2Vec is a technique used in natural language processing.\",\n",
    "    \"It learns to represent words in a continuous vector space.\",\n",
    "    \"CBOW and Skip-gram are two primary algorithms used in Word2Vec.\"\n",
    "]"
   ]
  },
  {
   "cell_type": "code",
   "execution_count": 6,
   "metadata": {},
   "outputs": [
    {
     "name": "stdout",
     "output_type": "stream",
     "text": [
      "[('natural', 0.1991206258535385), ('it', 0.17268294095993042), ('used', 0.17019334435462952)]\n"
     ]
    }
   ],
   "source": [
    "from gensim.models import Word2Vec\n",
    "from nltk.tokenize import word_tokenize\n",
    "\n",
    "tokenized_corpus = [word_tokenize(doc.lower()) for doc in corpus]\n",
    "# print(tokenized_corpus)\n",
    "\n",
    "model = Word2Vec(sentences=tokenized_corpus, vector_size=100, window=2, sg=0, min_count=1)\n",
    "# sg = 1 for skip-gram, sg = 0 for CBOW\n",
    "\n",
    "word2vec_v = model.wv['word2vec'] # 'word2vec' is the string we are looking for\n",
    "# print(word2vec_v)\n",
    "\n",
    "similar_words = model.wv.most_similar('word2vec', topn=3)\n",
    "print(similar_words)"
   ]
  },
  {
   "cell_type": "code",
   "execution_count": 8,
   "metadata": {},
   "outputs": [
    {
     "name": "stdout",
     "output_type": "stream",
     "text": [
      "[[0.13812164]\n",
      " [0.83483582]\n",
      " [0.11426571]]\n"
     ]
    }
   ],
   "source": [
    "from sklearn.feature_extraction.text import TfidfVectorizer\n",
    "from sklearn.metrics.pairwise import cosine_similarity\n",
    "import pandas as pd\n",
    "\n",
    "query = \"Word2Vec learns to represent words in a vector space.\"\n",
    "\n",
    "tf_idf = TfidfVectorizer()\n",
    "vector = tf_idf.fit_transform(corpus)\n",
    "\n",
    "# tfidf_df = pd.DataFrame(vector.toarray(), columns=tf_idf.get_feature_names_out())\n",
    "# tfidf_df\n",
    "\n",
    "query_v = tf_idf.transform([query])\n",
    "\n",
    "similarities = cosine_similarity(vector, query_v)\n",
    "\n",
    "print(similarities)"
   ]
  },
  {
   "cell_type": "code",
   "execution_count": null,
   "metadata": {},
   "outputs": [],
   "source": []
  }
 ],
 "metadata": {
  "kernelspec": {
   "display_name": "Python 3",
   "language": "python",
   "name": "python3"
  },
  "language_info": {
   "codemirror_mode": {
    "name": "ipython",
    "version": 3
   },
   "file_extension": ".py",
   "mimetype": "text/x-python",
   "name": "python",
   "nbconvert_exporter": "python",
   "pygments_lexer": "ipython3",
   "version": "3.10.11"
  }
 },
 "nbformat": 4,
 "nbformat_minor": 2
}
