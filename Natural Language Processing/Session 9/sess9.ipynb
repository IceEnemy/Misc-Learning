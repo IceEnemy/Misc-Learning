{
 "cells": [
  {
   "cell_type": "code",
   "execution_count": 1,
   "metadata": {},
   "outputs": [],
   "source": [
    "import nltk\n",
    "from nltk import CFG\n",
    "from nltk.parse import ChartParser"
   ]
  },
  {
   "cell_type": "code",
   "execution_count": 2,
   "metadata": {},
   "outputs": [],
   "source": [
    "nlp_grammar = CFG.fromstring(\"\"\"\n",
    "  S -> NP VP\n",
    "  NP -> Det N | Det N PP | 'i'\n",
    "  VP -> V NP | V NP PP\n",
    "  Det -> 'the' | 'a'\n",
    "  N -> 'cat' | 'dog' | 'park' | 'cookie'\n",
    "  V -> 'saw' | 'ate' | 'chased'\n",
    "  PP -> P NP\n",
    "  P -> 'in' | 'on' | 'with'\n",
    "\"\"\")\n",
    "\n",
    "nlp_sentences = [\n",
    "    \"the cat chased the dog\",\n",
    "    \"i saw a cookie\",\n",
    "    \"the dog ate the cookie in the park\",\n",
    "    \"i chased the cat with the cookie\"\n",
    "]\n"
   ]
  },
  {
   "cell_type": "code",
   "execution_count": 6,
   "metadata": {},
   "outputs": [
    {
     "name": "stdout",
     "output_type": "stream",
     "text": [
      "Sentence 1: the cat chased the dog\n",
      "[Tree('S', [Tree('NP', [Tree('Det', ['the']), Tree('N', ['cat'])]), Tree('VP', [Tree('V', ['chased']), Tree('NP', [Tree('Det', ['the']), Tree('N', ['dog'])])])])]\n",
      "              S               \n",
      "      ________|_____           \n",
      "     |              VP        \n",
      "     |         _____|___       \n",
      "     NP       |         NP    \n",
      "  ___|___     |      ___|___   \n",
      "Det      N    V    Det      N \n",
      " |       |    |     |       |  \n",
      "the     cat chased the     dog\n",
      "\n",
      "\n",
      "\n",
      "Sentence 2: i saw a cookie\n",
      "[Tree('S', [Tree('NP', ['i']), Tree('VP', [Tree('V', ['saw']), Tree('NP', [Tree('Det', ['a']), Tree('N', ['cookie'])])])])]\n",
      "         S                \n",
      "  _______|___              \n",
      " |           VP           \n",
      " |    _______|___          \n",
      " |   |           NP       \n",
      " |   |        ___|____     \n",
      " NP  V      Det       N   \n",
      " |   |       |        |    \n",
      " i  saw      a      cookie\n",
      "\n",
      "\n",
      "\n",
      "Sentence 3: the dog ate the cookie in the park\n",
      "[Tree('S', [Tree('NP', [Tree('Det', ['the']), Tree('N', ['dog'])]), Tree('VP', [Tree('V', ['ate']), Tree('NP', [Tree('Det', ['the']), Tree('N', ['cookie'])]), Tree('PP', [Tree('P', ['in']), Tree('NP', [Tree('Det', ['the']), Tree('N', ['park'])])])])]), Tree('S', [Tree('NP', [Tree('Det', ['the']), Tree('N', ['dog'])]), Tree('VP', [Tree('V', ['ate']), Tree('NP', [Tree('Det', ['the']), Tree('N', ['cookie']), Tree('PP', [Tree('P', ['in']), Tree('NP', [Tree('Det', ['the']), Tree('N', ['park'])])])])])])]\n",
      "                 S                             \n",
      "      ___________|________                      \n",
      "     |                    VP                   \n",
      "     |        ____________|_________            \n",
      "     |       |       |              PP         \n",
      "     |       |       |           ___|___        \n",
      "     NP      |       NP         |       NP     \n",
      "  ___|___    |    ___|____      |    ___|___    \n",
      "Det      N   V  Det       N     P  Det      N  \n",
      " |       |   |   |        |     |   |       |   \n",
      "the     dog ate the     cookie  in the     park\n",
      "\n",
      "\n",
      "\n",
      "Sentence 4: i chased the cat with the cookie\n",
      "[Tree('S', [Tree('NP', ['i']), Tree('VP', [Tree('V', ['chased']), Tree('NP', [Tree('Det', ['the']), Tree('N', ['cat'])]), Tree('PP', [Tree('P', ['with']), Tree('NP', [Tree('Det', ['the']), Tree('N', ['cookie'])])])])]), Tree('S', [Tree('NP', ['i']), Tree('VP', [Tree('V', ['chased']), Tree('NP', [Tree('Det', ['the']), Tree('N', ['cat']), Tree('PP', [Tree('P', ['with']), Tree('NP', [Tree('Det', ['the']), Tree('N', ['cookie'])])])])])])]\n",
      "      S                                   \n",
      "  ____|_____________                       \n",
      " |                  VP                    \n",
      " |     _____________|________              \n",
      " |    |         |            PP           \n",
      " |    |         |        ____|___          \n",
      " |    |         NP      |        NP       \n",
      " |    |      ___|___    |     ___|____     \n",
      " NP   V    Det      N   P   Det       N   \n",
      " |    |     |       |   |    |        |    \n",
      " i  chased the     cat with the     cookie\n",
      "\n",
      "\n",
      "\n"
     ]
    }
   ],
   "source": [
    "def nlp_parsing(sentence, grammar):\n",
    "    words = nltk.word_tokenize(sentence)\n",
    "    parser = ChartParser(grammar)\n",
    "\n",
    "    parse = list(parser.parse(words))\n",
    "    if(parse):\n",
    "        print(parse)\n",
    "        parse[0].pretty_print()\n",
    "        # for tree in parse:\n",
    "        #     tree.pretty_print()\n",
    "        print(\"\\n\")\n",
    "    else:\n",
    "        print(\"No parse found\")\n",
    "\n",
    "for i, sentence in enumerate(nlp_sentences):\n",
    "    print(f\"Sentence {i+1}: {sentence}\")\n",
    "    nlp_parsing(sentence, nlp_grammar)"
   ]
  },
  {
   "cell_type": "code",
   "execution_count": null,
   "metadata": {},
   "outputs": [],
   "source": []
  }
 ],
 "metadata": {
  "kernelspec": {
   "display_name": "Python 3",
   "language": "python",
   "name": "python3"
  },
  "language_info": {
   "codemirror_mode": {
    "name": "ipython",
    "version": 3
   },
   "file_extension": ".py",
   "mimetype": "text/x-python",
   "name": "python",
   "nbconvert_exporter": "python",
   "pygments_lexer": "ipython3",
   "version": "3.10.11"
  }
 },
 "nbformat": 4,
 "nbformat_minor": 2
}
