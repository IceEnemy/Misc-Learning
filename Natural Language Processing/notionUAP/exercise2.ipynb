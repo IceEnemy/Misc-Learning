{
 "cells": [
  {
   "cell_type": "code",
   "execution_count": 22,
   "metadata": {},
   "outputs": [],
   "source": [
    "import nltk\n",
    "import pickle\n",
    "import string\n",
    "import pandas as pd\n",
    "from random import shuffle\n",
    "\n",
    "from nltk import FreqDist\n",
    "from nltk.tokenize import word_tokenize\n",
    "from nltk.stem import PorterStemmer, WordNetLemmatizer\n",
    "from nltk.classify import accuracy\n",
    "from nltk.corpus import stopwords\n",
    "\n",
    "from sklearn.feature_extraction.text import TfidfVectorizer\n",
    "from sklearn.metrics.pairwise import cosine_similarity\n",
    "\n",
    "import spacy\n",
    "import spacy.cli\n",
    "from collections import defaultdict"
   ]
  },
  {
   "cell_type": "code",
   "execution_count": 23,
   "metadata": {},
   "outputs": [
    {
     "name": "stderr",
     "output_type": "stream",
     "text": [
      "[nltk_data] Downloading package punkt to\n",
      "[nltk_data]     C:\\Users\\norbe\\AppData\\Roaming\\nltk_data...\n",
      "[nltk_data]   Package punkt is already up-to-date!\n",
      "[nltk_data] Downloading package stopwords to\n",
      "[nltk_data]     C:\\Users\\norbe\\AppData\\Roaming\\nltk_data...\n",
      "[nltk_data]   Package stopwords is already up-to-date!\n"
     ]
    },
    {
     "data": {
      "text/plain": [
       "True"
      ]
     },
     "execution_count": 23,
     "metadata": {},
     "output_type": "execute_result"
    }
   ],
   "source": [
    "nltk.download(\"punkt\")\n",
    "nltk.download(\"stopwords\")"
   ]
  },
  {
   "cell_type": "code",
   "execution_count": 26,
   "metadata": {},
   "outputs": [
    {
     "data": {
      "text/html": [
       "<div>\n",
       "<style scoped>\n",
       "    .dataframe tbody tr th:only-of-type {\n",
       "        vertical-align: middle;\n",
       "    }\n",
       "\n",
       "    .dataframe tbody tr th {\n",
       "        vertical-align: top;\n",
       "    }\n",
       "\n",
       "    .dataframe thead th {\n",
       "        text-align: right;\n",
       "    }\n",
       "</style>\n",
       "<table border=\"1\" class=\"dataframe\">\n",
       "  <thead>\n",
       "    <tr style=\"text-align: right;\">\n",
       "      <th></th>\n",
       "      <th>restaurant</th>\n",
       "      <th>text</th>\n",
       "      <th>label</th>\n",
       "    </tr>\n",
       "  </thead>\n",
       "  <tbody>\n",
       "    <tr>\n",
       "      <th>0</th>\n",
       "      <td>Restaurant A</td>\n",
       "      <td>Contrary to other reviews, I have zero complai...</td>\n",
       "      <td>positive</td>\n",
       "    </tr>\n",
       "    <tr>\n",
       "      <th>1</th>\n",
       "      <td>Restaurant B</td>\n",
       "      <td>Last summer I had an appointment to get new ti...</td>\n",
       "      <td>negative</td>\n",
       "    </tr>\n",
       "    <tr>\n",
       "      <th>2</th>\n",
       "      <td>Restaurant C</td>\n",
       "      <td>Friendly staff, same starbucks fair you get an...</td>\n",
       "      <td>positive</td>\n",
       "    </tr>\n",
       "    <tr>\n",
       "      <th>3</th>\n",
       "      <td>Restaurant D</td>\n",
       "      <td>The food is good. Unfortunately the service is...</td>\n",
       "      <td>negative</td>\n",
       "    </tr>\n",
       "    <tr>\n",
       "      <th>4</th>\n",
       "      <td>Restaurant E</td>\n",
       "      <td>Even when we didn't have a car Filene's Baseme...</td>\n",
       "      <td>positive</td>\n",
       "    </tr>\n",
       "  </tbody>\n",
       "</table>\n",
       "</div>"
      ],
      "text/plain": [
       "     restaurant                                               text     label\n",
       "0  Restaurant A  Contrary to other reviews, I have zero complai...  positive\n",
       "1  Restaurant B  Last summer I had an appointment to get new ti...  negative\n",
       "2  Restaurant C  Friendly staff, same starbucks fair you get an...  positive\n",
       "3  Restaurant D  The food is good. Unfortunately the service is...  negative\n",
       "4  Restaurant E  Even when we didn't have a car Filene's Baseme...  positive"
      ]
     },
     "execution_count": 26,
     "metadata": {},
     "output_type": "execute_result"
    }
   ],
   "source": [
    "stemmer = PorterStemmer()\n",
    "wnl = WordNetLemmatizer()\n",
    "eng_stopwords = stopwords.words(\"english\")\n",
    "dataset = pd.read_csv('updated_dataset.csv')\n",
    "\n",
    "dataset.head()"
   ]
  },
  {
   "cell_type": "code",
   "execution_count": 27,
   "metadata": {},
   "outputs": [],
   "source": [
    "def preprocessing(doc):\n",
    "    words = word_tokenize(doc.lower())\n",
    "\n",
    "    words = [stemmer.stem(wnl.lemmatize(word)) for word in words]\n",
    "\n",
    "    return {word:True for word in words if word not in eng_stopwords and word not in string.punctuation and word.isalpha()}"
   ]
  },
  {
   "cell_type": "code",
   "execution_count": 46,
   "metadata": {},
   "outputs": [],
   "source": [
    "def trainModel():\n",
    "    feature_sets = [(preprocessing(text), label) for text,label in zip(dataset[\"text\"], dataset[\"label\"])]\n",
    "\n",
    "    shuffle(feature_sets)\n",
    "\n",
    "    idx = int(len(feature_sets) * 0.85)\n",
    "\n",
    "    train_set, test_set = feature_sets[:idx], feature_sets[idx:]\n",
    "\n",
    "    classifier = nltk.NaiveBayesClassifier.train(train_set)\n",
    "\n",
    "    acc = accuracy(classifier,test_set)\n",
    "\n",
    "    print(acc)\n",
    "\n",
    "    classifier.show_most_informative_features(5)\n",
    "\n",
    "    file = open(\"model.pickle\", \"wb\")\n",
    "    pickle.dump(classifier, file)\n",
    "    file.close()\n",
    "\n",
    "    return classifier"
   ]
  },
  {
   "cell_type": "code",
   "execution_count": 34,
   "metadata": {},
   "outputs": [],
   "source": [
    "def readModel():\n",
    "    try:\n",
    "        file = open(\"model.pickle\", \"rb\")\n",
    "        print(\"yay\")\n",
    "        classifier = pickle.load(file)\n",
    "        classifier.show_most_informative_features(5)\n",
    "        file.close()\n",
    "    except:\n",
    "        print(\"nah\")\n",
    "        classifier = trainModel()\n",
    "    return classifier"
   ]
  },
  {
   "cell_type": "code",
   "execution_count": 35,
   "metadata": {},
   "outputs": [],
   "source": [
    "def write():\n",
    "    while True:\n",
    "        review = input(\"Write review [>=2 words]\")\n",
    "\n",
    "        words = review.split()\n",
    "        if len(words) > 1:\n",
    "            print(\"Written\")\n",
    "            return review\n",
    "        else:\n",
    "            print(\"try\")"
   ]
  },
  {
   "cell_type": "code",
   "execution_count": 37,
   "metadata": {},
   "outputs": [],
   "source": [
    "def analyze(classifier, review):\n",
    "    if len(review) == 0:\n",
    "        print(\"empty\")\n",
    "        return\n",
    "    clean_review = [word for word in word_tokenize(review.lower()) if word not in string.punctuation and word not in eng_stopwords and word.isalpha()]\n",
    "    clean_review = [stemmer.stem(wnl.lemmatize(word)) for word in clean_review]\n",
    "\n",
    "    result = classifier.classify(FreqDist(clean_review))\n",
    "    print(f\"Classification: {result}\")\n",
    "    return result"
   ]
  },
  {
   "cell_type": "code",
   "execution_count": 50,
   "metadata": {},
   "outputs": [],
   "source": [
    "def recommend(review):\n",
    "    corpus = dataset[\"text\"]\n",
    "    restaurants = dataset[\"restaurant\"]\n",
    "\n",
    "    tf = TfidfVectorizer()\n",
    "    matrix = tf.fit_transform(corpus)\n",
    "    query = tf.transform([review])\n",
    "\n",
    "    sim = cosine_similarity(matrix, query)\n",
    "\n",
    "    df = pd.DataFrame({\n",
    "        \"Restaurant\": restaurants,\n",
    "        \"Similarity\": sim.flatten()\n",
    "    })\n",
    "\n",
    "    rec = df[df[\"Similarity\"] > 0.3]\n",
    "\n",
    "    top_rec = rec.sort_values(by=\"Similarity\" ,ascending=False).head(10)\n",
    "\n",
    "    return top_rec.reset_index(drop=True)"
   ]
  },
  {
   "cell_type": "code",
   "execution_count": 40,
   "metadata": {},
   "outputs": [
    {
     "name": "stdout",
     "output_type": "stream",
     "text": [
      "CARDINAL : Numerals that do not fall under another type\n",
      "DATE : Absolute or relative dates or periods\n",
      "EVENT : Named hurricanes, battles, wars, sports events, etc.\n",
      "FAC : Buildings, airports, highways, bridges, etc.\n",
      "GPE : Countries, cities, states\n",
      "LANGUAGE : Any named language\n",
      "LAW : Named documents made into laws.\n",
      "LOC : Non-GPE locations, mountain ranges, bodies of water\n",
      "MONEY : Monetary values, including unit\n",
      "NORP : Nationalities or religious or political groups\n",
      "ORDINAL : \"first\", \"second\", etc.\n",
      "ORG : Companies, agencies, institutions, etc.\n",
      "PERCENT : Percentage, including \"%\"\n",
      "PERSON : People, including fictional\n",
      "PRODUCT : Objects, vehicles, foods, etc. (not services)\n",
      "QUANTITY : Measurements, as of weight or distance\n",
      "TIME : Times smaller than a day\n",
      "WORK_OF_ART : Titles of books, songs, etc.\n"
     ]
    }
   ],
   "source": [
    "# spacy.cli.download(\"en_core_web_sm\")\n",
    "\n",
    "nlp = spacy.load(\"en_core_web_sm\")\n",
    "ner_labels = nlp.get_pipe(\"ner\").labels\n",
    "\n",
    "for label in ner_labels:\n",
    "    print(f\"{label} : {spacy.explain(label)}\")"
   ]
  },
  {
   "cell_type": "code",
   "execution_count": 42,
   "metadata": {},
   "outputs": [],
   "source": [
    "def ner():\n",
    "    ce = defaultdict(set)\n",
    "\n",
    "    for review in dataset[\"text\"]:\n",
    "        doc = nlp(review)\n",
    "        for ent in doc.ents:\n",
    "            if ent.label_ in [\"GPE\", \"ORG\", \"LANGUAGE\"]:\n",
    "                ce[ent.label_].add(ent.text)\n",
    "        \n",
    "        print(\"Categorized\")\n",
    "        for category, entities in ce.items():\n",
    "            print(f\"{category}: {', '.join(sorted(entities))}\")"
   ]
  },
  {
   "cell_type": "code",
   "execution_count": 52,
   "metadata": {},
   "outputs": [
    {
     "name": "stdout",
     "output_type": "stream",
     "text": [
      "yay\n",
      "Most Informative Features\n",
      "                 horribl = True           negati : positi =     10.7 : 1.0\n",
      "                 terribl = True           negati : positi =     10.7 : 1.0\n",
      "                  someon = True           negati : positi =      8.7 : 1.0\n",
      "                    sign = True           negati : positi =      8.7 : 1.0\n",
      "                 perfect = True           positi : negati =      7.6 : 1.0\n",
      "Review : No Review\n",
      "Sentiment :  None\n",
      "1. Write\n",
      "2. analuze\n",
      "3. Reco\n",
      "4. NER\n",
      "5. Exit\n",
      "Written\n",
      "Review : Contrary to other reviews, I have zero complaints about the service or the prices. I have been getting tire service here for the past 5 years now, and compared to my experience with places like Pep Boys, these guys are experienced and know what they're doing. \\nAlso, this is one place that I do not feel like I am being taken advantage of, just because of my gender. Other auto mechanics have been notorious for capitalizing on my ignorance of cars, and have sucked my bank account dry. But here, my service and road coverage has all been well explained - and let up to me to decide. \\nAnd they just renovated the waiting room. It looks a lot better than it did in previous years.\n",
      "Sentiment :  None\n",
      "1. Write\n",
      "2. analuze\n",
      "3. Reco\n",
      "4. NER\n",
      "5. Exit\n",
      "Recommended\n",
      "1: Restaurant A\n",
      "Sim: 0.9999999999999999\n",
      "Review : Contrary to other reviews, I have zero complaints about the service or the prices. I have been getting tire service here for the past 5 years now, and compared to my experience with places like Pep Boys, these guys are experienced and know what they're doing. \\nAlso, this is one place that I do not feel like I am being taken advantage of, just because of my gender. Other auto mechanics have been notorious for capitalizing on my ignorance of cars, and have sucked my bank account dry. But here, my service and road coverage has all been well explained - and let up to me to decide. \\nAnd they just renovated the waiting room. It looks a lot better than it did in previous years.\n",
      "Sentiment :  None\n",
      "1. Write\n",
      "2. analuze\n",
      "3. Reco\n",
      "4. NER\n",
      "5. Exit\n"
     ]
    }
   ],
   "source": [
    "if __name__ == \"__main__\":\n",
    "    classifier = readModel()\n",
    "\n",
    "    review = \"\"\n",
    "\n",
    "    sentiment = \"\"\n",
    "\n",
    "    while True:\n",
    "        print(\"Review :\", \"No Review\" if len(review) == 0 else review)\n",
    "        print(\"Sentiment : \", \"None\" if len(sentiment)== 0 else sentiment)\n",
    "        print(\"1. Write\")\n",
    "        print(\"2. analuze\")\n",
    "        print(\"3. Reco\")\n",
    "        print(\"4. NER\")\n",
    "        print(\"5. Exit\")\n",
    "\n",
    "        choice = int(input(\">>\"))\n",
    "\n",
    "        if choice == 1:\n",
    "            review = write()\n",
    "        elif choice == 2:\n",
    "            analyze(classifier, review)\n",
    "        elif choice == 3:\n",
    "            if review:\n",
    "                rec = recommend(review)\n",
    "                print(\"Recommended\")\n",
    "                if rec.empty:\n",
    "                    print(\"No\")\n",
    "                else:\n",
    "                    for idx, row in rec.iterrows():\n",
    "                        print(f\"{idx+1}: {row['Restaurant']}\")\n",
    "                        print(f\"Sim: {row['Similarity']}\")\n",
    "            else:\n",
    "                print(\"Write\")\n",
    "        elif choice == 4:\n",
    "            ner()\n",
    "        elif choice == 5:\n",
    "            break\n",
    "        else:\n",
    "            print(\"No\")\n"
   ]
  },
  {
   "cell_type": "code",
   "execution_count": null,
   "metadata": {},
   "outputs": [],
   "source": []
  }
 ],
 "metadata": {
  "kernelspec": {
   "display_name": "Python 3",
   "language": "python",
   "name": "python3"
  },
  "language_info": {
   "codemirror_mode": {
    "name": "ipython",
    "version": 3
   },
   "file_extension": ".py",
   "mimetype": "text/x-python",
   "name": "python",
   "nbconvert_exporter": "python",
   "pygments_lexer": "ipython3",
   "version": "3.10.11"
  }
 },
 "nbformat": 4,
 "nbformat_minor": 2
}
