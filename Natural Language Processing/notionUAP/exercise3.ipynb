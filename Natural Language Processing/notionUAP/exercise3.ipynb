{
 "cells": [
  {
   "cell_type": "code",
   "execution_count": 1,
   "metadata": {},
   "outputs": [],
   "source": [
    "import nltk\n",
    "import string\n",
    "import pandas as pd\n",
    "import pickle\n",
    "from random import shuffle\n",
    "\n",
    "from nltk import FreqDist\n",
    "from nltk.classify import accuracy\n",
    "from nltk.tokenize import word_tokenize\n",
    "from nltk.stem import PorterStemmer, WordNetLemmatizer\n",
    "from nltk.corpus import stopwords\n",
    "\n",
    "from sklearn.feature_extraction.text import TfidfVectorizer\n",
    "from sklearn.metrics.pairwise import cosine_similarity\n",
    "\n",
    "import spacy\n",
    "import spacy.cli\n",
    "from collections import defaultdict"
   ]
  },
  {
   "cell_type": "code",
   "execution_count": 2,
   "metadata": {},
   "outputs": [
    {
     "name": "stderr",
     "output_type": "stream",
     "text": [
      "[nltk_data] Downloading package punkt to\n",
      "[nltk_data]     C:\\Users\\norbe\\AppData\\Roaming\\nltk_data...\n",
      "[nltk_data]   Package punkt is already up-to-date!\n",
      "[nltk_data] Downloading package stopwords to\n",
      "[nltk_data]     C:\\Users\\norbe\\AppData\\Roaming\\nltk_data...\n",
      "[nltk_data]   Package stopwords is already up-to-date!\n"
     ]
    },
    {
     "data": {
      "text/plain": [
       "True"
      ]
     },
     "execution_count": 2,
     "metadata": {},
     "output_type": "execute_result"
    }
   ],
   "source": [
    "nltk.download(\"punkt\")\n",
    "nltk.download(\"stopwords\")"
   ]
  },
  {
   "cell_type": "code",
   "execution_count": 3,
   "metadata": {},
   "outputs": [
    {
     "data": {
      "text/html": [
       "<div>\n",
       "<style scoped>\n",
       "    .dataframe tbody tr th:only-of-type {\n",
       "        vertical-align: middle;\n",
       "    }\n",
       "\n",
       "    .dataframe tbody tr th {\n",
       "        vertical-align: top;\n",
       "    }\n",
       "\n",
       "    .dataframe thead th {\n",
       "        text-align: right;\n",
       "    }\n",
       "</style>\n",
       "<table border=\"1\" class=\"dataframe\">\n",
       "  <thead>\n",
       "    <tr style=\"text-align: right;\">\n",
       "      <th></th>\n",
       "      <th>restaurant</th>\n",
       "      <th>text</th>\n",
       "      <th>label</th>\n",
       "    </tr>\n",
       "  </thead>\n",
       "  <tbody>\n",
       "    <tr>\n",
       "      <th>0</th>\n",
       "      <td>Restaurant A</td>\n",
       "      <td>Contrary to other reviews, I have zero complai...</td>\n",
       "      <td>positive</td>\n",
       "    </tr>\n",
       "    <tr>\n",
       "      <th>1</th>\n",
       "      <td>Restaurant B</td>\n",
       "      <td>Last summer I had an appointment to get new ti...</td>\n",
       "      <td>negative</td>\n",
       "    </tr>\n",
       "    <tr>\n",
       "      <th>2</th>\n",
       "      <td>Restaurant C</td>\n",
       "      <td>Friendly staff, same starbucks fair you get an...</td>\n",
       "      <td>positive</td>\n",
       "    </tr>\n",
       "    <tr>\n",
       "      <th>3</th>\n",
       "      <td>Restaurant D</td>\n",
       "      <td>The food is good. Unfortunately the service is...</td>\n",
       "      <td>negative</td>\n",
       "    </tr>\n",
       "    <tr>\n",
       "      <th>4</th>\n",
       "      <td>Restaurant E</td>\n",
       "      <td>Even when we didn't have a car Filene's Baseme...</td>\n",
       "      <td>positive</td>\n",
       "    </tr>\n",
       "  </tbody>\n",
       "</table>\n",
       "</div>"
      ],
      "text/plain": [
       "     restaurant                                               text     label\n",
       "0  Restaurant A  Contrary to other reviews, I have zero complai...  positive\n",
       "1  Restaurant B  Last summer I had an appointment to get new ti...  negative\n",
       "2  Restaurant C  Friendly staff, same starbucks fair you get an...  positive\n",
       "3  Restaurant D  The food is good. Unfortunately the service is...  negative\n",
       "4  Restaurant E  Even when we didn't have a car Filene's Baseme...  positive"
      ]
     },
     "execution_count": 3,
     "metadata": {},
     "output_type": "execute_result"
    }
   ],
   "source": [
    "stemmer = PorterStemmer()\n",
    "wnl = WordNetLemmatizer()\n",
    "\n",
    "eng_stopwords = stopwords.words(\"english\")\n",
    "dataset = pd.read_csv(\"updated_dataset.csv\")\n",
    "dataset.head()"
   ]
  },
  {
   "cell_type": "code",
   "execution_count": 4,
   "metadata": {},
   "outputs": [],
   "source": [
    "def preprocessing(doc):\n",
    "    words = [stemmer.stem(wnl.lemmatize(word)) for word in word_tokenize(doc.lower())]\n",
    "\n",
    "    return {word:True for word in words if word not in string.punctuation and word not in eng_stopwords and word.isalpha()}"
   ]
  },
  {
   "cell_type": "code",
   "execution_count": 5,
   "metadata": {},
   "outputs": [],
   "source": [
    "def trainModel():\n",
    "    feature_sets = [(preprocessing(text), label) for text,label in zip(dataset['text'], dataset['label'])]\n",
    "\n",
    "    shuffle(feature_sets)\n",
    "\n",
    "    idx = int(len(feature_sets) * 0.85)\n",
    "\n",
    "    train_set, test_set = feature_sets[:idx], feature_sets[idx:]\n",
    "\n",
    "    classifier = nltk.NaiveBayesClassifier.train(train_set)\n",
    "\n",
    "    acc = accuracy(classifier, test_set)\n",
    "    print(acc)\n",
    "\n",
    "    classifier.show_most_informative_features(5)\n",
    "\n",
    "    file = open('model.pickle', \"wb\")\n",
    "    pickle.dump(classifier, file)\n",
    "    file.close()"
   ]
  },
  {
   "cell_type": "code",
   "execution_count": 6,
   "metadata": {},
   "outputs": [],
   "source": [
    "def readModel():\n",
    "    try:\n",
    "        file = open('model.pickle', \"rb\")\n",
    "        classifier = pickle.load(file)\n",
    "        classifier.show_most_informative_features(5)\n",
    "        file.close()\n",
    "    except:\n",
    "        classifier = trainModel()\n",
    "    return classifier"
   ]
  },
  {
   "cell_type": "code",
   "execution_count": 7,
   "metadata": {},
   "outputs": [],
   "source": [
    "def write():\n",
    "    while True:\n",
    "        review = input(\">=2\")\n",
    "\n",
    "        words = review.split()\n",
    "\n",
    "        if len(words) > 1:\n",
    "            return review\n",
    "        print(\"bruh\")"
   ]
  },
  {
   "cell_type": "code",
   "execution_count": 19,
   "metadata": {},
   "outputs": [],
   "source": [
    "def analyze(classifier, review):\n",
    "    if len(review) == 0:\n",
    "        print(\"no review\")\n",
    "        return \"\"\n",
    "\n",
    "    clean_review = [word for word in word_tokenize(review) if word not in string.punctuation and word not in eng_stopwords and word.isalpha()]\n",
    "    clean_review = [stemmer.stem(wnl.lemmatize(word)) for word in clean_review]\n",
    "\n",
    "    result = classifier.classify(FreqDist(clean_review))\n",
    "    print(f\"Classification: {result}\")\n",
    "\n",
    "    return result"
   ]
  },
  {
   "cell_type": "code",
   "execution_count": 24,
   "metadata": {},
   "outputs": [],
   "source": [
    "def rec(review):\n",
    "    corpus = dataset[\"text\"]\n",
    "    restaurant = dataset[\"restaurant\"]\n",
    "\n",
    "    tf = TfidfVectorizer()\n",
    "    matrix = tf.fit_transform(corpus)\n",
    "    query = tf.transform([review])\n",
    "\n",
    "    sim = cosine_similarity(matrix, query)\n",
    "\n",
    "    df = pd.DataFrame({\n",
    "        \"restaurant\": restaurant,\n",
    "        \"similarity\": sim.flatten()\n",
    "    })\n",
    "\n",
    "    rec = df[df[\"similarity\"] > 0.3]\n",
    "\n",
    "    top_rec = rec.sort_values(by=\"similarity\", ascending=False).head(10)\n",
    "\n",
    "    return top_rec.reset_index(drop=True)"
   ]
  },
  {
   "cell_type": "code",
   "execution_count": 10,
   "metadata": {},
   "outputs": [
    {
     "name": "stdout",
     "output_type": "stream",
     "text": [
      "CARDINAL: Numerals that do not fall under another type\n",
      "DATE: Absolute or relative dates or periods\n",
      "EVENT: Named hurricanes, battles, wars, sports events, etc.\n",
      "FAC: Buildings, airports, highways, bridges, etc.\n",
      "GPE: Countries, cities, states\n",
      "LANGUAGE: Any named language\n",
      "LAW: Named documents made into laws.\n",
      "LOC: Non-GPE locations, mountain ranges, bodies of water\n",
      "MONEY: Monetary values, including unit\n",
      "NORP: Nationalities or religious or political groups\n",
      "ORDINAL: \"first\", \"second\", etc.\n",
      "ORG: Companies, agencies, institutions, etc.\n",
      "PERCENT: Percentage, including \"%\"\n",
      "PERSON: People, including fictional\n",
      "PRODUCT: Objects, vehicles, foods, etc. (not services)\n",
      "QUANTITY: Measurements, as of weight or distance\n",
      "TIME: Times smaller than a day\n",
      "WORK_OF_ART: Titles of books, songs, etc.\n"
     ]
    }
   ],
   "source": [
    "nlp = spacy.load('en_core_web_sm')\n",
    "ner_labels = nlp.get_pipe('ner').labels\n",
    "\n",
    "for label in ner_labels:\n",
    "    print(f\"{label}: {spacy.explain(label)}\")"
   ]
  },
  {
   "cell_type": "code",
   "execution_count": 28,
   "metadata": {},
   "outputs": [],
   "source": [
    "def ner():\n",
    "    ce = defaultdict(set)\n",
    "\n",
    "    for review in dataset['text']:\n",
    "        doc = nlp(review)\n",
    "        for ent in doc.ents:\n",
    "            if ent.label_ in [\"GPE\", \"ORG\", \"LANGUAGE\"]:\n",
    "                ce[ent.label_].add(ent.text)\n",
    "    \n",
    "    print(\"CNE:\")\n",
    "    for cat, ent in ce.items():\n",
    "        print(f\"{cat}: {', '.join(sorted(ent))}\")\n"
   ]
  },
  {
   "cell_type": "code",
   "execution_count": 25,
   "metadata": {},
   "outputs": [
    {
     "name": "stdout",
     "output_type": "stream",
     "text": [
      "Most Informative Features\n",
      "                 perfect = True           positi : negati =     14.2 : 1.0\n",
      "                 terribl = True           negati : positi =     13.1 : 1.0\n",
      "                 horribl = True           negati : positi =     10.6 : 1.0\n",
      "                  receiv = True           negati : positi =      8.0 : 1.0\n",
      "                 disgust = True           negati : positi =      6.7 : 1.0\n",
      "Review:  No Review\n",
      "Sentiment:  None\n",
      "1. Write\n",
      "2. an\n",
      "3. rec\n",
      "4. NER\n",
      "5. Exit\n",
      "Review:  Contrary to other reviews, I have zero complaints about the service or the prices. I have been getting tire service here for the past 5 years now, and compared to my experience with places like Pep Boys, these guys are experienced and know what they're doing. \\nAlso, this is one place that I do not feel like I am being taken advantage of, just because of my gender. Other auto mechanics have been notorious for capitalizing on my ignorance of cars, and have sucked my bank account dry. But here, my service and road coverage has all been well explained - and let up to me to decide. \\nAnd they just renovated the waiting room. It looks a lot better than it did in previous years.\n",
      "Sentiment:  None\n",
      "1. Write\n",
      "2. an\n",
      "3. rec\n",
      "4. NER\n",
      "5. Exit\n",
      "Recommendations!\n",
      "1: Restaurant A\n",
      "Similarity: 0.9999999999999999\n",
      "Review:  Contrary to other reviews, I have zero complaints about the service or the prices. I have been getting tire service here for the past 5 years now, and compared to my experience with places like Pep Boys, these guys are experienced and know what they're doing. \\nAlso, this is one place that I do not feel like I am being taken advantage of, just because of my gender. Other auto mechanics have been notorious for capitalizing on my ignorance of cars, and have sucked my bank account dry. But here, my service and road coverage has all been well explained - and let up to me to decide. \\nAnd they just renovated the waiting room. It looks a lot better than it did in previous years.\n",
      "Sentiment:  None\n",
      "1. Write\n",
      "2. an\n",
      "3. rec\n",
      "4. NER\n",
      "5. Exit\n",
      "CNE\n",
      "GPE: 4th Ward, A.M., Armageddon, Atlanta, Automatic, BRGR, Baku, Becky, Belk, Belmont, Bloomfield, Boston, Brighton Heights, Brooklyn, California, Camden, Casbah, Center City, Charlotte, Chicago, Cleveland, Corona, D.C., Detroit, Donkey Kong, Dormont, Downtown, Downtown Pittsburgh, Duran, Fieno, Florida, Germany, Hmmmmm, Horrifically, Houston, Husband, Hyatt, Italy, Izzazu, Japan, KP, Koh Samui Thailand, LA, Logan, London, Maine, Marriott, Matthews, Mexico, Mimosa, Minneapolis, Monets, Monroe, Monroeville, NC, NY, Naan, Netflix, New Hampshire, New Hampshire's, New Haven, New York, Nice, North Carolina, North Davidson, Oakland, PIttsburgh, Panama city, Panera, Pennsylvania, Penzeys, Pineville, Pirates, Pittsburg, Pittsburgh, Portsmouth, Portugal, QC, Qdoba, Queen City, Quran, Rangoon, Robitussin, Roland, Sake2Me, Salisbury, Salsa, Salsarita, San Diego, Sancholi, Seattle, Shadyside, Singapore, South Charlotte, South Hills, Squirrel Hill, Strong, TOTALLY, Texas, Tonya, Trivia, Tyber Creek, US, Unagi, University City, Unos, Upstream, Uptown, Uruguay, Us, Verizon, Vienna, Vietnam, Virginia, Walnut Street, Walterboro, Waterfront, West Busway, West View, West bumble-, Wilkinson, Wuhan, Yelp, ZERO, \\\"\"special\\, bar\\, beers.\\n+, better.\\n\\nOh, charlotte, extra.\\n\\nHowever, hoisin, kick.\\n\\nAll, kinda, lassi, london, manhattan, meals--, piggy, pittsburgh, positive5, products--, shopping.\\n\\nWe, skin.\\n\\nIn, south hills, the Chicken Parm, the Strip District, wakey\n",
      "ORG: 2negativepositivepositive.\\n\\nThe University of Pittsburgh, 5th St., 7negative, 7negative%, AAMCO, ABV, AGAIN, ALWAYS, ARL, ASAP, AT&T, ATM, AWFUL, Air Hockey, Al Miike's, Amanda, Amazon, Anhueser Busch B.S. Lots, Apple TV, Applebee's &, Aveda, Avis/Budget, Awesome, BBB, BBQ, BBQ Brisket, BCF, BED, BIG Celtics, BJ, BK, BYOB, Baked Beans, Barbecue, Barbers, Barnes & Noble, Battleship, Belly Dancers, Belly Dancing, Best Cheesecake, Betos, Betty, Big Burrito, Big Mac, Bloody Mary's!\\n\\nPerfect, Bloomin, Blues, Bobcat, Brat, Breakfast, Brioche French Toast, Brixx, Broc, Brooks Brothers, Brueggers, Buffet, Burger King, Burlington Coat Factory, CA, CARD, CAT5, CHEAP, CLT, CT, CVS, Capital Grille, Caramel, Carnegie Mellon University, Carolina Appliance Service, Carolina Place, Cezannes, Charlotte & a W, Charlotte-Douglas, Cheers, Cheesehead, Chef's, Chevy, Chicken, Chicken Ranch Club, Chicken Teriyaki &, China Express, China Palace, Choice Hotels, Christmas.\\nWe, Christmas?\\n\\nThe, Coalfire, Coffee, Cornbread, Cornbread & Fried Pickles, Courtyard, Curly Schnitzel, Customs, D&B, DQ, Dairy Queen, Dean of Shadyside, DiFara's, Diet, Disney World, Doughnuts, Downstream, Duck Confit, Duke, ENORMOUS, ESPN, Eleven Female, Euphoric, Excellent service\\n- Extremely, F&H, FANTASTIC red sauce, Fairpoint, Fairpoint Communications, Feast, File, Fiore, Fiori, Firehouse, First Ward, Fitness Connection, Flemings, FoodNetwork, Foosball, Frame, Front, Front Desk Staff, Funds Availability, Funds Availability Policy, Getaway, Giant Eagle, Google, Google Offers, Gregory, Guinness, HINT, HOHO, HOUSE, Halcyon, Mimosa Grille, Halva, Specialty Pita Pies, Harney, Harper, Harpers, Hecks, Heinz, Hertz, Hertz Gold, Honda, ICU, IMHO, IMMEDIATELY, INCREDIBLE, IP, Independence Boulevard, Insipid, Italiano, Jack & Coke, Jameson, Jeanie, K-Mart, KTM, Keste, Kia, Kmart, Korean BBQ sauce &, LCD TV, LEFT, LOL, LOT, LOUSY, La Prima, LaGuardia, Little Caesar's, Lufthansa, MALL, MCN, Mason, Max's Allegheny Tavern, McDonald's, Melissa & I, Men's, Mert, Merts Heart & Soul, Modern Salon, Mom & Pop, Mozart Management Staff, NEVER, NJ, NPR, NY, NYC, NYE, NYer, Nakato, News Break, NoDa, OG, Oakland.\\n\\nThe Port Authority's, Omni, Open Table, PATransit, PGH, PNC Park, Pac-Man, Page, Panda, Parmesan Herb Crusted Chicken, Pasta, Pasta Fazoo, Penn Mac, Persian Hot Tea, Phillips Place, Pineapple, Pistachio, Rose Water and Saffron, Pitt/Oakland, Pittsburgh &, Pizza, Pizza Hut, Port Authority, Potato Gnocchi, Price, Primanti, Primanti Bros., Primate Bros., Public Utility Commission, Queens Feast Restaurant, Quick, REALLY, RUDE RUDE RUDE, Recommend, Red Box, Red Sox, Regularly, Reyna Foods, Ritz, Rock Bottom Brewery, Rohrich Toyota, SCRAPED, SOFA, STL, Saks, Schenley Arms, Schnitzel, Sea Scallops & Octopus and Duck Confit, Sears, Shadyside, Showmars, Shrimp, Shut Up & Sing Sing, Simpsons, Sit, Sons, Springhill, Starbucks, Steeler, Sub Corral, Swissvale, Sysco \\\"\"meat,\\, TJ Maxx, TMJ, TSA, TWC, TaiPei, Target, Target/IKEA, Tasha, Tastee Freeze, Tessaro, Thai House, The Cheesecake Factory, The Renaissance Hotel, The US Airways Lounge, Theatre, Tiffany, Time Warner, Time Warner Cable, Tomaso, Total Strength, Tram, Tryon, Tues/Thurs/Sat, Twizzlers, US Airways, Uptown Retreat, Usually Entertaining, Vancouver BC, Vanilla Pastry Shop, WAY, WMATA, WONDERFUL, WORST, WOW, WTF, Waffle House, Waldhorn, Walmart, Walnut, Wendy's, Westin, Whole Foods, Wiener Schnitzel, Wood, Wrong & wrong again &, YESTERDAY, YMCA, YUCK, Yelp, Yelpers, \\\"\"Best, \\\"\"Bill's Burgers &, \\\"\"I, \\\"\"Mama, \\\"\"Miss Pat\\\"\"--another, \\\"\"US, \\\"\"Urban, \\\"\"i, \\\"\"we, \\n\\nCopper, \\n\\nGood food, \\n\\nMax, \\n\\nPrice, \\n\\nTessaro, \\nservice, a Steel Dynasty, awhile ago &, bread).\\n\\nWe, caramel, chile pepper, complimentary.\\n\\nNot, cooked.\\nDISAPPOINTING, crab & lots, crab & tomato, entree, & tiramisu, free bagel & cream, fun!\\n\\nPersian Ice Cream, greenery, it.\\n\\n- Broccoli, noisy, positive2, positive5, positive5th, sec, shop towels, smashing--, taco plate, the Betchlor Museum, the Blue Line Lynx, the Blue Petit Mignon, the Boyd & Blair, the Bronx Bomber, the Byham Theatre, the Capital Grille, the Clams Casino, the Crab Feast, the Creme Brulee, the Fairfield Inns, the Forest Room, the General Tso's, the Harris Theater, the Joe Q. Publics, the Lemon Grass Cafe, the Lobster Mac N, the Lobster Roll, the Midwife Center, the Old Fishmarket, the Onion Rings, the Original Fish Market, the People's Special Biryani, the Pineapple Stoli Doli, the Pittsburgh International Airport, the Porcini Rubbed Delmonico Ribeye, the Port Authority, the Red Alert, the Shrimp Cocktail and Wagyu Beef Carpaccio, the Smallman Street Fries, the Spicy Chicken, the Tuscan Salad, the University Area, the Wiener Schnitzel, the Women's Fitness Center, the big burrito company, the fish sandwich &, the food selection & quality, un-clean, uptown.\\n\\nI'm, vegetarian burrito, whack.\\\n",
      "Review:  Contrary to other reviews, I have zero complaints about the service or the prices. I have been getting tire service here for the past 5 years now, and compared to my experience with places like Pep Boys, these guys are experienced and know what they're doing. \\nAlso, this is one place that I do not feel like I am being taken advantage of, just because of my gender. Other auto mechanics have been notorious for capitalizing on my ignorance of cars, and have sucked my bank account dry. But here, my service and road coverage has all been well explained - and let up to me to decide. \\nAnd they just renovated the waiting room. It looks a lot better than it did in previous years.\n",
      "Sentiment:  None\n",
      "1. Write\n",
      "2. an\n",
      "3. rec\n",
      "4. NER\n",
      "5. Exit\n"
     ]
    }
   ],
   "source": [
    "if __name__ == \"__main__\":\n",
    "    classifier = readModel()\n",
    "\n",
    "    review = \"\"\n",
    "\n",
    "    sentiment = \"\"\n",
    "\n",
    "    while True:\n",
    "        print(\"Review: \", \"No Review\" if len(review) == 0 else review)\n",
    "        print(\"Sentiment: \", \"None\" if len(sentiment) == 0 else sentiment)\n",
    "        print(\"1. Write\")\n",
    "        print(\"2. an\")\n",
    "        print(\"3. rec\")\n",
    "        print(\"4. NER\")\n",
    "        print(\"5. Exit\")\n",
    "\n",
    "        choice = int(input(\">>\"))\n",
    "\n",
    "        if choice == 1:\n",
    "            review = write()\n",
    "        elif choice == 2:\n",
    "            sentiment = analyze(classifier, review)\n",
    "        elif choice == 3:\n",
    "            if review:\n",
    "                recommendations = rec(review)\n",
    "                print(\"Recommendations!\")\n",
    "                if recommendations.empty:\n",
    "                    print(\"No\")\n",
    "                else:\n",
    "                    for idx, row in recommendations.iterrows():\n",
    "                        print(f\"{idx+1}: {row['restaurant']}\")\n",
    "                        print(f\"Similarity: {row['similarity']}\")\n",
    "            else:\n",
    "                print(\"write a review\")\n",
    "        elif choice == 4:\n",
    "            ner()\n",
    "        elif choice == 5:\n",
    "            break\n",
    "        else:\n",
    "            print(\"Choose\")"
   ]
  },
  {
   "cell_type": "code",
   "execution_count": null,
   "metadata": {},
   "outputs": [],
   "source": []
  }
 ],
 "metadata": {
  "kernelspec": {
   "display_name": "Python 3",
   "language": "python",
   "name": "python3"
  },
  "language_info": {
   "codemirror_mode": {
    "name": "ipython",
    "version": 3
   },
   "file_extension": ".py",
   "mimetype": "text/x-python",
   "name": "python",
   "nbconvert_exporter": "python",
   "pygments_lexer": "ipython3",
   "version": "3.10.11"
  }
 },
 "nbformat": 4,
 "nbformat_minor": 2
}
