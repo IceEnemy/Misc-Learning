{
 "cells": [
  {
   "cell_type": "code",
   "execution_count": 1,
   "metadata": {},
   "outputs": [],
   "source": [
    "import nltk\n",
    "import pickle\n",
    "import string\n",
    "import pandas as pd\n",
    "from random import shuffle\n",
    "\n",
    "from nltk.tokenize import word_tokenize\n",
    "from nltk.classify import accuracy\n",
    "from nltk import FreqDist\n",
    "from nltk.corpus import stopwords\n",
    "from nltk.stem import PorterStemmer, WordNetLemmatizer\n",
    "\n",
    "from sklearn.feature_extraction.text import TfidfVectorizer\n",
    "from sklearn.metrics.pairwise import cosine_similarity\n",
    "\n",
    "import spacy\n",
    "import spacy.cli\n",
    "from collections import defaultdict"
   ]
  },
  {
   "cell_type": "code",
   "execution_count": 2,
   "metadata": {},
   "outputs": [
    {
     "name": "stderr",
     "output_type": "stream",
     "text": [
      "[nltk_data] Downloading package punkt to\n",
      "[nltk_data]     C:\\Users\\norbe\\AppData\\Roaming\\nltk_data...\n",
      "[nltk_data]   Package punkt is already up-to-date!\n",
      "[nltk_data] Downloading package stopwords to\n",
      "[nltk_data]     C:\\Users\\norbe\\AppData\\Roaming\\nltk_data...\n",
      "[nltk_data]   Package stopwords is already up-to-date!\n"
     ]
    },
    {
     "data": {
      "text/plain": [
       "True"
      ]
     },
     "execution_count": 2,
     "metadata": {},
     "output_type": "execute_result"
    }
   ],
   "source": [
    "nltk.download(\"punkt\")\n",
    "nltk.download(\"stopwords\")"
   ]
  },
  {
   "cell_type": "code",
   "execution_count": 3,
   "metadata": {},
   "outputs": [
    {
     "data": {
      "text/html": [
       "<div>\n",
       "<style scoped>\n",
       "    .dataframe tbody tr th:only-of-type {\n",
       "        vertical-align: middle;\n",
       "    }\n",
       "\n",
       "    .dataframe tbody tr th {\n",
       "        vertical-align: top;\n",
       "    }\n",
       "\n",
       "    .dataframe thead th {\n",
       "        text-align: right;\n",
       "    }\n",
       "</style>\n",
       "<table border=\"1\" class=\"dataframe\">\n",
       "  <thead>\n",
       "    <tr style=\"text-align: right;\">\n",
       "      <th></th>\n",
       "      <th>restaurant</th>\n",
       "      <th>text</th>\n",
       "      <th>label</th>\n",
       "    </tr>\n",
       "  </thead>\n",
       "  <tbody>\n",
       "    <tr>\n",
       "      <th>0</th>\n",
       "      <td>Restaurant A</td>\n",
       "      <td>Contrary to other reviews, I have zero complai...</td>\n",
       "      <td>positive</td>\n",
       "    </tr>\n",
       "    <tr>\n",
       "      <th>1</th>\n",
       "      <td>Restaurant B</td>\n",
       "      <td>Last summer I had an appointment to get new ti...</td>\n",
       "      <td>negative</td>\n",
       "    </tr>\n",
       "    <tr>\n",
       "      <th>2</th>\n",
       "      <td>Restaurant C</td>\n",
       "      <td>Friendly staff, same starbucks fair you get an...</td>\n",
       "      <td>positive</td>\n",
       "    </tr>\n",
       "    <tr>\n",
       "      <th>3</th>\n",
       "      <td>Restaurant D</td>\n",
       "      <td>The food is good. Unfortunately the service is...</td>\n",
       "      <td>negative</td>\n",
       "    </tr>\n",
       "    <tr>\n",
       "      <th>4</th>\n",
       "      <td>Restaurant E</td>\n",
       "      <td>Even when we didn't have a car Filene's Baseme...</td>\n",
       "      <td>positive</td>\n",
       "    </tr>\n",
       "  </tbody>\n",
       "</table>\n",
       "</div>"
      ],
      "text/plain": [
       "     restaurant                                               text     label\n",
       "0  Restaurant A  Contrary to other reviews, I have zero complai...  positive\n",
       "1  Restaurant B  Last summer I had an appointment to get new ti...  negative\n",
       "2  Restaurant C  Friendly staff, same starbucks fair you get an...  positive\n",
       "3  Restaurant D  The food is good. Unfortunately the service is...  negative\n",
       "4  Restaurant E  Even when we didn't have a car Filene's Baseme...  positive"
      ]
     },
     "execution_count": 3,
     "metadata": {},
     "output_type": "execute_result"
    }
   ],
   "source": [
    "stemmer = PorterStemmer()\n",
    "wnl = WordNetLemmatizer()\n",
    "eng_stopwords = stopwords.words(\"english\")\n",
    "\n",
    "dataset = pd.read_csv(\"updated_dataset.csv\")\n",
    "dataset.head()"
   ]
  },
  {
   "cell_type": "code",
   "execution_count": 4,
   "metadata": {},
   "outputs": [],
   "source": [
    "def preprocess(doc):\n",
    "    words = [stemmer.stem(wnl.lemmatize(word)) for word in word_tokenize(doc.lower())]\n",
    "\n",
    "    return {word:True for word in words if word not in string.punctuation and word not in eng_stopwords and word.isalpha()}"
   ]
  },
  {
   "cell_type": "code",
   "execution_count": 5,
   "metadata": {},
   "outputs": [],
   "source": [
    "def trainModel():\n",
    "    feature_sets = [(preprocess(text), label) for text,label in zip(dataset['text'], dataset['label'])]\n",
    "\n",
    "    shuffle(feature_sets)\n",
    "\n",
    "    idx = int(len(feature_sets * 0.85))\n",
    "\n",
    "    train_set, test_set = feature_sets[:idx], feature_sets[idx:]\n",
    "\n",
    "    classifier = nltk.NaiveBayesClassifier.train(train_set)\n",
    "\n",
    "    acc = accuracy(classifier,test_set)\n",
    "\n",
    "    print(acc)\n",
    "\n",
    "    classifier.show_most_informative_features(5)\n",
    "\n",
    "    file = open('model.pickle', \"wb\")\n",
    "    pickle.dump(classifier, file)\n",
    "    file.close()\n",
    "\n",
    "    return classifier"
   ]
  },
  {
   "cell_type": "code",
   "execution_count": 6,
   "metadata": {},
   "outputs": [],
   "source": [
    "def readModel():\n",
    "    try:\n",
    "        file = open('model.pickle', \"rb\")\n",
    "        classifier = pickle.load(file)\n",
    "        classifier.show_most_informative_features(5)\n",
    "        file.close()\n",
    "    except:\n",
    "        classifier = trainModel()\n",
    "    return classifier"
   ]
  },
  {
   "cell_type": "code",
   "execution_count": 7,
   "metadata": {},
   "outputs": [],
   "source": [
    "def write():\n",
    "    while True:\n",
    "        review = input(\">=\")\n",
    "\n",
    "        words = review.split()\n",
    "\n",
    "        if len(words) > 1:\n",
    "            return review\n",
    "        print(\"try again\")"
   ]
  },
  {
   "cell_type": "code",
   "execution_count": 13,
   "metadata": {},
   "outputs": [],
   "source": [
    "def analyze(classifier, review):\n",
    "    if len(review) == 0:\n",
    "        print(\"no review\")\n",
    "        return \"\"\n",
    "    clean_review = [stemmer.stem(wnl.lemmatize(word)) for word in word_tokenize(review.lower()) if word not in string.punctuation and word not in eng_stopwords and word.isalpha()]\n",
    "\n",
    "    result = classifier.classify(FreqDist(clean_review))\n",
    "\n",
    "    print(\"Sentiment:\", result)\n",
    "\n",
    "    return result"
   ]
  },
  {
   "cell_type": "code",
   "execution_count": 9,
   "metadata": {},
   "outputs": [],
   "source": [
    "def rec(review):\n",
    "    corpus = dataset['text']\n",
    "    restaurants = dataset['restaurant']\n",
    "\n",
    "    tf = TfidfVectorizer()\n",
    "    matrix = tf.fit_transform(corpus)\n",
    "    query = tf.transform([review])\n",
    "\n",
    "    sim = cosine_similarity(matrix, query)\n",
    "\n",
    "    df = pd.DataFrame({\n",
    "        'restaurant': restaurants,\n",
    "        'similarity': sim.flatten()\n",
    "    })\n",
    "\n",
    "    rec = df[df['similarity'] > 0.3]\n",
    "\n",
    "    top_rec = rec.sort_values(by='similarity', ascending=False).head(10)\n",
    "\n",
    "    return top_rec.reset_index(drop=True)"
   ]
  },
  {
   "cell_type": "code",
   "execution_count": 10,
   "metadata": {},
   "outputs": [
    {
     "name": "stdout",
     "output_type": "stream",
     "text": [
      "CARDINAL: Numerals that do not fall under another type\n",
      "DATE: Absolute or relative dates or periods\n",
      "EVENT: Named hurricanes, battles, wars, sports events, etc.\n",
      "FAC: Buildings, airports, highways, bridges, etc.\n",
      "GPE: Countries, cities, states\n",
      "LANGUAGE: Any named language\n",
      "LAW: Named documents made into laws.\n",
      "LOC: Non-GPE locations, mountain ranges, bodies of water\n",
      "MONEY: Monetary values, including unit\n",
      "NORP: Nationalities or religious or political groups\n",
      "ORDINAL: \"first\", \"second\", etc.\n",
      "ORG: Companies, agencies, institutions, etc.\n",
      "PERCENT: Percentage, including \"%\"\n",
      "PERSON: People, including fictional\n",
      "PRODUCT: Objects, vehicles, foods, etc. (not services)\n",
      "QUANTITY: Measurements, as of weight or distance\n",
      "TIME: Times smaller than a day\n",
      "WORK_OF_ART: Titles of books, songs, etc.\n"
     ]
    }
   ],
   "source": [
    "nlp = spacy.load('en_core_web_sm')\n",
    "ner_labels = nlp.get_pipe('ner').labels\n",
    "\n",
    "for label in ner_labels:\n",
    "    print(f\"{label}: {spacy.explain(label)}\")"
   ]
  },
  {
   "cell_type": "code",
   "execution_count": 11,
   "metadata": {},
   "outputs": [],
   "source": [
    "def ner():\n",
    "    ce = defaultdict(set)\n",
    "\n",
    "    for review in dataset['text']:\n",
    "        doc = nlp(review)\n",
    "        for ent in doc.ents:\n",
    "            ce[ent.label_].add(ent.text)\n",
    "    \n",
    "    print(\"CNE:\")\n",
    "    for cat, ent in ce.items():\n",
    "        print(f\"{cat}: {', '.join(sorted(ent))}\")"
   ]
  },
  {
   "cell_type": "code",
   "execution_count": 14,
   "metadata": {},
   "outputs": [
    {
     "name": "stdout",
     "output_type": "stream",
     "text": [
      "Most Informative Features\n",
      "                 perfect = True           positi : negati =     14.2 : 1.0\n",
      "                 terribl = True           negati : positi =     13.1 : 1.0\n",
      "                 horribl = True           negati : positi =     10.6 : 1.0\n",
      "                  receiv = True           negati : positi =      8.0 : 1.0\n",
      "                 disgust = True           negati : positi =      6.7 : 1.0\n",
      "Review:  No Review\n",
      "Sentiment:  None\n",
      "1. Write\n",
      "2. an\n",
      "3. rec\n",
      "4. NER\n",
      "5. Exit\n",
      "Review:  Contrary to other reviews, I have zero complaints about the service or the prices. I have been getting tire service here for the past 5 years now, and compared to my experience with places like Pep Boys, these guys are experienced and know what they're doing. \\nAlso, this is one place that I do not feel like I am being taken advantage of, just because of my gender. Other auto mechanics have been notorious for capitalizing on my ignorance of cars, and have sucked my bank account dry. But here, my service and road coverage has all been well explained - and let up to me to decide. \\nAnd they just renovated the waiting room. It looks a lot better than it did in previous years.\n",
      "Sentiment:  None\n",
      "1. Write\n",
      "2. an\n",
      "3. rec\n",
      "4. NER\n",
      "5. Exit\n",
      "Sentiment: positive\n",
      "Review:  Contrary to other reviews, I have zero complaints about the service or the prices. I have been getting tire service here for the past 5 years now, and compared to my experience with places like Pep Boys, these guys are experienced and know what they're doing. \\nAlso, this is one place that I do not feel like I am being taken advantage of, just because of my gender. Other auto mechanics have been notorious for capitalizing on my ignorance of cars, and have sucked my bank account dry. But here, my service and road coverage has all been well explained - and let up to me to decide. \\nAnd they just renovated the waiting room. It looks a lot better than it did in previous years.\n",
      "Sentiment:  positive\n",
      "1. Write\n",
      "2. an\n",
      "3. rec\n",
      "4. NER\n",
      "5. Exit\n",
      "Recommendations!\n",
      "1: Restaurant A\n",
      "Similarity: 0.9999999999999999\n",
      "Review:  Contrary to other reviews, I have zero complaints about the service or the prices. I have been getting tire service here for the past 5 years now, and compared to my experience with places like Pep Boys, these guys are experienced and know what they're doing. \\nAlso, this is one place that I do not feel like I am being taken advantage of, just because of my gender. Other auto mechanics have been notorious for capitalizing on my ignorance of cars, and have sucked my bank account dry. But here, my service and road coverage has all been well explained - and let up to me to decide. \\nAnd they just renovated the waiting room. It looks a lot better than it did in previous years.\n",
      "Sentiment:  positive\n",
      "1. Write\n",
      "2. an\n",
      "3. rec\n",
      "4. NER\n",
      "5. Exit\n",
      "Recommendations!\n",
      "1: Restaurant A\n",
      "Similarity: 0.9999999999999999\n",
      "Review:  Contrary to other reviews, I have zero complaints about the service or the prices. I have been getting tire service here for the past 5 years now, and compared to my experience with places like Pep Boys, these guys are experienced and know what they're doing. \\nAlso, this is one place that I do not feel like I am being taken advantage of, just because of my gender. Other auto mechanics have been notorious for capitalizing on my ignorance of cars, and have sucked my bank account dry. But here, my service and road coverage has all been well explained - and let up to me to decide. \\nAnd they just renovated the waiting room. It looks a lot better than it did in previous years.\n",
      "Sentiment:  positive\n",
      "1. Write\n",
      "2. an\n",
      "3. rec\n",
      "4. NER\n",
      "5. Exit\n",
      "CNE:\n",
      "CARDINAL: 2, 2.5, 2/3, 2:3negative, 2negative, 2negative%, 2negativenegativepositive, 2negativepositive4, 2negativepositivenegative\\n\\nRIP, 2negativepositivepositive\\, 2x, 3, 3.5, 3.negativepositive%, 3/4, 39.95, 3negative, 3negativeminutes, 3ozs, 4, 4.5, 4negative, 4negatives, 4th.\\n\\nBeen, 5, 5+++, 57, 59negativenegative, 5:3negativepm, 5:45pm, 5negative, 5negativenegativeth, 6, 6negative, 7, 79, 8, 8 or, 8:3negative, 8:45pm, 8negative, 9, 9/2, 96, 9negative, 9negative%, Around 9, FIVE, Five, Homestead.\\n\\nIf, ONE, One, Only two, Six, TWO, Three, Twenty, Two, ZERO, \\\"\"Are, \\\"\"your, \\n\\nPlace - two, a dozen, a half dozen, a hundred, about 2.75, about 25, about 2negative, about 3, about 4, about 6, about 75, about 8, about 9negative%, about half, almost 36, around 9, at least 2, at least 3, at least one, between 4 and 5, dozens, eight, first!!\\n\\nWe, five, four, half, hundreds, maybe half a dozen, merly 6, more than  half a dozen, more than 2negative%, more than 3, more than half, no more than 2-3 minutes, one, only 2, only 3, only four, only one, only two, six, three, three to four, topping.\\, trillions, two, two 4, zero\n",
      "DATE: 2 months, 2 weeks, 2 year, 28X, 3 days later, 3 months later, 3 years ago, 3:3negativeAM, 3negative+ year old, 5 days later, 6 year old, 7 years, 9negativenegative+ a month, A week, A year later, April, April 5th, August, Christmas, December, Friday, Fridays, Funday, June 2negativenegative7, Last summer, Last weekend, March, March-October, May, Monday, Mondays, November 8, One day, Roland, Saturday, Saturdays, September, Spring, Sunday, Sundays, Thanksgiving, This Valentines Day, This week, Thursday, Thursdays, Today, Tuesday, Tuesday, July 3rd, Wednesday, Wednesdays, Years ago, Years later, a couple nights ago, a couple of weeks, a couple of weeks ago, a couple weeks, a day, a few days later, a few months ago, a few months later, a few nights ago, a few weekends ago, a few weeks ago, a few years, a full day, a holiday week end, a hot day, a long day, a long weekend, a month, a month ago, a week, a year and a half ago, about 3negative days, about 5 years, about day to day, about positive5 years, about three years ago, almost 2negative years, an early day, annual, another five years, at least 6 months, at least positivenegative days, between seasons, century 3, daily, days, delicious.\\n\\nI'd, dinner.\\n\\nOur, earlier this year, early in the day, four years, four years in a row, game days, half-full, just 2 weeks, just under 2 years, last week, last year, last years, later that week, many many years, mid-March, mid-twenties, minutes ago, monthly, more bad days, my first two years, new years, next season, not\\nconsider, one day, only a year, previous years, recent months, recent years, roughly 4 years, saturday, several days, several days ago, several weeks, some nights, some time ago, spring, spring 2negativepositivenegative, ten years, that day, that week, the day, the days, the early 9negative's, the end of October, the end of the day, the end of the month, the end of the month was a weekend, the end of the season, the fifties, the first business day of the month, the first half, the humid summer, the last five years, the last year or so, the middle of the week, the next Saturday, the next day, the next special occasion!!!!\\n  :-D, the past 5 years, the past two years, the past years, the positivest year, the restaurant week, the season, the seventies, the spring, the summer, the week, the weekend, the weekends, the winter, the worst days, the years, these days, thirteen some odd years, this Christmas, this Christmas season, this month, this past Tuesday, this past summer, this past weekend, this week, this year, today, two days, two days later, two more years, two plus months, two weeks, two years, understatement.\\n\\nFriday, weekday, weekly, winter, years, yesterday\n",
      "TIME: 24 hours, 25 minutes, 2negative minute, 2negative minutes, 2negative minutes half, 2negative-3negative minutes, 3 and 4 a.m., 3 hours, 35 minute, 3negative minutes, 3pm, 4 hours, 45 minutes, 4negative minutes, 5 hours, 5 minutes, 5 minutes later, 5 pm, 5pm, 6:3negative, 7 PM, 8pm, 9:3negative pm, 9am, Last Thursday, Monday night, Saturday night, The next morning, Tonight, Wednesday night, \\n\\nForty minutes later, a bad afternoon, a busy night, a couple hours, a couple minutes, a couple nights, a couple of nights ago, a few hours, a few minutes, a few more minutes, a few second, a good night's, a hour, a hour and a half, a late night, a little before noon, a long night, a night, a random night, a trivia night, about 3 hours, about 3 pm, about 3negative minutes, about 5 minutes, about an hour, about fifteen minutes, about positive2 noon, about positive5 minutes, about positivenegative minutes, afternoon, all night, almost 25 minutes, almost 3 hours, almost an hour, an hour, an hour and twenty minutes, an off night, another 2negative minutes, another positive5 minutes, around 35 minutes, at least 3negative minutes, at least 3negative-45 minutes, at least an hour, early in the afternoon, early in the evening, evening, every 5 minutes, every few minutes, every half hour, every minute, five minutes, hour, hours, just positive5 minutes, last minute, last night, late night hours, later in the evening, less than 45 minutes, mid afternoon, mid-afternoon, mid-morning, midnight, minutes, minutes later, more than a few minutes, morning, most 2 seconds, nearly an hour, nearly three hours, next morning, night, nights, noon, one night, opening night, overnight, positive5 minutes, positive5 minutes later, positivenegative+ minutes, roughly 2negative minutes, several hours, several minutes, that night, that particular afternoon, the first five minutes, the last minute, the morning, the night, this evening, this morning, this past Saturday, three nights, tonight, twenty minutes, two hours, winter night, ~positive5-2negative minutes\n",
      "PERSON: Al Mike's, Al Mikes, Alexander Michael's, Alexander Michael's!\\n\\nParking, Alice Springs Chicken, Aloo Gobi, Andrew Treanor, Antwan, Appetizer, Arancini, Avocado, BBB, BBQ, BED BUGS, Baba Ghannouj, Baingan Bartha, Becky s salad, Beef Kabob, Being Cajun, Bernardin, Bi-Lo, Billy Joel's, Blah, Blerim Meta, Bloody Mary, Bob Marley, Bohn, Booooooo, Boy, Brad, Britney Spears, Bronz, Btw, Bush Hog - everything, Cafe Zinho, Cajun Chicken, Campiti, Carolina BBQ, Caroline, Chang, Chef Drew, Chicken, Chicken Pad Thai, Chicken Palak, Chilli Chicken, Chris, Coca Cafe, Cod, Connolly, Consistent Awesomeness, Craig, Craving Thai-ish, Crown Royal, Curious Traveler Shandy, Curry, Custom Tattoo's, Dale Jarrett, Dale Jarrett Kia, Dave, Dave S.  , Davis, Dean, Decent McDonalds, Deluca, Diane, Diavola, Diego, Dixie, Doc, Domino, Dowd, Dude, Econo Lodge, Eel, Elias, Eric, Erika, Fairpoint, Filene, Fillmore, Folger Kia, Frank, Freddie Fu, Fu, Gabriel Brothers, Gene Sane, Gene Sanes, Generals Chicken, George Costanza, Gerry, Giant Eagle, Glad, Glenlivet, Golden Razor, Gorgonzola, Granted, Great, Grille, Groupon, Harper, Harris Grill, Harris Teeter, Harris Teeter Hoagie, Hartigan, Hertz Charlotte, Hotwire, Hoummus Dip, Hyatt, Hyde Park, Il Pizzaiolo, Instagram, Iron Pork-I, JFK, Jamba Juice, Jay, Jeanie, Jeff, Jekyll and Hyde, Jenn, Jerk Chicken Sandwich, Jesus Christ, Jimmy Wan's, Joey, Joey Vernon, John Mayer, Josh Plummer, Josie, Judy, Justin Bieber, Kara, Katie, Kickboxing, Kindles, Kristen, Lemme, Lettuce, Linda, Linguini Alfredo, Loaded, Lobster Rolls, Luce, Luciano, Lunch, Mac, Maharani, Malibu Rum, Mancini, Mani, Mark-Pi.\\n\\nP.S., Marshall, Martha Stewart, Matinee, Matt, Matt Terry, Matthews, Max, Mbps down/5 Mbps, Mcd, Meh, Meredith Cameron, Mert, Michael, Michael Jordan, Mickey D's, Miguel, Mike K. - for, Mike Melton, Mimosa, Mineo, Mm mm, Mmm, Moo Shoo Pork, Moon Patrol, Morton, Mozart, Musashi, Mushroom Tortelloni, Mussels, Nicolette, Okayyyyyy, Ontario Walleye, Oscar, P.T. Barnum, Pace, Pad Thai, Paella Latorre, Page, Pamela, Parmesan Herb Crusted Chicken, Pasta, Paul, Paulie Gs, Pepe, Pepper, Personality, Phil, Pho, Pho Tai, Pitt, Prestogeorge, Primanti, Quiches, Quiznos, Raised, Ramon, Rare, Red Alert, Redfin Blues, Ri Ra, Roadhouse Grill, Rock Bottom, Rocky Horror, Roland, Ross, Ruth, Ruth Chris, Ryan Hunt, Salami, Salmon, Salonika, Sam, Sam Bok, Sandwhich, Sauteed Spinach, Shelf, Shopping, Silky, Simard, Sing Sing, Springhill Suites, Sriracha, Started, Steelers, Steve, Stewart, Store, Strawberry Banana, Strawberry Napoleons, Stupid Lufthansa, Sweet, Tamari, Tasty, Ted, Thai Cuisine, Thai Cuisine:\\n\\na, This Bi-Lo, Tikka Masala, Tim Walter's, Tom Yum, Tomato, Torah, Toto, Tracy, Trader Joe's, Trams, Tso, Tuna, Tuna Steak, Turns, Upstream, Valencia, Van Goghs, Vegas, Vocelli, Walnut, Wan, Westin Charlotte, Whaaaat, Wholleys, WiFi, Winghart, Worth, Yuck, Zapata, \\\"\"It, \\\"\"Sorry, \\\"\"Well, \\\"\"comfort food\\, \\\"\"off\\, \\nIt, \\nNo, \\nWe, \\n\\n-Ian M., \\n\\n-Ruth's, \\n\\nFood, \\n\\nI'd, \\n\\nIs Matt's, \\n\\nStick, a Bloody Mary, average.\\n\\nWith, back.\\\"\"\\n\\nIt, bagel coupons, be!!\\n\\nIt, boo, cookin'.\\n\\nThen, crispy tacos, dips.\\n\\nMy, extras, gopitt, gym attendant, hair, hell.\\n\\nFor, here!\\, info.......oldest bar, it.\\nI'm, kinda, lu lu noodles, mani, max, meaty, mmm mmm, mung bean, place!\\n\\nEggs, positive2, positive2.\\n\\nI, positive3, positive5, positive7, positive8, positivenegative% zucchini, positivenegativenegative.negativenegative+, salami, sammie, sigh...., the Pho Tai, there.\\n\\nMy, uggggh, veggie pita, yogurts, yuck\n",
      "MONEY: $2 - $3, $4 dollars, $42/dozen, $6negative \\nWi, $positive7 bucks, .65, 2, 2 bucks, 2 dollar, 2 dollars, 2.5negative, 2.75, 2.negativenegative, 25, 25 cents, 25negative, 29.95, 2negative, 2negativenegative\\n\\nI, 3.52, 3.5negative, 33.5negative, 35, 35 dollar, 36, 3negative, 4, 4.5negative, 4.95\\n\\nLosing, 4negative, 4negativenegative, 5, 5 bucks, 5 dollar, 55, 5negative, 6.22, 6.5negative, 6.negativenegative/pop, 65, 6negative, 6negativenegative+, 7, 7.95, 75, 8.99).\\n\\nThe, 8negativenegative, 9, 9.5negative, 99 cent, XXX, about $4negative, about $6negative, almost 2negative bucks, an additional $25, around $2negative, fifty cents, hundreds of dollars, just $5, just over $4negativenegative, less than $, less than $positivenegativenegative, only #2, only $3, only $5, over $, over $2negative/day, over $3negativenegativenegative, thousands of dollars\n",
      "GPE: 4th Ward, A.M., Armageddon, Atlanta, Automatic, BRGR, Baku, Becky, Belk, Belmont, Bloomfield, Boston, Brighton Heights, Brooklyn, California, Camden, Casbah, Center City, Charlotte, Chicago, Cleveland, Corona, D.C., Detroit, Donkey Kong, Dormont, Downtown, Downtown Pittsburgh, Duran, Fieno, Florida, Germany, Hmmmmm, Horrifically, Houston, Husband, Hyatt, Italy, Izzazu, Japan, KP, Koh Samui Thailand, LA, Logan, London, Maine, Marriott, Matthews, Mexico, Mimosa, Minneapolis, Monets, Monroe, Monroeville, NC, NY, Naan, Netflix, New Hampshire, New Hampshire's, New Haven, New York, Nice, North Carolina, North Davidson, Oakland, PIttsburgh, Panama city, Panera, Pennsylvania, Penzeys, Pineville, Pirates, Pittsburg, Pittsburgh, Portsmouth, Portugal, QC, Qdoba, Queen City, Quran, Rangoon, Robitussin, Roland, Sake2Me, Salisbury, Salsa, Salsarita, San Diego, Sancholi, Seattle, Shadyside, Singapore, South Charlotte, South Hills, Squirrel Hill, Strong, TOTALLY, Texas, Tonya, Trivia, Tyber Creek, US, Unagi, University City, Unos, Upstream, Uptown, Uruguay, Us, Verizon, Vienna, Vietnam, Virginia, Walnut Street, Walterboro, Waterfront, West Busway, West View, West bumble-, Wilkinson, Wuhan, Yelp, ZERO, \\\"\"special\\, bar\\, beers.\\n+, better.\\n\\nOh, charlotte, extra.\\n\\nHowever, hoisin, kick.\\n\\nAll, kinda, lassi, london, manhattan, meals--, piggy, pittsburgh, positive5, products--, shopping.\\n\\nWe, skin.\\n\\nIn, south hills, the Chicken Parm, the Strip District, wakey\n",
      "ORG: 2negativepositivepositive.\\n\\nThe University of Pittsburgh, 5th St., 7negative, 7negative%, AAMCO, ABV, AGAIN, ALWAYS, ARL, ASAP, AT&T, ATM, AWFUL, Air Hockey, Al Miike's, Amanda, Amazon, Anhueser Busch B.S. Lots, Apple TV, Applebee's &, Aveda, Avis/Budget, Awesome, BBB, BBQ, BBQ Brisket, BCF, BED, BIG Celtics, BJ, BK, BYOB, Baked Beans, Barbecue, Barbers, Barnes & Noble, Battleship, Belly Dancers, Belly Dancing, Best Cheesecake, Betos, Betty, Big Burrito, Big Mac, Bloody Mary's!\\n\\nPerfect, Bloomin, Blues, Bobcat, Brat, Breakfast, Brioche French Toast, Brixx, Broc, Brooks Brothers, Brueggers, Buffet, Burger King, Burlington Coat Factory, CA, CARD, CAT5, CHEAP, CLT, CT, CVS, Capital Grille, Caramel, Carnegie Mellon University, Carolina Appliance Service, Carolina Place, Cezannes, Charlotte & a W, Charlotte-Douglas, Cheers, Cheesehead, Chef's, Chevy, Chicken, Chicken Ranch Club, Chicken Teriyaki &, China Express, China Palace, Choice Hotels, Christmas.\\nWe, Christmas?\\n\\nThe, Coalfire, Coffee, Cornbread, Cornbread & Fried Pickles, Courtyard, Curly Schnitzel, Customs, D&B, DQ, Dairy Queen, Dean of Shadyside, DiFara's, Diet, Disney World, Doughnuts, Downstream, Duck Confit, Duke, ENORMOUS, ESPN, Eleven Female, Euphoric, Excellent service\\n- Extremely, F&H, FANTASTIC red sauce, Fairpoint, Fairpoint Communications, Feast, File, Fiore, Fiori, Firehouse, First Ward, Fitness Connection, Flemings, FoodNetwork, Foosball, Frame, Front, Front Desk Staff, Funds Availability, Funds Availability Policy, Getaway, Giant Eagle, Google, Google Offers, Gregory, Guinness, HINT, HOHO, HOUSE, Halcyon, Mimosa Grille, Halva, Specialty Pita Pies, Harney, Harper, Harpers, Hecks, Heinz, Hertz, Hertz Gold, Honda, ICU, IMHO, IMMEDIATELY, INCREDIBLE, IP, Independence Boulevard, Insipid, Italiano, Jack & Coke, Jameson, Jeanie, K-Mart, KTM, Keste, Kia, Kmart, Korean BBQ sauce &, LCD TV, LEFT, LOL, LOT, LOUSY, La Prima, LaGuardia, Little Caesar's, Lufthansa, MALL, MCN, Mason, Max's Allegheny Tavern, McDonald's, Melissa & I, Men's, Mert, Merts Heart & Soul, Modern Salon, Mom & Pop, Mozart Management Staff, NEVER, NJ, NPR, NY, NYC, NYE, NYer, Nakato, News Break, NoDa, OG, Oakland.\\n\\nThe Port Authority's, Omni, Open Table, PATransit, PGH, PNC Park, Pac-Man, Page, Panda, Parmesan Herb Crusted Chicken, Pasta, Pasta Fazoo, Penn Mac, Persian Hot Tea, Phillips Place, Pineapple, Pistachio, Rose Water and Saffron, Pitt/Oakland, Pittsburgh &, Pizza, Pizza Hut, Port Authority, Potato Gnocchi, Price, Primanti, Primanti Bros., Primate Bros., Public Utility Commission, Queens Feast Restaurant, Quick, REALLY, RUDE RUDE RUDE, Recommend, Red Box, Red Sox, Regularly, Reyna Foods, Ritz, Rock Bottom Brewery, Rohrich Toyota, SCRAPED, SOFA, STL, Saks, Schenley Arms, Schnitzel, Sea Scallops & Octopus and Duck Confit, Sears, Shadyside, Showmars, Shrimp, Shut Up & Sing Sing, Simpsons, Sit, Sons, Springhill, Starbucks, Steeler, Sub Corral, Swissvale, Sysco \\\"\"meat,\\, TJ Maxx, TMJ, TSA, TWC, TaiPei, Target, Target/IKEA, Tasha, Tastee Freeze, Tessaro, Thai House, The Cheesecake Factory, The Renaissance Hotel, The US Airways Lounge, Theatre, Tiffany, Time Warner, Time Warner Cable, Tomaso, Total Strength, Tram, Tryon, Tues/Thurs/Sat, Twizzlers, US Airways, Uptown Retreat, Usually Entertaining, Vancouver BC, Vanilla Pastry Shop, WAY, WMATA, WONDERFUL, WORST, WOW, WTF, Waffle House, Waldhorn, Walmart, Walnut, Wendy's, Westin, Whole Foods, Wiener Schnitzel, Wood, Wrong & wrong again &, YESTERDAY, YMCA, YUCK, Yelp, Yelpers, \\\"\"Best, \\\"\"Bill's Burgers &, \\\"\"I, \\\"\"Mama, \\\"\"Miss Pat\\\"\"--another, \\\"\"US, \\\"\"Urban, \\\"\"i, \\\"\"we, \\n\\nCopper, \\n\\nGood food, \\n\\nMax, \\n\\nPrice, \\n\\nTessaro, \\nservice, a Steel Dynasty, awhile ago &, bread).\\n\\nWe, caramel, chile pepper, complimentary.\\n\\nNot, cooked.\\nDISAPPOINTING, crab & lots, crab & tomato, entree, & tiramisu, free bagel & cream, fun!\\n\\nPersian Ice Cream, greenery, it.\\n\\n- Broccoli, noisy, positive2, positive5, positive5th, sec, shop towels, smashing--, taco plate, the Betchlor Museum, the Blue Line Lynx, the Blue Petit Mignon, the Boyd & Blair, the Bronx Bomber, the Byham Theatre, the Capital Grille, the Clams Casino, the Crab Feast, the Creme Brulee, the Fairfield Inns, the Forest Room, the General Tso's, the Harris Theater, the Joe Q. Publics, the Lemon Grass Cafe, the Lobster Mac N, the Lobster Roll, the Midwife Center, the Old Fishmarket, the Onion Rings, the Original Fish Market, the People's Special Biryani, the Pineapple Stoli Doli, the Pittsburgh International Airport, the Porcini Rubbed Delmonico Ribeye, the Port Authority, the Red Alert, the Shrimp Cocktail and Wagyu Beef Carpaccio, the Smallman Street Fries, the Spicy Chicken, the Tuscan Salad, the University Area, the Wiener Schnitzel, the Women's Fitness Center, the big burrito company, the fish sandwich &, the food selection & quality, un-clean, uptown.\\n\\nI'm, vegetarian burrito, whack.\\\n",
      "NORP: American, Atomic, Beans, Bellini, Brazilian, Canadian, Celtics, Charlotteans, Chinese, Dynamite, Eastern European, FRENCH, Folger, French, German, Greek, Hispanic, Hubbs, Indian, Irish, Italian, Izzazu, Jewish, KEPT, Latin American, Malaysian, Marriott, Mexican, Mortons, Muslim, Muslims, New American, OCLV, Panthers, Peoples 4, Pianos, Point Breeze, Portuguese, Presbyterian, Salmon, Sicilian, Spanish, Stans, Teutonia, Thai, Turkish, Vietnamese, Y., \\\"\"Irish, \\\"\"Kodak, american, asian, caprese, catholic, chinese, creepy, day.\\n\\nMy, delicious.\\n\\nAll, english, french, greek, hairdresser, in\\, indian, italian, japanese, mexican, naans, polish, positive2 Indian, sauce.\\n\\nOur, service.\\n\\nMy, thai, too.\\n\\nThe, vietnamese\n",
      "ORDINAL: 22nd, 2nd, 35th, 3rd, 4th, 5th, First, Second, Secondly, first, second, third\n",
      "FAC: Athletic Conditioning, Bombay Grille, Boyer Street, Camden Yards, Conventional, Days Inn for 2wks, Einstein Bros Bagels, Golden Taipei, Greenville NC, Liberty Street, NC BBQ, Olive Garden, PNC Park, Papa John's, Park Road Shopping Center, Potomac Avenue, Rangoon, Redfin Blues, River Trail, Rock Bottom, Seventh Street Station, Stick, Super Bowl Champs, Yuenglings, job.\\n\\nI, the Brat Nachos, the Charlotte City Club, the Clemente Bridge, the Grand Floridian High Tea\n",
      "PRODUCT: 4:3negativePM, BCF - Check, CA, Cabo, Cajun, Chili, Coke, Creamery, Efficent, Fare, I-77, Luce, Mt.Lebo, Reasonable, Shows, Whole Foods, cole, diet coke, gooey, li'l, week\\\n",
      "LOC: Allegheny Tavern, Capital Grille, Caribbean, Cheddar Bay, China Sea, Europe, Hudson, Macaroon, Mediterranean, NYC, Northern New England, Olive Garden, Ravioli Pecca, River, SmarTrip, SoHo, South, South Park, South Tryon, Southern California, Southpark, Strip, The Dan River, Verizon, Westins, mango, the Cheese Ravioli, the Cultural District, the North Shore, the Tar River, the West Coast\n",
      "WORK_OF_ART: Beef Entree, Dairy Queen, Elbow Room, Giant Fish Sandwich, Jazz Night, Kpositive or Fpositive, Medium Well, No \\\"\"I'm sorry.\\, Olive Garden I, Pear and Gorgonzola, Prohibition, Rack of Lamb, Rare/Medium Rare, Redhook, The Belly Dancing, The Key Shack, \\\"\"Or I\n",
      "QUANTITY: 22-ounce, 3 feet, 3 miles, 3pm, 5 am, 6 OZ STEAK, 9 ounces, A ton, a few feet, a mile, a ton, three afternoons\n",
      "PERCENT: 2.85%, 25%, about 25%\n",
      "EVENT: Black Friday, Cold, Get-Go, Labor Day, Labor Day week, New Year's Eve, New Years Eve, Restaurant Week, Thanksgiving, World Cup, pre-World War II, the 2negativepositive4 Super Bowl, the Belk Bowl, the BoA Stadium\n",
      "LAW: R&B night\n",
      "Review:  Contrary to other reviews, I have zero complaints about the service or the prices. I have been getting tire service here for the past 5 years now, and compared to my experience with places like Pep Boys, these guys are experienced and know what they're doing. \\nAlso, this is one place that I do not feel like I am being taken advantage of, just because of my gender. Other auto mechanics have been notorious for capitalizing on my ignorance of cars, and have sucked my bank account dry. But here, my service and road coverage has all been well explained - and let up to me to decide. \\nAnd they just renovated the waiting room. It looks a lot better than it did in previous years.\n",
      "Sentiment:  positive\n",
      "1. Write\n",
      "2. an\n",
      "3. rec\n",
      "4. NER\n",
      "5. Exit\n"
     ]
    }
   ],
   "source": [
    "if __name__ == \"__main__\":\n",
    "    classifier = readModel()\n",
    "\n",
    "    review = \"\"\n",
    "\n",
    "    sentiment = \"\"\n",
    "\n",
    "    while True:\n",
    "        print(\"Review: \", \"No Review\" if len(review) == 0 else review)\n",
    "        print(\"Sentiment: \", \"None\" if len(sentiment) == 0 else sentiment)\n",
    "        print(\"1. Write\")\n",
    "        print(\"2. an\")\n",
    "        print(\"3. rec\")\n",
    "        print(\"4. NER\")\n",
    "        print(\"5. Exit\")\n",
    "\n",
    "        choice = int(input(\">>\"))\n",
    "\n",
    "        if choice == 1:\n",
    "            review = write()\n",
    "        elif choice == 2:\n",
    "            sentiment = analyze(classifier, review)\n",
    "        elif choice == 3:\n",
    "            if review:\n",
    "                recommendations = rec(review)\n",
    "                print(\"Recommendations!\")\n",
    "                if recommendations.empty:\n",
    "                    print(\"No\")\n",
    "                else:\n",
    "                    for idx, row in recommendations.iterrows():\n",
    "                        print(f\"{idx+1}: {row['restaurant']}\")\n",
    "                        print(f\"Similarity: {row['similarity']}\")\n",
    "            else:\n",
    "                print(\"write a review\")\n",
    "        elif choice == 4:\n",
    "            ner()\n",
    "        elif choice == 5:\n",
    "            break\n",
    "        else:\n",
    "            print(\"Choose\")"
   ]
  },
  {
   "cell_type": "code",
   "execution_count": null,
   "metadata": {},
   "outputs": [],
   "source": []
  }
 ],
 "metadata": {
  "kernelspec": {
   "display_name": "Python 3",
   "language": "python",
   "name": "python3"
  },
  "language_info": {
   "codemirror_mode": {
    "name": "ipython",
    "version": 3
   },
   "file_extension": ".py",
   "mimetype": "text/x-python",
   "name": "python",
   "nbconvert_exporter": "python",
   "pygments_lexer": "ipython3",
   "version": "3.10.11"
  }
 },
 "nbformat": 4,
 "nbformat_minor": 2
}
