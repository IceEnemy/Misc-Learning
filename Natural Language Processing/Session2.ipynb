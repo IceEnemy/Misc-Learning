{
 "cells": [
  {
   "cell_type": "markdown",
   "metadata": {},
   "source": [
    "Stemming -> simplify 1 word from like different words that essentially mean the same (run, ran)"
   ]
  },
  {
   "cell_type": "code",
   "execution_count": 1,
   "metadata": {},
   "outputs": [],
   "source": [
    "import nltk"
   ]
  },
  {
   "cell_type": "code",
   "execution_count": 3,
   "metadata": {},
   "outputs": [
    {
     "name": "stdout",
     "output_type": "stream",
     "text": [
      "Real word: running\n",
      "Porter: run\n",
      "Snowball: run\n",
      "Lancaster: run\n",
      "\n",
      "Real word: runs\n",
      "Porter: run\n",
      "Snowball: run\n",
      "Lancaster: run\n",
      "\n",
      "Real word: runners\n",
      "Porter: runner\n",
      "Snowball: runner\n",
      "Lancaster: run\n",
      "\n",
      "Real word: programming\n",
      "Porter: program\n",
      "Snowball: program\n",
      "Lancaster: program\n",
      "\n",
      "Real word: studies\n",
      "Porter: studi\n",
      "Snowball: studi\n",
      "Lancaster: study\n",
      "\n",
      "Real word: better\n",
      "Porter: better\n",
      "Snowball: better\n",
      "Lancaster: bet\n",
      "\n"
     ]
    }
   ],
   "source": [
    "from nltk.stem import PorterStemmer, SnowballStemmer, LancasterStemmer\n",
    "porter_stemmer = PorterStemmer() # Most commonly used stemmer\n",
    "snowball_stemmer = SnowballStemmer('english') # SnowballStemmer can be used for multiple languages\n",
    "lancaster_stemmer = LancasterStemmer() # More aggressive than the other two\n",
    "\n",
    "words = ['running','runs','runners','programming','studies','better']\n",
    "\n",
    "for word in words:\n",
    "    print(f\"Real word: {word}\")\n",
    "    print(f\"Porter: {porter_stemmer.stem(word)}\")\n",
    "    print(f\"Snowball: {snowball_stemmer.stem(word)}\")\n",
    "    print(f\"Lancaster: {lancaster_stemmer.stem(word)}\")\n",
    "    print()\n",
    "\n"
   ]
  },
  {
   "cell_type": "code",
   "execution_count": 4,
   "metadata": {},
   "outputs": [
    {
     "name": "stderr",
     "output_type": "stream",
     "text": [
      "[nltk_data] Downloading package wordnet to\n",
      "[nltk_data]     C:\\Users\\norbe\\AppData\\Roaming\\nltk_data...\n",
      "[nltk_data]   Package wordnet is already up-to-date!\n"
     ]
    },
    {
     "data": {
      "text/plain": [
       "True"
      ]
     },
     "execution_count": 4,
     "metadata": {},
     "output_type": "execute_result"
    }
   ],
   "source": [
    "# Lemmatization\n",
    "nltk.download('wordnet')"
   ]
  },
  {
   "cell_type": "code",
   "execution_count": 5,
   "metadata": {},
   "outputs": [
    {
     "name": "stdout",
     "output_type": "stream",
     "text": [
      "Real word: running\n",
      "Lemmatizer: running\n",
      "\n",
      "Real word: runs\n",
      "Lemmatizer: run\n",
      "\n",
      "Real word: runners\n",
      "Lemmatizer: runner\n",
      "\n",
      "Real word: programming\n",
      "Lemmatizer: programming\n",
      "\n",
      "Real word: studies\n",
      "Lemmatizer: study\n",
      "\n",
      "Real word: better\n",
      "Lemmatizer: better\n",
      "\n"
     ]
    }
   ],
   "source": [
    "from nltk.stem import WordNetLemmatizer\n",
    "wordnet_lemmatizer = WordNetLemmatizer()\n",
    "\n",
    "# better -> adjective\n",
    "# noun, verb, adverb\n",
    "\n",
    "\n",
    "words = ['running','runs','runners','programming','studies','better']\n",
    "\n",
    "for word in words:\n",
    "    print(f\"Real word: {word}\")\n",
    "    print(f\"Lemmatizer: {wordnet_lemmatizer.lemmatize(word)}\")\n",
    "    print()"
   ]
  },
  {
   "cell_type": "code",
   "execution_count": 7,
   "metadata": {},
   "outputs": [
    {
     "data": {
      "text/plain": [
       "'good'"
      ]
     },
     "execution_count": 7,
     "metadata": {},
     "output_type": "execute_result"
    }
   ],
   "source": [
    "wordnet_lemmatizer.lemmatize('better', pos='a') # 'good' (adjective)"
   ]
  },
  {
   "cell_type": "code",
   "execution_count": 8,
   "metadata": {},
   "outputs": [
    {
     "data": {
      "text/plain": [
       "'fight'"
      ]
     },
     "execution_count": 8,
     "metadata": {},
     "output_type": "execute_result"
    }
   ],
   "source": [
    "wordnet_lemmatizer.lemmatize('fought', pos='v') # 'fight' (verb)"
   ]
  },
  {
   "cell_type": "code",
   "execution_count": 9,
   "metadata": {},
   "outputs": [
    {
     "data": {
      "text/plain": [
       "'cat'"
      ]
     },
     "execution_count": 9,
     "metadata": {},
     "output_type": "execute_result"
    }
   ],
   "source": [
    "wordnet_lemmatizer.lemmatize('cats', pos='n') # 'cat' (noun)"
   ]
  },
  {
   "cell_type": "code",
   "execution_count": 10,
   "metadata": {},
   "outputs": [
    {
     "data": {
      "text/plain": [
       "'quickly'"
      ]
     },
     "execution_count": 10,
     "metadata": {},
     "output_type": "execute_result"
    }
   ],
   "source": [
    "wordnet_lemmatizer.lemmatize('quickly', pos='r') # 'quickly' (adverb)"
   ]
  },
  {
   "cell_type": "code",
   "execution_count": null,
   "metadata": {},
   "outputs": [],
   "source": []
  }
 ],
 "metadata": {
  "kernelspec": {
   "display_name": "Python 3",
   "language": "python",
   "name": "python3"
  },
  "language_info": {
   "codemirror_mode": {
    "name": "ipython",
    "version": 3
   },
   "file_extension": ".py",
   "mimetype": "text/x-python",
   "name": "python",
   "nbconvert_exporter": "python",
   "pygments_lexer": "ipython3",
   "version": "3.10.11"
  }
 },
 "nbformat": 4,
 "nbformat_minor": 2
}
