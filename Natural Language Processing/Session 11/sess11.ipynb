{
 "cells": [
  {
   "cell_type": "code",
   "execution_count": null,
   "metadata": {},
   "outputs": [],
   "source": [
    "text = \"\"\" Artificial Intelligence (AI) is rapidly transforming the world around us. From self-driving cars to virtual assistants like Siri and Alexa, AI is becoming an integral part of our daily lives. Major advancements in machine learning, natural language processing, and computer vision are enabling machines to perform tasks that were once thought to be exclusively human. Companies like Google, Microsoft, and Tesla are heavily investing in AI technologies. However, with great power comes great responsibility. Ethical considerations, such as data privacy and algorithmic bias, have become critical issues in the AI space. Despite challenges, the potential for AI to revolutionize industries such as healthcare, education, and transportation is immense. For example, AI-powered diagnostic tools can identify diseases at an early stage, saving countless lives. Similarly, AI in education can personalize learning experiences to cater to individual student needs. The journey of AI is still in its early stages, and the possibilities are endless. What does the future hold for AI? Only time will tell, but one thing is certain: the impact of AI on society will be profound. \"\"\""
   ]
  },
  {
   "cell_type": "code",
   "execution_count": 3,
   "metadata": {},
   "outputs": [],
   "source": [
    "import spacy\n",
    "import spacy.cli"
   ]
  },
  {
   "cell_type": "code",
   "execution_count": 11,
   "metadata": {},
   "outputs": [
    {
     "name": "stdout",
     "output_type": "stream",
     "text": [
      "Categories Named Entities: \n",
      "ORG: Artificial Intelligence, Siri, Alexa, Google, Microsoft, Tesla\n",
      "GPE: AI, AI, AI, AI, AI, AI, AI, AI\n",
      "CARDINAL: one\n"
     ]
    }
   ],
   "source": [
    "nlp = spacy.load(\"en_core_web_sm\")\n",
    "doc = nlp(text)\n",
    "\n",
    "categories = {}\n",
    "\n",
    "for ent in doc.ents:\n",
    "    label = ent.label_\n",
    "    if label not in categories:\n",
    "        categories[label] = []\n",
    "    categories[label].append(ent.text)\n",
    "\n",
    "print(\"Categories Named Entities: \")\n",
    "for label, entities in categories.items():\n",
    "    print(f\"{label}: {', '.join(entities)}\")\n"
   ]
  }
 ],
 "metadata": {
  "kernelspec": {
   "display_name": "Python 3",
   "language": "python",
   "name": "python3"
  },
  "language_info": {
   "codemirror_mode": {
    "name": "ipython",
    "version": 3
   },
   "file_extension": ".py",
   "mimetype": "text/x-python",
   "name": "python",
   "nbconvert_exporter": "python",
   "pygments_lexer": "ipython3",
   "version": "3.10.11"
  }
 },
 "nbformat": 4,
 "nbformat_minor": 2
}
