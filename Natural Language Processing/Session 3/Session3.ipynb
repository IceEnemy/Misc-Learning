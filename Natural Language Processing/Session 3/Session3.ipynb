{
 "cells": [
  {
   "cell_type": "code",
   "execution_count": 2,
   "metadata": {},
   "outputs": [],
   "source": [
    "import nltk"
   ]
  },
  {
   "cell_type": "code",
   "execution_count": 3,
   "metadata": {},
   "outputs": [],
   "source": [
    "text = \"The band will bass the song with the strong bass guitar.\""
   ]
  },
  {
   "cell_type": "code",
   "execution_count": 4,
   "metadata": {},
   "outputs": [
    {
     "name": "stdout",
     "output_type": "stream",
     "text": [
      "['The', 'band', 'will', 'bass', 'the', 'song', 'with', 'the', 'strong', 'bass', 'guitar', '.']\n",
      "['the', 'band', 'will', 'bass', 'the', 'song', 'with', 'the', 'strong', 'bass', 'guitar']\n",
      "[('the', 'DT'), ('band', 'NN'), ('will', 'MD'), ('bass', 'VB'), ('the', 'DT'), ('song', 'NN'), ('with', 'IN'), ('the', 'DT'), ('strong', 'JJ'), ('bass', 'NN'), ('guitar', 'NN')]\n",
      "the : DT\n",
      "band : NN\n",
      "will : MD\n",
      "bass : VB\n",
      "the : DT\n",
      "song : NN\n",
      "with : IN\n",
      "the : DT\n",
      "strong : JJ\n",
      "bass : NN\n",
      "guitar : NN\n"
     ]
    }
   ],
   "source": [
    "#POS Tagginh -> Part of Speech Tagging\n",
    "\n",
    "from nltk import pos_tag, word_tokenize\n",
    "from nltk.probability import FreqDist\n",
    "from string import punctuation\n",
    "\n",
    "# nltk.help.upenn_tagset()\n",
    "\n",
    "tokenized = word_tokenize(text)\n",
    "\n",
    "print(tokenized)\n",
    "\n",
    "removed_punctuation = [word.lower() for word in tokenized if word not in punctuation]\n",
    "\n",
    "print(removed_punctuation)\n",
    "\n",
    "tagged = pos_tag(removed_punctuation)\n",
    "\n",
    "print(tagged)\n",
    "\n",
    "# word : tag\n",
    "\n",
    "for word, tag in tagged:\n",
    "    print(f\"{word} : {tag}\")\n",
    "\n",
    "# NN -> Noun, DT -> Determiner, VB -> Verb, JJ -> Adjective, RB -> Adverb"
   ]
  },
  {
   "cell_type": "code",
   "execution_count": 5,
   "metadata": {},
   "outputs": [
    {
     "name": "stdout",
     "output_type": "stream",
     "text": [
      "[('the', 3), ('bass', 2), ('band', 1), ('will', 1), ('song', 1), ('with', 1), ('strong', 1), ('guitar', 1)]\n",
      "[('the', 3), ('bass', 2), ('band', 1), ('will', 1), ('song', 1)]\n"
     ]
    }
   ],
   "source": [
    "#Frequency Distribution\n",
    "\n",
    "fd = FreqDist(removed_punctuation)\n",
    "\n",
    "print(fd.most_common())\n",
    "print(fd.most_common(5))"
   ]
  },
  {
   "cell_type": "code",
   "execution_count": 6,
   "metadata": {},
   "outputs": [
    {
     "name": "stdout",
     "output_type": "stream",
     "text": [
      "<FreqDist with 8 samples and 11 outcomes>\n"
     ]
    },
    {
     "ename": "",
     "evalue": "",
     "output_type": "error",
     "traceback": [
      "\u001b[1;31mThe Kernel crashed while executing code in the current cell or a previous cell. \n",
      "\u001b[1;31mPlease review the code in the cell(s) to identify a possible cause of the failure. \n",
      "\u001b[1;31mClick <a href='https://aka.ms/vscodeJupyterKernelCrash'>here</a> for more info. \n",
      "\u001b[1;31mView Jupyter <a href='command:jupyter.viewOutput'>log</a> for further details."
     ]
    }
   ],
   "source": [
    "print(fd)"
   ]
  },
  {
   "cell_type": "code",
   "execution_count": null,
   "metadata": {},
   "outputs": [],
   "source": []
  }
 ],
 "metadata": {
  "kernelspec": {
   "display_name": "Python 3",
   "language": "python",
   "name": "python3"
  },
  "language_info": {
   "codemirror_mode": {
    "name": "ipython",
    "version": 3
   },
   "file_extension": ".py",
   "mimetype": "text/x-python",
   "name": "python",
   "nbconvert_exporter": "python",
   "pygments_lexer": "ipython3",
   "version": "3.10.11"
  }
 },
 "nbformat": 4,
 "nbformat_minor": 2
}
