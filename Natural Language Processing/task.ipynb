{
 "cells": [
  {
   "cell_type": "code",
   "execution_count": 1,
   "metadata": {},
   "outputs": [
    {
     "name": "stdout",
     "output_type": "stream",
     "text": [
      "Sentence 1 Tagged:\n",
      "[('I', 'PRP'), ('need', 'VBP'), ('a', 'DT'), ('flight', 'NN'), ('from', 'IN'), ('Atlanta', 'NNP')]\n",
      "\n",
      "Sentence 2 Tagged:\n",
      "[('Does', 'VBZ'), ('this', 'DT'), ('flight', 'NN'), ('serve', 'NN'), ('dinner', 'NN')]\n",
      "\n",
      "Sentence 3 Tagged:\n",
      "[('I', 'PRP'), ('have', 'VBP'), ('a', 'DT'), ('friend', 'NN'), ('living', 'NN'), ('in', 'IN'), ('Denver', 'NNP')]\n",
      "\n",
      "Sentence 4 Tagged:\n",
      "[('Can', 'MD'), ('you', 'PRP'), ('list', 'VB'), ('the', 'DT'), ('nonstop', 'JJ'), ('afternoon', 'NN'), ('flights', 'NNS')]\n",
      "\n"
     ]
    }
   ],
   "source": [
    "import nltk\n",
    "sentences = [\n",
    "    \"I need a flight from Atlanta\",\n",
    "    \"Does this flight serve dinner\",\n",
    "    \"I have a friend living in Denver\",\n",
    "    \"Can you list the nonstop afternoon flights\"\n",
    "]\n",
    "\n",
    "for i, sentence in enumerate(sentences,1):\n",
    "    words = nltk.word_tokenize(sentence)\n",
    "    tagged_words = nltk.pos_tag(words)\n",
    "    print(f\"Sentence {i} Tagged:\")\n",
    "    print(tagged_words)\n",
    "    print()"
   ]
  },
  {
   "cell_type": "code",
   "execution_count": null,
   "metadata": {},
   "outputs": [],
   "source": []
  }
 ],
 "metadata": {
  "kernelspec": {
   "display_name": "Python 3",
   "language": "python",
   "name": "python3"
  },
  "language_info": {
   "codemirror_mode": {
    "name": "ipython",
    "version": 3
   },
   "file_extension": ".py",
   "mimetype": "text/x-python",
   "name": "python",
   "nbconvert_exporter": "python",
   "pygments_lexer": "ipython3",
   "version": "3.10.11"
  }
 },
 "nbformat": 4,
 "nbformat_minor": 2
}
